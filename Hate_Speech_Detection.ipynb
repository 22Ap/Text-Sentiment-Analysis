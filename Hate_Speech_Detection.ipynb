{
  "nbformat": 4,
  "nbformat_minor": 0,
  "metadata": {
    "colab": {
      "provenance": [],
      "gpuType": "T4"
    },
    "kernelspec": {
      "name": "python3",
      "display_name": "Python 3"
    },
    "language_info": {
      "name": "python"
    },
    "accelerator": "GPU"
  },
  "cells": [
    {
      "cell_type": "markdown",
      "source": [
        "# Hate Speech Detection Using LSTM in PyTorch"
      ],
      "metadata": {
        "id": "haFIn-FnFlZy"
      }
    },
    {
      "cell_type": "code",
      "source": [
        "import pandas as pd\n",
        "import numpy as np"
      ],
      "metadata": {
        "id": "ljNIZQEfHwTH"
      },
      "execution_count": null,
      "outputs": []
    },
    {
      "cell_type": "code",
      "source": [
        "# Load dataset\n",
        "df = pd.read_csv('labeled_data.csv')\n",
        "\n",
        "df.shape"
      ],
      "metadata": {
        "colab": {
          "base_uri": "https://localhost:8080/"
        },
        "id": "84JeUq3JFvpr",
        "outputId": "7987ba9b-e342-42f8-ede4-4b7143ad9ce7"
      },
      "execution_count": null,
      "outputs": [
        {
          "output_type": "execute_result",
          "data": {
            "text/plain": [
              "(24783, 7)"
            ]
          },
          "metadata": {},
          "execution_count": 2
        }
      ]
    },
    {
      "cell_type": "code",
      "source": [
        "import nltk\n",
        "import re\n",
        "from nltk.stem import PorterStemmer\n",
        "from nltk.corpus import stopwords\n",
        "from sklearn.feature_extraction.text import CountVectorizer\n",
        "# from nltk.stem import WordNetLemmatizer\n",
        "import matplotlib.pyplot as plt"
      ],
      "metadata": {
        "id": "18cY3f_uHoUZ"
      },
      "execution_count": null,
      "outputs": []
    },
    {
      "cell_type": "code",
      "source": [
        "text = []\n",
        "clas = []\n",
        "\n",
        "text = df['tweet'].tolist()\n",
        "clas = df['class'].tolist()"
      ],
      "metadata": {
        "id": "ZQJAOOgSH-Tr"
      },
      "execution_count": null,
      "outputs": []
    },
    {
      "cell_type": "code",
      "source": [
        "df = pd.DataFrame({'tweet': text, 'class': clas})"
      ],
      "metadata": {
        "id": "Nq5YNZ7QIDF5"
      },
      "execution_count": null,
      "outputs": []
    },
    {
      "cell_type": "code",
      "source": [
        "print(df.isnull().sum())"
      ],
      "metadata": {
        "colab": {
          "base_uri": "https://localhost:8080/"
        },
        "id": "YHwwGfiKIHnw",
        "outputId": "4ba2771a-777b-407e-9728-c32c8b2004e5"
      },
      "execution_count": null,
      "outputs": [
        {
          "output_type": "stream",
          "name": "stdout",
          "text": [
            "tweet    0\n",
            "class    0\n",
            "dtype: int64\n"
          ]
        }
      ]
    },
    {
      "cell_type": "code",
      "source": [
        "class_counts = df['class'].value_counts()\n",
        "\n",
        "# Plot a pie chart\n",
        "plt.figure(figsize=(5, 5))\n",
        "plt.pie(class_counts, labels=class_counts.index, autopct='%1.1f%%', startangle=90)\n",
        "plt.title('Class Distribution')\n",
        "plt.show()"
      ],
      "metadata": {
        "colab": {
          "base_uri": "https://localhost:8080/",
          "height": 444
        },
        "id": "CCmxKt8whoZO",
        "outputId": "64d9d645-4446-4c99-e57f-29ad76d24e32"
      },
      "execution_count": null,
      "outputs": [
        {
          "output_type": "display_data",
          "data": {
            "text/plain": [
              "<Figure size 500x500 with 1 Axes>"
            ],
            "image/png": "[encoded data removed]"
          },
          "metadata": {}
        }
      ]
    },
    {
      "cell_type": "markdown",
      "source": [
        "## Preprocessing Datasets"
      ],
      "metadata": {
        "id": "SGCIaqY6TRsd"
      }
    },
    {
      "cell_type": "code",
      "source": [
        "df['tweet'] = df['tweet'].apply(lambda x:x.lower())"
      ],
      "metadata": {
        "id": "6xPM3U0RIJCz"
      },
      "execution_count": null,
      "outputs": []
    },
    {
      "cell_type": "code",
      "source": [
        "punctuation_signs = list(\"?:!.,;|\")\n",
        "remove_usernames = r'@([^\\s]+)'\n",
        "remove_hash_no = r'#\\d+'\n",
        "\n",
        "# Remove punctuation signs\n",
        "for punct_sign in punctuation_signs:\n",
        "    df['tweet'] = df['tweet'].str.replace(punct_sign, '', regex=True)\n",
        "\n",
        "# Remove usernames\n",
        "df['tweet'] = df['tweet'].str.replace(remove_usernames, '', regex=True)\n",
        "\n",
        "# Remove hashtags with numbers\n",
        "df['tweet'] = df['tweet'].str.replace(remove_hash_no, '', regex=True)"
      ],
      "metadata": {
        "id": "pXidtIC6IKfS"
      },
      "execution_count": null,
      "outputs": []
    },
    {
      "cell_type": "code",
      "source": [
        "df['tweet'] = df['tweet'].apply(lambda x: x.replace('\\n', ' '))\n",
        "df['tweet'] = df['tweet'].apply(lambda x: x.replace('\\t', ' '))\n",
        "\n",
        "# Replace url and symbols\n",
        "df['tweet'] = df['tweet'].str.replace(\"    \", \" \")\n",
        "df['tweet'] = df['tweet'].str.replace('\"', '')\n",
        "df['tweet'] = df['tweet'].str.replace(\"!\", \"\")\n",
        "df['tweet'] = df['tweet'].str.replace(\"'s\", \"\")\n",
        "df['tweet'] = df['tweet'].str.replace(\"'\", \"\")\n",
        "df['tweet'] = df['tweet'].str.replace(\"`\", \"\")\n",
        "df['tweet'] = df['tweet'].str.replace(\"https\", \"\")\n",
        "df['tweet'] = df['tweet'].str.replace(\"http\", \"\")\n",
        "df['tweet'] = df['tweet'].str.replace(\"rt\", \"\")\n",
        "df['tweet'] = df['tweet'].str.replace(\"-\", \"\")"
      ],
      "metadata": {
        "id": "p2n7cbs4IL8W"
      },
      "execution_count": null,
      "outputs": []
    },
    {
      "cell_type": "code",
      "source": [
        "df['tweet']"
      ],
      "metadata": {
        "colab": {
          "base_uri": "https://localhost:8080/"
        },
        "id": "vqwGiRve3YGa",
        "outputId": "b3c9906b-59d1-4b66-a1bd-82292de5ca8b"
      },
      "execution_count": null,
      "outputs": [
        {
          "output_type": "execute_result",
          "data": {
            "text/plain": [
              "0           as a woman you shouldnt complain about clea...\n",
              "1           boy dats coldtyga dwn bad for cuffin dat ho...\n",
              "2           dawg   you ever fuck a bitch and she sta to...\n",
              "3                                   she look like a tranny\n",
              "4           the shit you hear about me might be true or...\n",
              "                               ...                        \n",
              "24778    you a muthaf***in lie &   right his tl is tras...\n",
              "24779    youve gone and broke the wrong hea baby and dr...\n",
              "24780    young buck wanna eat dat nigguh like i aint fu...\n",
              "24781                youu got wild bitches tellin you lies\n",
              "24782    ~~ruffled  ntac eileen dahlia  beautiful color...\n",
              "Name: tweet, Length: 24783, dtype: object"
            ]
          },
          "metadata": {},
          "execution_count": 11
        }
      ]
    },
    {
      "cell_type": "code",
      "source": [
        "nltk.download('stopwords')\n",
        "stop_words = set(stopwords.words('english'))\n",
        "\n",
        "for stop_word in stop_words:\n",
        "    regex_stopword = r\"\\b\" + stop_word + r\"\\b\"\n",
        "    df['tweet'] = df['tweet'].str.replace(regex_stopword, '', regex=True)"
      ],
      "metadata": {
        "colab": {
          "base_uri": "https://localhost:8080/"
        },
        "id": "qFXQyx7iIPkj",
        "outputId": "d9ffb196-57e3-436c-e72b-58fc595a323d"
      },
      "execution_count": null,
      "outputs": [
        {
          "output_type": "stream",
          "name": "stderr",
          "text": [
            "[nltk_data] Downloading package stopwords to /root/nltk_data...\n",
            "[nltk_data]   Unzipping corpora/stopwords.zip.\n"
          ]
        }
      ]
    },
    {
      "cell_type": "code",
      "source": [
        "df.sample(5)"
      ],
      "metadata": {
        "colab": {
          "base_uri": "https://localhost:8080/",
          "height": 206
        },
        "id": "dsVREoWh8ET-",
        "outputId": "26440bf9-7648-4e0a-b6ff-3bf9467fccd2"
      },
      "execution_count": null,
      "outputs": [
        {
          "output_type": "execute_result",
          "data": {
            "text/plain": [
              "                                                   tweet  class\n",
              "20962           many shady bitches  secret thirst  alive      1\n",
              "2980    lmaoooo middle school knocking    pussy   ear...      1\n",
              "10896            spend  money  weed clothes n food  hoes      1\n",
              "21697   gotta  like 20 white trash motherfuckers livi...      1\n",
              "5468                                 right && okay bitch      1"
            ],
            "text/html": [
              "\n",
              "  <div id=\"df-074fddd5-1b66-435a-9c9c-fe72738cd9b0\" class=\"colab-df-container\">\n",
              "    <div>\n",
              "<style scoped>\n",
              "    .dataframe tbody tr th:only-of-type {\n",
              "        vertical-align: middle;\n",
              "    }\n",
              "\n",
              "    .dataframe tbody tr th {\n",
              "        vertical-align: top;\n",
              "    }\n",
              "\n",
              "    .dataframe thead th {\n",
              "        text-align: right;\n",
              "    }\n",
              "</style>\n",
              "<table border=\"1\" class=\"dataframe\">\n",
              "  <thead>\n",
              "    <tr style=\"text-align: right;\">\n",
              "      <th></th>\n",
              "      <th>tweet</th>\n",
              "      <th>class</th>\n",
              "    </tr>\n",
              "  </thead>\n",
              "  <tbody>\n",
              "    <tr>\n",
              "      <th>20962</th>\n",
              "      <td>many shady bitches  secret thirst  alive</td>\n",
              "      <td>1</td>\n",
              "    </tr>\n",
              "    <tr>\n",
              "      <th>2980</th>\n",
              "      <td>lmaoooo middle school knocking    pussy   ear...</td>\n",
              "      <td>1</td>\n",
              "    </tr>\n",
              "    <tr>\n",
              "      <th>10896</th>\n",
              "      <td>spend  money  weed clothes n food  hoes</td>\n",
              "      <td>1</td>\n",
              "    </tr>\n",
              "    <tr>\n",
              "      <th>21697</th>\n",
              "      <td>gotta  like 20 white trash motherfuckers livi...</td>\n",
              "      <td>1</td>\n",
              "    </tr>\n",
              "    <tr>\n",
              "      <th>5468</th>\n",
              "      <td>right &amp;&amp; okay bitch</td>\n",
              "      <td>1</td>\n",
              "    </tr>\n",
              "  </tbody>\n",
              "</table>\n",
              "</div>\n",
              "    <div class=\"colab-df-buttons\">\n",
              "\n",
              "  <div class=\"colab-df-container\">\n",
              "    <button class=\"colab-df-convert\" onclick=\"convertToInteractive('df-074fddd5-1b66-435a-9c9c-fe72738cd9b0')\"\n",
              "            title=\"Convert this dataframe to an interactive table.\"\n",
              "            style=\"display:none;\">\n",
              "\n",
              "  <svg xmlns=\"http://www.w3.org/2000/svg\" height=\"24px\" viewBox=\"0 -960 960 960\">\n",
              "    <path d=\"M120-120v-720h720v720H120Zm60-500h600v-160H180v160Zm220 220h160v-160H400v160Zm0 220h160v-160H400v160ZM180-400h160v-160H180v160Zm440 0h160v-160H620v160ZM180-180h160v-160H180v160Zm440 0h160v-160H620v160Z\"/>\n",
              "  </svg>\n",
              "    </button>\n",
              "\n",
              "  <style>\n",
              "    .colab-df-container {\n",
              "      display:flex;\n",
              "      gap: 12px;\n",
              "    }\n",
              "\n",
              "    .colab-df-convert {\n",
              "      background-color: #E8F0FE;\n",
              "      border: none;\n",
              "      border-radius: 50%;\n",
              "      cursor: pointer;\n",
              "      display: none;\n",
              "      fill: #1967D2;\n",
              "      height: 32px;\n",
              "      padding: 0 0 0 0;\n",
              "      width: 32px;\n",
              "    }\n",
              "\n",
              "    .colab-df-convert:hover {\n",
              "      background-color: #E2EBFA;\n",
              "      box-shadow: 0px 1px 2px rgba(60, 64, 67, 0.3), 0px 1px 3px 1px rgba(60, 64, 67, 0.15);\n",
              "      fill: #174EA6;\n",
              "    }\n",
              "\n",
              "    .colab-df-buttons div {\n",
              "      margin-bottom: 4px;\n",
              "    }\n",
              "\n",
              "    [theme=dark] .colab-df-convert {\n",
              "      background-color: #3B4455;\n",
              "      fill: #D2E3FC;\n",
              "    }\n",
              "\n",
              "    [theme=dark] .colab-df-convert:hover {\n",
              "      background-color: #434B5C;\n",
              "      box-shadow: 0px 1px 3px 1px rgba(0, 0, 0, 0.15);\n",
              "      filter: drop-shadow(0px 1px 2px rgba(0, 0, 0, 0.3));\n",
              "      fill: #FFFFFF;\n",
              "    }\n",
              "  </style>\n",
              "\n",
              "    <script>\n",
              "      const buttonEl =\n",
              "        document.querySelector('#df-074fddd5-1b66-435a-9c9c-fe72738cd9b0 button.colab-df-convert');\n",
              "      buttonEl.style.display =\n",
              "        google.colab.kernel.accessAllowed ? 'block' : 'none';\n",
              "\n",
              "      async function convertToInteractive(key) {\n",
              "        const element = document.querySelector('#df-074fddd5-1b66-435a-9c9c-fe72738cd9b0');\n",
              "        const dataTable =\n",
              "          await google.colab.kernel.invokeFunction('convertToInteractive',\n",
              "                                                    [key], {});\n",
              "        if (!dataTable) return;\n",
              "\n",
              "        const docLinkHtml = 'Like what you see? Visit the ' +\n",
              "          '<a target=\"_blank\" href=https://colab.research.google.com/notebooks/data_table.ipynb>data table notebook</a>'\n",
              "          + ' to learn more about interactive tables.';\n",
              "        element.innerHTML = '';\n",
              "        dataTable['output_type'] = 'display_data';\n",
              "        await google.colab.output.renderOutput(dataTable, element);\n",
              "        const docLink = document.createElement('div');\n",
              "        docLink.innerHTML = docLinkHtml;\n",
              "        element.appendChild(docLink);\n",
              "      }\n",
              "    </script>\n",
              "  </div>\n",
              "\n",
              "\n",
              "<div id=\"df-e31ad603-36ba-4cb3-abc8-3d7464343c4c\">\n",
              "  <button class=\"colab-df-quickchart\" onclick=\"quickchart('df-e31ad603-36ba-4cb3-abc8-3d7464343c4c')\"\n",
              "            title=\"Suggest charts\"\n",
              "            style=\"display:none;\">\n",
              "\n",
              "<svg xmlns=\"http://www.w3.org/2000/svg\" height=\"24px\"viewBox=\"0 0 24 24\"\n",
              "     width=\"24px\">\n",
              "    <g>\n",
              "        <path d=\"M19 3H5c-1.1 0-2 .9-2 2v14c0 1.1.9 2 2 2h14c1.1 0 2-.9 2-2V5c0-1.1-.9-2-2-2zM9 17H7v-7h2v7zm4 0h-2V7h2v10zm4 0h-2v-4h2v4z\"/>\n",
              "    </g>\n",
              "</svg>\n",
              "  </button>\n",
              "\n",
              "<style>\n",
              "  .colab-df-quickchart {\n",
              "      --bg-color: #E8F0FE;\n",
              "      --fill-color: #1967D2;\n",
              "      --hover-bg-color: #E2EBFA;\n",
              "      --hover-fill-color: #174EA6;\n",
              "      --disabled-fill-color: #AAA;\n",
              "      --disabled-bg-color: #DDD;\n",
              "  }\n",
              "\n",
              "  [theme=dark] .colab-df-quickchart {\n",
              "      --bg-color: #3B4455;\n",
              "      --fill-color: #D2E3FC;\n",
              "      --hover-bg-color: #434B5C;\n",
              "      --hover-fill-color: #FFFFFF;\n",
              "      --disabled-bg-color: #3B4455;\n",
              "      --disabled-fill-color: #666;\n",
              "  }\n",
              "\n",
              "  .colab-df-quickchart {\n",
              "    background-color: var(--bg-color);\n",
              "    border: none;\n",
              "    border-radius: 50%;\n",
              "    cursor: pointer;\n",
              "    display: none;\n",
              "    fill: var(--fill-color);\n",
              "    height: 32px;\n",
              "    padding: 0;\n",
              "    width: 32px;\n",
              "  }\n",
              "\n",
              "  .colab-df-quickchart:hover {\n",
              "    background-color: var(--hover-bg-color);\n",
              "    box-shadow: 0 1px 2px rgba(60, 64, 67, 0.3), 0 1px 3px 1px rgba(60, 64, 67, 0.15);\n",
              "    fill: var(--button-hover-fill-color);\n",
              "  }\n",
              "\n",
              "  .colab-df-quickchart-complete:disabled,\n",
              "  .colab-df-quickchart-complete:disabled:hover {\n",
              "    background-color: var(--disabled-bg-color);\n",
              "    fill: var(--disabled-fill-color);\n",
              "    box-shadow: none;\n",
              "  }\n",
              "\n",
              "  .colab-df-spinner {\n",
              "    border: 2px solid var(--fill-color);\n",
              "    border-color: transparent;\n",
              "    border-bottom-color: var(--fill-color);\n",
              "    animation:\n",
              "      spin 1s steps(1) infinite;\n",
              "  }\n",
              "\n",
              "  @keyframes spin {\n",
              "    0% {\n",
              "      border-color: transparent;\n",
              "      border-bottom-color: var(--fill-color);\n",
              "      border-left-color: var(--fill-color);\n",
              "    }\n",
              "    20% {\n",
              "      border-color: transparent;\n",
              "      border-left-color: var(--fill-color);\n",
              "      border-top-color: var(--fill-color);\n",
              "    }\n",
              "    30% {\n",
              "      border-color: transparent;\n",
              "      border-left-color: var(--fill-color);\n",
              "      border-top-color: var(--fill-color);\n",
              "      border-right-color: var(--fill-color);\n",
              "    }\n",
              "    40% {\n",
              "      border-color: transparent;\n",
              "      border-right-color: var(--fill-color);\n",
              "      border-top-color: var(--fill-color);\n",
              "    }\n",
              "    60% {\n",
              "      border-color: transparent;\n",
              "      border-right-color: var(--fill-color);\n",
              "    }\n",
              "    80% {\n",
              "      border-color: transparent;\n",
              "      border-right-color: var(--fill-color);\n",
              "      border-bottom-color: var(--fill-color);\n",
              "    }\n",
              "    90% {\n",
              "      border-color: transparent;\n",
              "      border-bottom-color: var(--fill-color);\n",
              "    }\n",
              "  }\n",
              "</style>\n",
              "\n",
              "  <script>\n",
              "    async function quickchart(key) {\n",
              "      const quickchartButtonEl =\n",
              "        document.querySelector('#' + key + ' button');\n",
              "      quickchartButtonEl.disabled = true;  // To prevent multiple clicks.\n",
              "      quickchartButtonEl.classList.add('colab-df-spinner');\n",
              "      try {\n",
              "        const charts = await google.colab.kernel.invokeFunction(\n",
              "            'suggestCharts', [key], {});\n",
              "      } catch (error) {\n",
              "        console.error('Error during call to suggestCharts:', error);\n",
              "      }\n",
              "      quickchartButtonEl.classList.remove('colab-df-spinner');\n",
              "      quickchartButtonEl.classList.add('colab-df-quickchart-complete');\n",
              "    }\n",
              "    (() => {\n",
              "      let quickchartButtonEl =\n",
              "        document.querySelector('#df-e31ad603-36ba-4cb3-abc8-3d7464343c4c button');\n",
              "      quickchartButtonEl.style.display =\n",
              "        google.colab.kernel.accessAllowed ? 'block' : 'none';\n",
              "    })();\n",
              "  </script>\n",
              "</div>\n",
              "\n",
              "    </div>\n",
              "  </div>\n"
            ]
          },
          "metadata": {},
          "execution_count": 13
        }
      ]
    },
    {
      "cell_type": "code",
      "source": [
        "# Get max_count featured names in the dataset column 'tweet'\n",
        "cv = CountVectorizer(max_features = 100)\n",
        "X = cv.fit_transform(df['tweet']).toarray()\n",
        "y = df['class']"
      ],
      "metadata": {
        "id": "uEiuPVfzISBg"
      },
      "execution_count": null,
      "outputs": []
    },
    {
      "cell_type": "code",
      "source": [
        "cv.get_feature_names_out()"
      ],
      "metadata": {
        "colab": {
          "base_uri": "https://localhost:8080/"
        },
        "id": "LRtjjAYB9EKu",
        "outputId": "3c8ed8f3-49ab-485f-f1dc-85e9a4a58bb1"
      },
      "execution_count": null,
      "outputs": [
        {
          "output_type": "execute_result",
          "data": {
            "text/plain": [
              "array(['aint', 'always', 'amp', 'ass', 'back', 'bad', 'better', 'bird',\n",
              "       'bitch', 'bitches', 'bout', 'call', 'cant', 'cause', 'charlie',\n",
              "       'come', 'cunt', 'da', 'damn', 'dat', 'day', 'dick', 'dont', 'dumb',\n",
              "       'eat', 'even', 'ever', 'every', 'faggot', 'fuck', 'fuckin',\n",
              "       'fucking', 'get', 'ghetto', 'girl', 'girls', 'give', 'go', 'going',\n",
              "       'gonna', 'good', 'got', 'gotta', 'gt', 'hate', 'hoe', 'hoes',\n",
              "       'ill', 'im', 'know', 'let', 'life', 'like', 'lil', 'little',\n",
              "       'lmao', 'lol', 'look', 'love', 'make', 'man', 'money', 'need',\n",
              "       'never', 'new', 'nigga', 'niggah', 'niggas', 'one', 'people',\n",
              "       'pussy', 'real', 'really', 'retarded', 'right', 'said', 'say',\n",
              "       'see', 'shit', 'still', 'stop', 'take', 'talk', 'tco', 'tell',\n",
              "       'think', 'time', 'trash', 'twitter', 'ugly', 'wanna', 'want',\n",
              "       'white', 'wit', 'would', 'ya', 'yall', 'yellow', 'yo', 'youre'],\n",
              "      dtype=object)"
            ]
          },
          "metadata": {},
          "execution_count": 15
        }
      ]
    },
    {
      "cell_type": "code",
      "source": [
        "# Position of words and vectorized words index check\n",
        "df['tweet'][24781], X[24781], y"
      ],
      "metadata": {
        "colab": {
          "base_uri": "https://localhost:8080/"
        },
        "id": "5kezkudeJbDy",
        "outputId": "789ecc90-20d0-483c-86bc-7a12c13280d4"
      },
      "execution_count": null,
      "outputs": [
        {
          "output_type": "execute_result",
          "data": {
            "text/plain": [
              "('youu got wild bitches tellin  lies',\n",
              " array([0, 0, 0, 0, 0, 0, 0, 0, 0, 1, 0, 0, 0, 0, 0, 0, 0, 0, 0, 0, 0, 0,\n",
              "        0, 0, 0, 0, 0, 0, 0, 0, 0, 0, 0, 0, 0, 0, 0, 0, 0, 0, 0, 1, 0, 0,\n",
              "        0, 0, 0, 0, 0, 0, 0, 0, 0, 0, 0, 0, 0, 0, 0, 0, 0, 0, 0, 0, 0, 0,\n",
              "        0, 0, 0, 0, 0, 0, 0, 0, 0, 0, 0, 0, 0, 0, 0, 0, 0, 0, 0, 0, 0, 0,\n",
              "        0, 0, 0, 0, 0, 0, 0, 0, 0, 0, 0, 0]),\n",
              " 0        2\n",
              " 1        1\n",
              " 2        1\n",
              " 3        1\n",
              " 4        1\n",
              "         ..\n",
              " 24778    1\n",
              " 24779    2\n",
              " 24780    1\n",
              " 24781    1\n",
              " 24782    2\n",
              " Name: class, Length: 24783, dtype: int64)"
            ]
          },
          "metadata": {},
          "execution_count": 16
        }
      ]
    },
    {
      "cell_type": "markdown",
      "source": [
        "## PyTorch Implementation"
      ],
      "metadata": {
        "id": "nszupBxfRhpQ"
      }
    },
    {
      "cell_type": "code",
      "source": [
        "import torch\n",
        "from torch import nn\n",
        "import torch.nn.functional as F\n",
        "import torch.optim as optim\n",
        "\n",
        "print(torch.__version__)\n",
        "\n",
        "# Setting up device agnostic\n",
        "device = 'cuda' if torch.cuda.is_available() else 'cpu'\n",
        "print(device)"
      ],
      "metadata": {
        "colab": {
          "base_uri": "https://localhost:8080/"
        },
        "id": "q7bS0B1oKG7Y",
        "outputId": "efca3123-71df-4c08-a8ed-ccad266a0da1"
      },
      "execution_count": null,
      "outputs": [
        {
          "output_type": "stream",
          "name": "stdout",
          "text": [
            "2.1.0+cu121\n",
            "cuda\n"
          ]
        }
      ]
    },
    {
      "cell_type": "markdown",
      "source": [
        "## Spliting Datasets"
      ],
      "metadata": {
        "id": "rfOAUZBZIYg_"
      }
    },
    {
      "cell_type": "code",
      "source": [
        "X.dtype, y.dtype"
      ],
      "metadata": {
        "colab": {
          "base_uri": "https://localhost:8080/"
        },
        "id": "8WoBQOVpMRdp",
        "outputId": "1877dbc7-018a-4090-9b80-c831acb34c67"
      },
      "execution_count": null,
      "outputs": [
        {
          "output_type": "execute_result",
          "data": {
            "text/plain": [
              "(dtype('int64'), dtype('int64'))"
            ]
          },
          "metadata": {},
          "execution_count": 18
        }
      ]
    },
    {
      "cell_type": "code",
      "source": [
        "#  X and y are your input features and labels\n",
        "X = torch.tensor(X, dtype=torch.long)\n",
        "y = torch.tensor(y, dtype=torch.long)\n",
        "\n",
        "X, y"
      ],
      "metadata": {
        "colab": {
          "base_uri": "https://localhost:8080/"
        },
        "id": "CfKgXyWvMWNk",
        "outputId": "759d7d76-1a03-44fe-b7c2-f07c64bf8de5"
      },
      "execution_count": null,
      "outputs": [
        {
          "output_type": "execute_result",
          "data": {
            "text/plain": [
              "(tensor([[0, 1, 1,  ..., 0, 0, 0],\n",
              "         [0, 0, 0,  ..., 0, 0, 0],\n",
              "         [0, 0, 0,  ..., 0, 0, 0],\n",
              "         ...,\n",
              "         [1, 0, 0,  ..., 0, 0, 0],\n",
              "         [0, 0, 0,  ..., 0, 0, 0],\n",
              "         [0, 0, 1,  ..., 1, 0, 0]]),\n",
              " tensor([2, 1, 1,  ..., 1, 1, 2]))"
            ]
          },
          "metadata": {},
          "execution_count": 19
        }
      ]
    },
    {
      "cell_type": "code",
      "source": [
        "X.ndim, y.ndim, X.shape, y.shape"
      ],
      "metadata": {
        "colab": {
          "base_uri": "https://localhost:8080/"
        },
        "id": "CzdGkZy8oeiv",
        "outputId": "cff755aa-ceb0-4e97-968f-d85757e6c2b7"
      },
      "execution_count": null,
      "outputs": [
        {
          "output_type": "execute_result",
          "data": {
            "text/plain": [
              "(2, 1, torch.Size([24783, 100]), torch.Size([24783]))"
            ]
          },
          "metadata": {},
          "execution_count": 20
        }
      ]
    },
    {
      "cell_type": "code",
      "source": [
        "from sklearn.model_selection import train_test_split\n",
        "\n",
        "X_train, X_test, y_train, y_test = train_test_split(X,\n",
        "                                                    y,\n",
        "                                                    test_size = 0.2,  # 80%: train | 20% test\n",
        "                                                    random_state = 42)"
      ],
      "metadata": {
        "id": "TBPt7z2eJgE_"
      },
      "execution_count": null,
      "outputs": []
    },
    {
      "cell_type": "code",
      "source": [
        "len(X_train),len(y_train), len(X_test), len(y_test)"
      ],
      "metadata": {
        "id": "QFfhu7nqNy7O",
        "outputId": "81dceecb-5698-43e0-ffa0-268967791cc9",
        "colab": {
          "base_uri": "https://localhost:8080/"
        }
      },
      "execution_count": null,
      "outputs": [
        {
          "output_type": "execute_result",
          "data": {
            "text/plain": [
              "(19826, 19826, 4957, 4957)"
            ]
          },
          "metadata": {},
          "execution_count": 22
        }
      ]
    },
    {
      "cell_type": "code",
      "source": [
        "# Making sure if datasets are in long types\n",
        "X_train, y_train = X_train.clone().detach().long(), y_train.clone().detach().long()\n",
        "X_test, y_test = X_test.clone().detach().long(), y_test.clone().detach().long()"
      ],
      "metadata": {
        "id": "hB_E3Q1u3hqJ"
      },
      "execution_count": null,
      "outputs": []
    },
    {
      "cell_type": "code",
      "source": [
        "X_train.dtype, X_test.dtype, y_train.dtype, y_test.dtype"
      ],
      "metadata": {
        "colab": {
          "base_uri": "https://localhost:8080/"
        },
        "id": "w4Rusf73JwXI",
        "outputId": "9551f6d1-e3ec-4b04-cd4c-4cb0060b837b"
      },
      "execution_count": null,
      "outputs": [
        {
          "output_type": "execute_result",
          "data": {
            "text/plain": [
              "(torch.int64, torch.int64, torch.int64, torch.int64)"
            ]
          },
          "metadata": {},
          "execution_count": 24
        }
      ]
    },
    {
      "cell_type": "code",
      "source": [
        "X_train.shape, X_test.shape, y_train.shape, y_test.shape"
      ],
      "metadata": {
        "id": "G8h5qErbQcOz",
        "outputId": "b94d9162-7438-4ad7-b352-674a8d88b414",
        "colab": {
          "base_uri": "https://localhost:8080/"
        }
      },
      "execution_count": null,
      "outputs": [
        {
          "output_type": "execute_result",
          "data": {
            "text/plain": [
              "(torch.Size([19826, 100]),\n",
              " torch.Size([4957, 100]),\n",
              " torch.Size([19826]),\n",
              " torch.Size([4957]))"
            ]
          },
          "metadata": {},
          "execution_count": 25
        }
      ]
    },
    {
      "cell_type": "markdown",
      "source": [
        "## LSTM Neural Network Model"
      ],
      "metadata": {
        "id": "MqQNHmCnMmHi"
      }
    },
    {
      "cell_type": "code",
      "source": [
        "class LSTMModel(nn.Module):\n",
        "  def __init__(self, vocab_size, embedding_dim, hidden_dim, output_dim):\n",
        "    super(LSTMModel, self).__init__()\n",
        "    self.embedding = nn.Embedding(vocab_size, embedding_dim)\n",
        "    self.lstm = nn.LSTM(embedding_dim, hidden_dim, batch_first=True)\n",
        "    self.dropout = nn.Dropout(0.2)\n",
        "    self.bn = nn.BatchNorm1d(hidden_dim)\n",
        "    self.fc = nn.Linear(hidden_dim, output_dim)\n",
        "    self.softmax = nn.Softmax(dim=1)\n",
        "\n",
        "  def forward(self, x):\n",
        "    embedded = self.embedding(x)\n",
        "    embedded = self.dropout(embedded)\n",
        "    lstm_out, _ = self.lstm(embedded)\n",
        "    lstm_out = lstm_out[:, -1, :]\n",
        "\n",
        "    # Apply batch normalization after LSTM\n",
        "    lstm_out = self.bn(lstm_out)\n",
        "\n",
        "    fc_out = self.fc(lstm_out)\n",
        "    output = F.softmax(fc_out, dim=1)\n",
        "    return output"
      ],
      "metadata": {
        "id": "Rle9sO_sMC52"
      },
      "execution_count": null,
      "outputs": []
    },
    {
      "cell_type": "markdown",
      "source": [
        "## Bi-LSTM Neural Network Model"
      ],
      "metadata": {
        "id": "FFVsg5EVC5nq"
      }
    },
    {
      "cell_type": "code",
      "source": [
        "class BidirectionalLSTMModel(nn.Module):\n",
        "  def __init__(self, vocab_size, embedding_dim, hidden_dim, output_dim, bidirectional=True, num_layers=2, dropout_rate=0.5):\n",
        "    super(BidirectionalLSTMModel, self).__init__()\n",
        "    self.embedding = nn.Embedding(vocab_size, embedding_dim)\n",
        "    self.lstm = nn.LSTM(embedding_dim, hidden_dim, num_layers=num_layers, batch_first=True, dropout=dropout_rate, bidirectional=bidirectional)\n",
        "    self.dropout = nn.Dropout(dropout_rate)\n",
        "    self.bn = nn.BatchNorm1d(hidden_dim * (2 if bidirectional else 1))  # Adjust input size for bidirectional LSTM\n",
        "    self.fc = nn.Linear(hidden_dim * (2 if bidirectional else 1), output_dim)\n",
        "    self.softmax = nn.Softmax(dim=1)\n",
        "\n",
        "  def forward(self, x):\n",
        "    embedded = self.embedding(x)\n",
        "    embedded = self.dropout(embedded)\n",
        "    lstm_out, _ = self.lstm(embedded)\n",
        "    lstm_out = lstm_out[:, -1, :]\n",
        "\n",
        "    lstm_out = self.bn(lstm_out)\n",
        "\n",
        "    fc_out = self.fc(lstm_out)\n",
        "    output = F.softmax(fc_out, dim=1)\n",
        "    return output"
      ],
      "metadata": {
        "id": "FtNqP9dpC442"
      },
      "execution_count": null,
      "outputs": []
    },
    {
      "cell_type": "code",
      "source": [
        "vocab_size = 50000\n",
        "embedding_dim = 100    # 100 for LSTM | 50 for BiDirectionalLSTM\n",
        "hidden_dim = 20\n",
        "output_dim = 3\n",
        "\n",
        "# Change Model Class name if you want 'BidirectionalLSTMModel' or 'LSTMModel'\n",
        "model = LSTMModel(vocab_size, embedding_dim, hidden_dim, output_dim)\n",
        "model"
      ],
      "metadata": {
        "colab": {
          "base_uri": "https://localhost:8080/"
        },
        "id": "GcwOp5RZONPK",
        "outputId": "25b30964-0645-47b8-ddb0-4809d325b54d"
      },
      "execution_count": null,
      "outputs": [
        {
          "output_type": "execute_result",
          "data": {
            "text/plain": [
              "LSTMModel(\n",
              "  (embedding): Embedding(50000, 100)\n",
              "  (lstm): LSTM(100, 20, batch_first=True)\n",
              "  (dropout): Dropout(p=0.2, inplace=False)\n",
              "  (bn): BatchNorm1d(20, eps=1e-05, momentum=0.1, affine=True, track_running_stats=True)\n",
              "  (fc): Linear(in_features=20, out_features=3, bias=True)\n",
              "  (softmax): Softmax(dim=1)\n",
              ")"
            ]
          },
          "metadata": {},
          "execution_count": 28
        }
      ]
    },
    {
      "cell_type": "code",
      "source": [
        "next(model.parameters()).device"
      ],
      "metadata": {
        "colab": {
          "base_uri": "https://localhost:8080/"
        },
        "id": "ysl_LwjwRX9p",
        "outputId": "4b57c501-ea67-4a02-f932-d3c1c7486139"
      },
      "execution_count": null,
      "outputs": [
        {
          "output_type": "execute_result",
          "data": {
            "text/plain": [
              "device(type='cpu')"
            ]
          },
          "metadata": {},
          "execution_count": 29
        }
      ]
    },
    {
      "cell_type": "code",
      "source": [
        "# Set model usage to CUDA\n",
        "model.to(device)\n",
        "next(model.parameters()).device"
      ],
      "metadata": {
        "colab": {
          "base_uri": "https://localhost:8080/"
        },
        "id": "c1fLC7xIRjSI",
        "outputId": "bf341464-acb2-44d1-9dfc-85373c94984b"
      },
      "execution_count": null,
      "outputs": [
        {
          "output_type": "execute_result",
          "data": {
            "text/plain": [
              "device(type='cuda', index=0)"
            ]
          },
          "metadata": {},
          "execution_count": 30
        }
      ]
    },
    {
      "cell_type": "code",
      "source": [
        "# Loss function and optimizers\n",
        "loss_fn = nn.CrossEntropyLoss()\n",
        "optimizer = torch.optim.Adam(model.parameters(), lr=0.01)"
      ],
      "metadata": {
        "id": "22zuDVcwId0c"
      },
      "execution_count": null,
      "outputs": []
    },
    {
      "cell_type": "code",
      "source": [
        "torch.manual_seed(42)\n",
        "\n",
        "epochs = 50\n",
        "batch_size = 64\n",
        "\n",
        "# Placing data on CUDA\n",
        "X_train = X_train.to(device)\n",
        "X_test = X_test.to(device)\n",
        "y_train = y_train.to(device)\n",
        "y_test = y_test.to(device)\n",
        "\n",
        "# Tracking\n",
        "epoch_count = []\n",
        "loss_values = []\n",
        "test_loss_values = []\n",
        "train_accuracies = []\n",
        "test_accuracies = []\n",
        "\n",
        "# Train loop\n",
        "for epoch in range(epochs):\n",
        "  model.train()\n",
        "  y_pred = model(X_train)\n",
        "  loss = loss_fn(y_pred, y_train)\n",
        "\n",
        "  optimizer.zero_grad()\n",
        "  loss.backward()\n",
        "  optimizer.step()\n",
        "\n",
        "  # Calculate training accuracy\n",
        "  _, predicted_train_labels = torch.max(y_pred, 1)\n",
        "  train_accuracy = (predicted_train_labels == y_train).sum().item() / len(y_train)\n",
        "\n",
        "  # Testing\n",
        "  model.eval()\n",
        "  with torch.inference_mode():\n",
        "    test_pred = model(X_test)\n",
        "    test_loss = loss_fn(test_pred, y_test)\n",
        "\n",
        "    # Calculate test accuracy\n",
        "    _, predicted_test_labels = torch.max(test_pred, 1)\n",
        "    test_accuracy = (predicted_test_labels == y_test).sum().item() / len(y_test)\n",
        "\n",
        "  # Print Training Progress\n",
        "  if epoch % 5 == 0 or epoch == epochs-1:\n",
        "    epoch_count.append(epoch)\n",
        "    loss_values.append(loss)\n",
        "    test_loss_values.append(test_loss)\n",
        "    train_accuracies.append(train_accuracy)\n",
        "    test_accuracies.append(test_accuracy)\n",
        "    print(f\"Epoch: {epoch} | Train Loss: {loss:.4f} | Test Loss: {test_loss:.4f} | Train Accuracy: {train_accuracy*100:.2f}% | Test Accuracy: {test_accuracy*100:.2f}%\")"
      ],
      "metadata": {
        "colab": {
          "base_uri": "https://localhost:8080/"
        },
        "id": "DNqTplKsO_So",
        "outputId": "c3d0f944-c243-4dee-b01f-03ed5f3a4e27"
      },
      "execution_count": null,
      "outputs": [
        {
          "output_type": "stream",
          "name": "stdout",
          "text": [
            "Epoch: 0 | Train Loss: 1.1092 | Test Loss: 1.1037 | Train Accuracy: 32.37% | Test Accuracy: 5.85%\n",
            "Epoch: 5 | Train Loss: 0.9979 | Test Loss: 0.9585 | Train Accuracy: 71.23% | Test Accuracy: 76.11%\n",
            "Epoch: 10 | Train Loss: 0.9070 | Test Loss: 0.8665 | Train Accuracy: 74.39% | Test Accuracy: 76.11%\n",
            "Epoch: 15 | Train Loss: 0.8379 | Test Loss: 0.8204 | Train Accuracy: 76.04% | Test Accuracy: 76.11%\n",
            "Epoch: 20 | Train Loss: 0.8065 | Test Loss: 0.8017 | Train Accuracy: 76.04% | Test Accuracy: 76.11%\n",
            "Epoch: 25 | Train Loss: 0.7960 | Test Loss: 0.7945 | Train Accuracy: 76.03% | Test Accuracy: 76.11%\n",
            "Epoch: 30 | Train Loss: 0.7922 | Test Loss: 0.7916 | Train Accuracy: 76.05% | Test Accuracy: 76.11%\n",
            "Epoch: 35 | Train Loss: 0.7907 | Test Loss: 0.7905 | Train Accuracy: 76.03% | Test Accuracy: 76.11%\n",
            "Epoch: 40 | Train Loss: 0.7901 | Test Loss: 0.7899 | Train Accuracy: 76.05% | Test Accuracy: 76.11%\n",
            "Epoch: 45 | Train Loss: 0.7898 | Test Loss: 0.7896 | Train Accuracy: 76.05% | Test Accuracy: 76.11%\n",
            "Epoch: 49 | Train Loss: 0.7896 | Test Loss: 0.7894 | Train Accuracy: 76.09% | Test Accuracy: 76.05%\n"
          ]
        }
      ]
    },
    {
      "cell_type": "markdown",
      "source": [
        "## Loss Curve Plot"
      ],
      "metadata": {
        "id": "fTNGo0gkpOIW"
      }
    },
    {
      "cell_type": "code",
      "source": [
        "import matplotlib.pyplot as plt\n",
        "\n",
        "# Plot loss curves\n",
        "plt.figure(figsize=(8,3))\n",
        "plt.plot(epoch_count, np.array(torch.tensor(loss_values).numpy()), label=\"Train Loss\")\n",
        "plt.plot(epoch_count, np.array(torch.tensor(test_loss_values).numpy()), label=\"Test Loss\")\n",
        "plt.title(\"Train/Test loss curves\")\n",
        "plt.ylabel(\"Loss\")\n",
        "plt.xlabel(\"Epoch\")\n",
        "plt.legend();"
      ],
      "metadata": {
        "colab": {
          "base_uri": "https://localhost:8080/",
          "height": 333
        },
        "id": "gWjqLaVLpQKg",
        "outputId": "b1a2ca60-6acc-4d1f-b7bb-6289b34cc8c2"
      },
      "execution_count": null,
      "outputs": [
        {
          "output_type": "display_data",
          "data": {
            "text/plain": [
              "<Figure size 800x300 with 1 Axes>"
            ],
            "image/png": "[encoded data removed]"
          },
          "metadata": {}
        }
      ]
    },
    {
      "cell_type": "markdown",
      "source": [
        "## Plot Accuracy Curve"
      ],
      "metadata": {
        "id": "eo_l1CPr0_ui"
      }
    },
    {
      "cell_type": "code",
      "source": [
        "import matplotlib.pyplot as plt\n",
        "\n",
        "# Plot loss curves\n",
        "plt.figure(figsize=(8,3))\n",
        "plt.plot(epoch_count, np.array(torch.tensor(train_accuracies).numpy()), label=\"Train Accuracy\")\n",
        "plt.plot(epoch_count, np.array(torch.tensor(test_accuracies).numpy()), label=\"Test Accuracy\")\n",
        "plt.title(\"Train/Test Accuracy curves\")\n",
        "plt.ylabel(\"Accuracy\")\n",
        "plt.xlabel(\"Epoch\")\n",
        "plt.legend();"
      ],
      "metadata": {
        "colab": {
          "base_uri": "https://localhost:8080/",
          "height": 333
        },
        "id": "-dRDLTIa1Cph",
        "outputId": "bd202245-c945-4dea-93bf-32e089cb4b18"
      },
      "execution_count": null,
      "outputs": [
        {
          "output_type": "display_data",
          "data": {
            "text/plain": [
              "<Figure size 800x300 with 1 Axes>"
            ],
            "image/png": "[encoded data removed]"
          },
          "metadata": {}
        }
      ]
    },
    {
      "cell_type": "markdown",
      "source": [
        "## Saving model"
      ],
      "metadata": {
        "id": "3nONBJPKEC9L"
      }
    },
    {
      "cell_type": "code",
      "source": [
        "from pathlib import Path\n",
        "\n",
        "model_path = Path('models')\n",
        "model_path.mkdir(parents = True, exist_ok =True)\n",
        "\n",
        "model_name = '00_LSTM_HateSpeech.pth'\n",
        "model_save_path = model_path / model_name\n",
        "\n",
        "print(f\"Saving model to: {model_save_path}\")\n",
        "torch.save(obj = model.state_dict(),\n",
        "           f = model_save_path)\n",
        "print('Saved Successfully')"
      ],
      "metadata": {
        "id": "FHGsknQKRsuc",
        "colab": {
          "base_uri": "https://localhost:8080/"
        },
        "outputId": "5e942e67-bac0-4a5b-bded-66cb1cdd67ae"
      },
      "execution_count": null,
      "outputs": [
        {
          "output_type": "stream",
          "name": "stdout",
          "text": [
            "Saving model to: models/00_LSTM_HateSpeech.pth\n",
            "Saved Successfully\n"
          ]
        }
      ]
    },
    {
      "cell_type": "markdown",
      "source": [
        "## Loading Model"
      ],
      "metadata": {
        "id": "TC1k04uiUBWc"
      }
    },
    {
      "cell_type": "code",
      "source": [
        "loaded_model = LSTMModel(vocab_size, embedding_dim, hidden_dim, output_dim)\n",
        "loaded_model.load_state_dict(torch.load(model_save_path))\n",
        "\n",
        "# Transfer loaded model to CUDA\n",
        "loaded_model.to(device)\n",
        "\n",
        "print(f\"Loaded model:\\n{loaded_model}\")\n",
        "print(f\"Model on device:\\n{next(loaded_model.parameters()).device}\")"
      ],
      "metadata": {
        "colab": {
          "base_uri": "https://localhost:8080/"
        },
        "id": "B-AKnn7jHyM-",
        "outputId": "b4dbc6f5-bf5e-4b61-ab52-a554d270ca5c"
      },
      "execution_count": null,
      "outputs": [
        {
          "output_type": "stream",
          "name": "stdout",
          "text": [
            "Loaded model:\n",
            "LSTMModel(\n",
            "  (embedding): Embedding(50000, 100)\n",
            "  (lstm): LSTM(100, 20, batch_first=True)\n",
            "  (dropout): Dropout(p=0.2, inplace=False)\n",
            "  (bn): BatchNorm1d(20, eps=1e-05, momentum=0.1, affine=True, track_running_stats=True)\n",
            "  (fc): Linear(in_features=20, out_features=3, bias=True)\n",
            "  (softmax): Softmax(dim=1)\n",
            ")\n",
            "Model on device:\n",
            "cuda:0\n"
          ]
        }
      ]
    },
    {
      "cell_type": "markdown",
      "source": [
        "## Prediction using `X_test`"
      ],
      "metadata": {
        "id": "1exklY9IUGpu"
      }
    },
    {
      "cell_type": "code",
      "source": [
        "model.eval()\n",
        "\n",
        "with torch.inference_mode():\n",
        "  y_preds = model(X_test)\n",
        "\n",
        "y_preds"
      ],
      "metadata": {
        "colab": {
          "base_uri": "https://localhost:8080/"
        },
        "id": "rCj6JLNIID9P",
        "outputId": "d83e3c9e-ffa4-480e-e8a0-2dc46ea00d58"
      },
      "execution_count": null,
      "outputs": [
        {
          "output_type": "execute_result",
          "data": {
            "text/plain": [
              "tensor([[1.1328e-03, 9.9798e-01, 8.8725e-04],\n",
              "        [1.3052e-03, 9.9767e-01, 1.0220e-03],\n",
              "        [1.2896e-03, 9.9770e-01, 1.0115e-03],\n",
              "        ...,\n",
              "        [1.3540e-03, 9.9759e-01, 1.0533e-03],\n",
              "        [1.3479e-03, 9.9760e-01, 1.0497e-03],\n",
              "        [1.3416e-03, 9.9761e-01, 1.0455e-03]], device='cuda:0')"
            ]
          },
          "metadata": {},
          "execution_count": 37
        }
      ]
    },
    {
      "cell_type": "code",
      "source": [
        "# Evaluate loaded model\n",
        "loaded_model.eval()\n",
        "with torch.inference_mode():\n",
        "  loaded_model_preds = loaded_model(X_test)\n",
        "\n",
        "y_preds == loaded_model_preds"
      ],
      "metadata": {
        "colab": {
          "base_uri": "https://localhost:8080/"
        },
        "id": "ecw3eFn5INQP",
        "outputId": "84fb76b9-0a9e-45af-8176-0663554976d8"
      },
      "execution_count": null,
      "outputs": [
        {
          "output_type": "execute_result",
          "data": {
            "text/plain": [
              "tensor([[True, True, True],\n",
              "        [True, True, True],\n",
              "        [True, True, True],\n",
              "        ...,\n",
              "        [True, True, True],\n",
              "        [True, True, True],\n",
              "        [True, True, True]], device='cuda:0')"
            ]
          },
          "metadata": {},
          "execution_count": 38
        }
      ]
    },
    {
      "cell_type": "code",
      "source": [
        "# Reverse class labels tensors\n",
        "predicted_labels = torch.argmax(y_preds, dim=1)\n",
        "\n",
        "predicted_labels"
      ],
      "metadata": {
        "id": "VidRt2jpP1Hw",
        "outputId": "bbc7c8a5-ffbc-4649-eb3b-43568c61f65e",
        "colab": {
          "base_uri": "https://localhost:8080/"
        }
      },
      "execution_count": null,
      "outputs": [
        {
          "output_type": "execute_result",
          "data": {
            "text/plain": [
              "tensor([1, 1, 1,  ..., 1, 1, 1], device='cuda:0')"
            ]
          },
          "metadata": {},
          "execution_count": 39
        }
      ]
    },
    {
      "cell_type": "code",
      "source": [
        "# Count occurrences of 0, 1, and 2\n",
        "count_0 = torch.sum(predicted_labels == 0).item()\n",
        "count_1 = torch.sum(predicted_labels == 1).item()\n",
        "count_2 = torch.sum(predicted_labels == 2).item()\n",
        "\n",
        "# Print the counts\n",
        "print(\"Count of 0:\", count_0)\n",
        "print(\"Count of 1:\", count_1)\n",
        "print(\"Count of 2:\", count_2)"
      ],
      "metadata": {
        "id": "uVGn0oS_SJE6",
        "outputId": "a6e54b2c-4e85-4461-a090-9844a42ffa44",
        "colab": {
          "base_uri": "https://localhost:8080/"
        }
      },
      "execution_count": null,
      "outputs": [
        {
          "output_type": "stream",
          "name": "stdout",
          "text": [
            "Count of 0: 28\n",
            "Count of 1: 4868\n",
            "Count of 2: 61\n"
          ]
        }
      ]
    }
  ]
}