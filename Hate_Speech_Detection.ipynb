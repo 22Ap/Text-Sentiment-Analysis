{
  "nbformat": 4,
  "nbformat_minor": 0,
  "metadata": {
    "colab": {
      "provenance": [],
      "gpuType": "T4"
    },
    "kernelspec": {
      "name": "python3",
      "display_name": "Python 3"
    },
    "language_info": {
      "name": "python"
    },
    "accelerator": "GPU"
  },
  "cells": [
    {
      "cell_type": "markdown",
      "source": [
        "# Hate Speech Detection Using LSTM in PyTorch"
      ],
      "metadata": {
        "id": "haFIn-FnFlZy"
      }
    },
    {
      "cell_type": "code",
      "source": [
        "import pandas as pd\n",
        "import numpy as np"
      ],
      "metadata": {
        "id": "ljNIZQEfHwTH"
      },
      "execution_count": 1,
      "outputs": []
    },
    {
      "cell_type": "code",
      "source": [
        "# Load dataset\n",
        "df = pd.read_csv('labeled_data.csv')\n",
        "\n",
        "df.shape"
      ],
      "metadata": {
        "colab": {
          "base_uri": "https://localhost:8080/"
        },
        "id": "84JeUq3JFvpr",
        "outputId": "e4c77763-1008-43a8-c02f-9449f0fe269c"
      },
      "execution_count": 2,
      "outputs": [
        {
          "output_type": "execute_result",
          "data": {
            "text/plain": [
              "(24783, 7)"
            ]
          },
          "metadata": {},
          "execution_count": 2
        }
      ]
    },
    {
      "cell_type": "code",
      "source": [
        "import nltk\n",
        "import re\n",
        "from nltk.stem import PorterStemmer\n",
        "from nltk.corpus import stopwords\n",
        "from sklearn.feature_extraction.text import CountVectorizer\n",
        "from nltk.stem import WordNetLemmatizer"
      ],
      "metadata": {
        "id": "18cY3f_uHoUZ"
      },
      "execution_count": 3,
      "outputs": []
    },
    {
      "cell_type": "code",
      "source": [
        "text = []\n",
        "clas = []\n",
        "\n",
        "text = df['tweet'].tolist()\n",
        "clas = df['class'].tolist()"
      ],
      "metadata": {
        "id": "ZQJAOOgSH-Tr"
      },
      "execution_count": 4,
      "outputs": []
    },
    {
      "cell_type": "code",
      "source": [
        "df = pd.DataFrame({'tweet': text, 'class': clas})"
      ],
      "metadata": {
        "id": "Nq5YNZ7QIDF5"
      },
      "execution_count": 5,
      "outputs": []
    },
    {
      "cell_type": "code",
      "source": [
        "print(df.isnull().sum())"
      ],
      "metadata": {
        "colab": {
          "base_uri": "https://localhost:8080/"
        },
        "id": "YHwwGfiKIHnw",
        "outputId": "6054f3bc-7c4d-4df7-9a16-e73d4eddeafa"
      },
      "execution_count": 6,
      "outputs": [
        {
          "output_type": "stream",
          "name": "stdout",
          "text": [
            "tweet    0\n",
            "class    0\n",
            "dtype: int64\n"
          ]
        }
      ]
    },
    {
      "cell_type": "code",
      "source": [
        "df['tweet'] = df['tweet'].apply(lambda x:x.lower())"
      ],
      "metadata": {
        "id": "6xPM3U0RIJCz"
      },
      "execution_count": 7,
      "outputs": []
    },
    {
      "cell_type": "code",
      "source": [
        "punctuation_signs = list(\"?:!.,;|\")\n",
        "remove_usernames = r'@([^\\s]+)'\n",
        "remove_hash_no = r'#\\d+'\n",
        "\n",
        "# Remove punctuation signs\n",
        "for punct_sign in punctuation_signs:\n",
        "    df['tweet'] = df['tweet'].str.replace(punct_sign, '', regex=True)\n",
        "\n",
        "# Remove usernames\n",
        "df['tweet'] = df['tweet'].str.replace(remove_usernames, '', regex=True)\n",
        "\n",
        "# Remove hashtags with numbers\n",
        "df['tweet'] = df['tweet'].str.replace(remove_hash_no, '', regex=True)"
      ],
      "metadata": {
        "id": "pXidtIC6IKfS"
      },
      "execution_count": 8,
      "outputs": []
    },
    {
      "cell_type": "code",
      "source": [
        "df['tweet'] = df['tweet'].apply(lambda x: x.replace('\\n', ' '))\n",
        "df['tweet'] = df['tweet'].apply(lambda x: x.replace('\\t', ' '))\n",
        "df['tweet'] = df['tweet'].str.replace(\"    \", \" \")\n",
        "df['tweet'] = df['tweet'].str.replace('\"', '')\n",
        "df['tweet'] = df['tweet'].str.replace(\"!\", \"\")\n",
        "df['tweet'] = df['tweet'].str.replace(\"'s\", \"\")\n",
        "df['tweet'] = df['tweet'].str.replace(\"'\", \"\")\n",
        "df['tweet'] = df['tweet'].str.replace(\"`\", \"\")\n",
        "df['tweet'] = df['tweet'].str.replace(\"https\", \"\")\n",
        "df['tweet'] = df['tweet'].str.replace(\"http\", \"\")\n",
        "df['tweet'] = df['tweet'].str.replace(\"rt\", \"\")\n",
        "df['tweet'] = df['tweet'].str.replace(\"-\", \"\")"
      ],
      "metadata": {
        "id": "p2n7cbs4IL8W"
      },
      "execution_count": 9,
      "outputs": []
    },
    {
      "cell_type": "code",
      "source": [
        "df['tweet']"
      ],
      "metadata": {
        "colab": {
          "base_uri": "https://localhost:8080/"
        },
        "id": "vqwGiRve3YGa",
        "outputId": "0bf76587-005c-44e7-b6d3-dfbf17d315bb"
      },
      "execution_count": 10,
      "outputs": [
        {
          "output_type": "execute_result",
          "data": {
            "text/plain": [
              "0           as a woman you shouldnt complain about clea...\n",
              "1           boy dats coldtyga dwn bad for cuffin dat ho...\n",
              "2           dawg   you ever fuck a bitch and she sta to...\n",
              "3                                   she look like a tranny\n",
              "4           the shit you hear about me might be true or...\n",
              "                               ...                        \n",
              "24778    you a muthaf***in lie &   right his tl is tras...\n",
              "24779    youve gone and broke the wrong hea baby and dr...\n",
              "24780    young buck wanna eat dat nigguh like i aint fu...\n",
              "24781                youu got wild bitches tellin you lies\n",
              "24782    ~~ruffled  ntac eileen dahlia  beautiful color...\n",
              "Name: tweet, Length: 24783, dtype: object"
            ]
          },
          "metadata": {},
          "execution_count": 10
        }
      ]
    },
    {
      "cell_type": "code",
      "source": [
        "nltk.download('stopwords')\n",
        "stop_words = set(stopwords.words('english'))\n",
        "\n",
        "for stop_word in stop_words:\n",
        "    regex_stopword = r\"\\b\" + stop_word + r\"\\b\"\n",
        "    df['tweet'] = df['tweet'].str.replace(regex_stopword, '', regex=True)"
      ],
      "metadata": {
        "colab": {
          "base_uri": "https://localhost:8080/"
        },
        "id": "qFXQyx7iIPkj",
        "outputId": "f7a53c17-6444-43da-939e-92eca3bec5cd"
      },
      "execution_count": 11,
      "outputs": [
        {
          "output_type": "stream",
          "name": "stderr",
          "text": [
            "[nltk_data] Downloading package stopwords to /root/nltk_data...\n",
            "[nltk_data]   Package stopwords is already up-to-date!\n"
          ]
        }
      ]
    },
    {
      "cell_type": "code",
      "source": [
        "df.sample(5)"
      ],
      "metadata": {
        "colab": {
          "base_uri": "https://localhost:8080/",
          "height": 206
        },
        "id": "dsVREoWh8ET-",
        "outputId": "3fd5224c-d6a5-4f7e-80e6-45cd3500d42f"
      },
      "execution_count": 12,
      "outputs": [
        {
          "output_type": "execute_result",
          "data": {
            "text/plain": [
              "                                                   tweet  class\n",
              "17411              mann fuckk dat shitfuckk dat bitch &&      1\n",
              "17865    one good girl  woh  thousand bitches  & = &&...      1\n",
              "24122    casual ghetto family twerk session //tco/jrm...      1\n",
              "9351   funny thing isit    people     people  seeing ...      2\n",
              "17960    good pussy aint changin nothin might bump   ...      1"
            ],
            "text/html": [
              "\n",
              "  <div id=\"df-d061390d-e290-454d-97f5-fbff60ca1b0d\" class=\"colab-df-container\">\n",
              "    <div>\n",
              "<style scoped>\n",
              "    .dataframe tbody tr th:only-of-type {\n",
              "        vertical-align: middle;\n",
              "    }\n",
              "\n",
              "    .dataframe tbody tr th {\n",
              "        vertical-align: top;\n",
              "    }\n",
              "\n",
              "    .dataframe thead th {\n",
              "        text-align: right;\n",
              "    }\n",
              "</style>\n",
              "<table border=\"1\" class=\"dataframe\">\n",
              "  <thead>\n",
              "    <tr style=\"text-align: right;\">\n",
              "      <th></th>\n",
              "      <th>tweet</th>\n",
              "      <th>class</th>\n",
              "    </tr>\n",
              "  </thead>\n",
              "  <tbody>\n",
              "    <tr>\n",
              "      <th>17411</th>\n",
              "      <td>mann fuckk dat shitfuckk dat bitch &amp;&amp;</td>\n",
              "      <td>1</td>\n",
              "    </tr>\n",
              "    <tr>\n",
              "      <th>17865</th>\n",
              "      <td>one good girl  woh  thousand bitches  &amp; = &amp;&amp;...</td>\n",
              "      <td>1</td>\n",
              "    </tr>\n",
              "    <tr>\n",
              "      <th>24122</th>\n",
              "      <td>casual ghetto family twerk session //tco/jrm...</td>\n",
              "      <td>1</td>\n",
              "    </tr>\n",
              "    <tr>\n",
              "      <th>9351</th>\n",
              "      <td>funny thing isit    people     people  seeing ...</td>\n",
              "      <td>2</td>\n",
              "    </tr>\n",
              "    <tr>\n",
              "      <th>17960</th>\n",
              "      <td>good pussy aint changin nothin might bump   ...</td>\n",
              "      <td>1</td>\n",
              "    </tr>\n",
              "  </tbody>\n",
              "</table>\n",
              "</div>\n",
              "    <div class=\"colab-df-buttons\">\n",
              "\n",
              "  <div class=\"colab-df-container\">\n",
              "    <button class=\"colab-df-convert\" onclick=\"convertToInteractive('df-d061390d-e290-454d-97f5-fbff60ca1b0d')\"\n",
              "            title=\"Convert this dataframe to an interactive table.\"\n",
              "            style=\"display:none;\">\n",
              "\n",
              "  <svg xmlns=\"http://www.w3.org/2000/svg\" height=\"24px\" viewBox=\"0 -960 960 960\">\n",
              "    <path d=\"M120-120v-720h720v720H120Zm60-500h600v-160H180v160Zm220 220h160v-160H400v160Zm0 220h160v-160H400v160ZM180-400h160v-160H180v160Zm440 0h160v-160H620v160ZM180-180h160v-160H180v160Zm440 0h160v-160H620v160Z\"/>\n",
              "  </svg>\n",
              "    </button>\n",
              "\n",
              "  <style>\n",
              "    .colab-df-container {\n",
              "      display:flex;\n",
              "      gap: 12px;\n",
              "    }\n",
              "\n",
              "    .colab-df-convert {\n",
              "      background-color: #E8F0FE;\n",
              "      border: none;\n",
              "      border-radius: 50%;\n",
              "      cursor: pointer;\n",
              "      display: none;\n",
              "      fill: #1967D2;\n",
              "      height: 32px;\n",
              "      padding: 0 0 0 0;\n",
              "      width: 32px;\n",
              "    }\n",
              "\n",
              "    .colab-df-convert:hover {\n",
              "      background-color: #E2EBFA;\n",
              "      box-shadow: 0px 1px 2px rgba(60, 64, 67, 0.3), 0px 1px 3px 1px rgba(60, 64, 67, 0.15);\n",
              "      fill: #174EA6;\n",
              "    }\n",
              "\n",
              "    .colab-df-buttons div {\n",
              "      margin-bottom: 4px;\n",
              "    }\n",
              "\n",
              "    [theme=dark] .colab-df-convert {\n",
              "      background-color: #3B4455;\n",
              "      fill: #D2E3FC;\n",
              "    }\n",
              "\n",
              "    [theme=dark] .colab-df-convert:hover {\n",
              "      background-color: #434B5C;\n",
              "      box-shadow: 0px 1px 3px 1px rgba(0, 0, 0, 0.15);\n",
              "      filter: drop-shadow(0px 1px 2px rgba(0, 0, 0, 0.3));\n",
              "      fill: #FFFFFF;\n",
              "    }\n",
              "  </style>\n",
              "\n",
              "    <script>\n",
              "      const buttonEl =\n",
              "        document.querySelector('#df-d061390d-e290-454d-97f5-fbff60ca1b0d button.colab-df-convert');\n",
              "      buttonEl.style.display =\n",
              "        google.colab.kernel.accessAllowed ? 'block' : 'none';\n",
              "\n",
              "      async function convertToInteractive(key) {\n",
              "        const element = document.querySelector('#df-d061390d-e290-454d-97f5-fbff60ca1b0d');\n",
              "        const dataTable =\n",
              "          await google.colab.kernel.invokeFunction('convertToInteractive',\n",
              "                                                    [key], {});\n",
              "        if (!dataTable) return;\n",
              "\n",
              "        const docLinkHtml = 'Like what you see? Visit the ' +\n",
              "          '<a target=\"_blank\" href=https://colab.research.google.com/notebooks/data_table.ipynb>data table notebook</a>'\n",
              "          + ' to learn more about interactive tables.';\n",
              "        element.innerHTML = '';\n",
              "        dataTable['output_type'] = 'display_data';\n",
              "        await google.colab.output.renderOutput(dataTable, element);\n",
              "        const docLink = document.createElement('div');\n",
              "        docLink.innerHTML = docLinkHtml;\n",
              "        element.appendChild(docLink);\n",
              "      }\n",
              "    </script>\n",
              "  </div>\n",
              "\n",
              "\n",
              "<div id=\"df-6a29806c-009e-4743-aa26-0de6e8d41883\">\n",
              "  <button class=\"colab-df-quickchart\" onclick=\"quickchart('df-6a29806c-009e-4743-aa26-0de6e8d41883')\"\n",
              "            title=\"Suggest charts\"\n",
              "            style=\"display:none;\">\n",
              "\n",
              "<svg xmlns=\"http://www.w3.org/2000/svg\" height=\"24px\"viewBox=\"0 0 24 24\"\n",
              "     width=\"24px\">\n",
              "    <g>\n",
              "        <path d=\"M19 3H5c-1.1 0-2 .9-2 2v14c0 1.1.9 2 2 2h14c1.1 0 2-.9 2-2V5c0-1.1-.9-2-2-2zM9 17H7v-7h2v7zm4 0h-2V7h2v10zm4 0h-2v-4h2v4z\"/>\n",
              "    </g>\n",
              "</svg>\n",
              "  </button>\n",
              "\n",
              "<style>\n",
              "  .colab-df-quickchart {\n",
              "      --bg-color: #E8F0FE;\n",
              "      --fill-color: #1967D2;\n",
              "      --hover-bg-color: #E2EBFA;\n",
              "      --hover-fill-color: #174EA6;\n",
              "      --disabled-fill-color: #AAA;\n",
              "      --disabled-bg-color: #DDD;\n",
              "  }\n",
              "\n",
              "  [theme=dark] .colab-df-quickchart {\n",
              "      --bg-color: #3B4455;\n",
              "      --fill-color: #D2E3FC;\n",
              "      --hover-bg-color: #434B5C;\n",
              "      --hover-fill-color: #FFFFFF;\n",
              "      --disabled-bg-color: #3B4455;\n",
              "      --disabled-fill-color: #666;\n",
              "  }\n",
              "\n",
              "  .colab-df-quickchart {\n",
              "    background-color: var(--bg-color);\n",
              "    border: none;\n",
              "    border-radius: 50%;\n",
              "    cursor: pointer;\n",
              "    display: none;\n",
              "    fill: var(--fill-color);\n",
              "    height: 32px;\n",
              "    padding: 0;\n",
              "    width: 32px;\n",
              "  }\n",
              "\n",
              "  .colab-df-quickchart:hover {\n",
              "    background-color: var(--hover-bg-color);\n",
              "    box-shadow: 0 1px 2px rgba(60, 64, 67, 0.3), 0 1px 3px 1px rgba(60, 64, 67, 0.15);\n",
              "    fill: var(--button-hover-fill-color);\n",
              "  }\n",
              "\n",
              "  .colab-df-quickchart-complete:disabled,\n",
              "  .colab-df-quickchart-complete:disabled:hover {\n",
              "    background-color: var(--disabled-bg-color);\n",
              "    fill: var(--disabled-fill-color);\n",
              "    box-shadow: none;\n",
              "  }\n",
              "\n",
              "  .colab-df-spinner {\n",
              "    border: 2px solid var(--fill-color);\n",
              "    border-color: transparent;\n",
              "    border-bottom-color: var(--fill-color);\n",
              "    animation:\n",
              "      spin 1s steps(1) infinite;\n",
              "  }\n",
              "\n",
              "  @keyframes spin {\n",
              "    0% {\n",
              "      border-color: transparent;\n",
              "      border-bottom-color: var(--fill-color);\n",
              "      border-left-color: var(--fill-color);\n",
              "    }\n",
              "    20% {\n",
              "      border-color: transparent;\n",
              "      border-left-color: var(--fill-color);\n",
              "      border-top-color: var(--fill-color);\n",
              "    }\n",
              "    30% {\n",
              "      border-color: transparent;\n",
              "      border-left-color: var(--fill-color);\n",
              "      border-top-color: var(--fill-color);\n",
              "      border-right-color: var(--fill-color);\n",
              "    }\n",
              "    40% {\n",
              "      border-color: transparent;\n",
              "      border-right-color: var(--fill-color);\n",
              "      border-top-color: var(--fill-color);\n",
              "    }\n",
              "    60% {\n",
              "      border-color: transparent;\n",
              "      border-right-color: var(--fill-color);\n",
              "    }\n",
              "    80% {\n",
              "      border-color: transparent;\n",
              "      border-right-color: var(--fill-color);\n",
              "      border-bottom-color: var(--fill-color);\n",
              "    }\n",
              "    90% {\n",
              "      border-color: transparent;\n",
              "      border-bottom-color: var(--fill-color);\n",
              "    }\n",
              "  }\n",
              "</style>\n",
              "\n",
              "  <script>\n",
              "    async function quickchart(key) {\n",
              "      const quickchartButtonEl =\n",
              "        document.querySelector('#' + key + ' button');\n",
              "      quickchartButtonEl.disabled = true;  // To prevent multiple clicks.\n",
              "      quickchartButtonEl.classList.add('colab-df-spinner');\n",
              "      try {\n",
              "        const charts = await google.colab.kernel.invokeFunction(\n",
              "            'suggestCharts', [key], {});\n",
              "      } catch (error) {\n",
              "        console.error('Error during call to suggestCharts:', error);\n",
              "      }\n",
              "      quickchartButtonEl.classList.remove('colab-df-spinner');\n",
              "      quickchartButtonEl.classList.add('colab-df-quickchart-complete');\n",
              "    }\n",
              "    (() => {\n",
              "      let quickchartButtonEl =\n",
              "        document.querySelector('#df-6a29806c-009e-4743-aa26-0de6e8d41883 button');\n",
              "      quickchartButtonEl.style.display =\n",
              "        google.colab.kernel.accessAllowed ? 'block' : 'none';\n",
              "    })();\n",
              "  </script>\n",
              "</div>\n",
              "\n",
              "    </div>\n",
              "  </div>\n"
            ]
          },
          "metadata": {},
          "execution_count": 12
        }
      ]
    },
    {
      "cell_type": "code",
      "source": [
        "cv = CountVectorizer(max_features = 125)\n",
        "X = cv.fit_transform(df['tweet']).toarray()\n",
        "y = df['class']"
      ],
      "metadata": {
        "id": "uEiuPVfzISBg"
      },
      "execution_count": 13,
      "outputs": []
    },
    {
      "cell_type": "code",
      "source": [
        "print(cv.get_feature_names_out())"
      ],
      "metadata": {
        "colab": {
          "base_uri": "https://localhost:8080/"
        },
        "id": "LRtjjAYB9EKu",
        "outputId": "c1cad7f2-c17e-4280-a734-79cbd95c50bd"
      },
      "execution_count": 14,
      "outputs": [
        {
          "output_type": "stream",
          "name": "stdout",
          "text": [
            "['aint' 'always' 'amp' 'ass' 'back' 'bad' 'better' 'big' 'bird' 'birds'\n",
            " 'bitch' 'bitches' 'black' 'bout' 'call' 'cant' 'cause' 'charlie' 'come'\n",
            " 'cunt' 'da' 'damn' 'dat' 'day' 'dick' 'dont' 'dumb' 'eat' 'even' 'ever'\n",
            " 'every' 'fag' 'faggot' 'fat' 'feel' 'fuck' 'fuckin' 'fucking' 'game'\n",
            " 'get' 'getting' 'ghetto' 'girl' 'girls' 'give' 'go' 'going' 'gonna'\n",
            " 'good' 'got' 'gotta' 'gt' 'hate' 'hit' 'hoe' 'hoes' 'ill' 'im' 'keep'\n",
            " 'know' 'let' 'life' 'like' 'lil' 'little' 'lmao' 'lol' 'look' 'love'\n",
            " 'mad' 'made' 'make' 'man' 'money' 'much' 'need' 'never' 'new' 'nigga'\n",
            " 'niggah' 'niggas' 'nigger' 'old' 'one' 'people' 'pussy' 'put' 'real'\n",
            " 'really' 'retarded' 'right' 'said' 'say' 'see' 'shit' 'still' 'stop'\n",
            " 'stupid' 'take' 'talk' 'talking' 'tco' 'tell' 'think' 'tho' 'time'\n",
            " 'today' 'trash' 'twitter' 'ugly' 'ur' 'wanna' 'want' 'way' 'well' 'white'\n",
            " 'wit' 'would' 'ya' 'yall' 'yankees' 'yeah' 'yellow' 'yo' 'youre']\n"
          ]
        }
      ]
    },
    {
      "cell_type": "code",
      "source": [
        "X[24781], y"
      ],
      "metadata": {
        "colab": {
          "base_uri": "https://localhost:8080/"
        },
        "id": "5kezkudeJbDy",
        "outputId": "98457671-8082-47b4-8e51-f4ea2c797568"
      },
      "execution_count": 15,
      "outputs": [
        {
          "output_type": "execute_result",
          "data": {
            "text/plain": [
              "(array([0, 0, 0, 0, 0, 0, 0, 0, 0, 0, 0, 1, 0, 0, 0, 0, 0, 0, 0, 0, 0, 0,\n",
              "        0, 0, 0, 0, 0, 0, 0, 0, 0, 0, 0, 0, 0, 0, 0, 0, 0, 0, 0, 0, 0, 0,\n",
              "        0, 0, 0, 0, 0, 1, 0, 0, 0, 0, 0, 0, 0, 0, 0, 0, 0, 0, 0, 0, 0, 0,\n",
              "        0, 0, 0, 0, 0, 0, 0, 0, 0, 0, 0, 0, 0, 0, 0, 0, 0, 0, 0, 0, 0, 0,\n",
              "        0, 0, 0, 0, 0, 0, 0, 0, 0, 0, 0, 0, 0, 0, 0, 0, 0, 0, 0, 0, 0, 0,\n",
              "        0, 0, 0, 0, 0, 0, 0, 0, 0, 0, 0, 0, 0, 0, 0]),\n",
              " 0        2\n",
              " 1        1\n",
              " 2        1\n",
              " 3        1\n",
              " 4        1\n",
              "         ..\n",
              " 24778    1\n",
              " 24779    2\n",
              " 24780    1\n",
              " 24781    1\n",
              " 24782    2\n",
              " Name: class, Length: 24783, dtype: int64)"
            ]
          },
          "metadata": {},
          "execution_count": 15
        }
      ]
    },
    {
      "cell_type": "code",
      "source": [
        "import torch\n",
        "from torch import nn\n",
        "import torch.optim as optim\n",
        "from torch.utils.data import DataLoader, Dataset\n",
        "import matplotlib.pyplot as plt\n",
        "\n",
        "\n",
        "print(torch.__version__)\n",
        "\n",
        "# Setting up device agnostic\n",
        "device = 'cuda' if torch.cuda.is_available() else 'cpu'\n",
        "print(device)"
      ],
      "metadata": {
        "colab": {
          "base_uri": "https://localhost:8080/"
        },
        "id": "q7bS0B1oKG7Y",
        "outputId": "73115a5a-1197-4312-ec7f-ed7a0dfe4c2f"
      },
      "execution_count": 16,
      "outputs": [
        {
          "output_type": "stream",
          "name": "stdout",
          "text": [
            "2.1.0+cu121\n",
            "cuda\n"
          ]
        }
      ]
    },
    {
      "cell_type": "markdown",
      "source": [
        "## Spliting Datasets"
      ],
      "metadata": {
        "id": "rfOAUZBZIYg_"
      }
    },
    {
      "cell_type": "code",
      "source": [
        "X.dtype, y.dtype"
      ],
      "metadata": {
        "colab": {
          "base_uri": "https://localhost:8080/"
        },
        "id": "8WoBQOVpMRdp",
        "outputId": "946d766f-195f-49ef-c652-a0b27f9208c4"
      },
      "execution_count": 17,
      "outputs": [
        {
          "output_type": "execute_result",
          "data": {
            "text/plain": [
              "(dtype('int64'), dtype('int64'))"
            ]
          },
          "metadata": {},
          "execution_count": 17
        }
      ]
    },
    {
      "cell_type": "code",
      "source": [
        "#  X and y are your input features and labels\n",
        "X = torch.tensor(X, dtype=torch.long)\n",
        "y = torch.tensor(y, dtype=torch.long)\n",
        "\n",
        "X, y"
      ],
      "metadata": {
        "colab": {
          "base_uri": "https://localhost:8080/"
        },
        "id": "CfKgXyWvMWNk",
        "outputId": "93118553-13c3-48c5-d360-9b326fe04310"
      },
      "execution_count": 18,
      "outputs": [
        {
          "output_type": "execute_result",
          "data": {
            "text/plain": [
              "(tensor([[0, 1, 1,  ..., 0, 0, 0],\n",
              "         [0, 0, 0,  ..., 0, 0, 0],\n",
              "         [0, 0, 0,  ..., 0, 0, 0],\n",
              "         ...,\n",
              "         [1, 0, 0,  ..., 0, 0, 0],\n",
              "         [0, 0, 0,  ..., 0, 0, 0],\n",
              "         [0, 0, 1,  ..., 1, 0, 0]]),\n",
              " tensor([2, 1, 1,  ..., 1, 1, 2]))"
            ]
          },
          "metadata": {},
          "execution_count": 18
        }
      ]
    },
    {
      "cell_type": "code",
      "source": [
        "X.ndim, y.ndim, X.shape, y.shape"
      ],
      "metadata": {
        "colab": {
          "base_uri": "https://localhost:8080/"
        },
        "id": "CzdGkZy8oeiv",
        "outputId": "80e8f499-8977-4284-d3b9-8a7f4da62c03"
      },
      "execution_count": 19,
      "outputs": [
        {
          "output_type": "execute_result",
          "data": {
            "text/plain": [
              "(2, 1, torch.Size([24783, 125]), torch.Size([24783]))"
            ]
          },
          "metadata": {},
          "execution_count": 19
        }
      ]
    },
    {
      "cell_type": "code",
      "source": [
        "train_split = int(0.8* len(X))\n",
        "X_train, y_train = X[:train_split], y[:train_split]\n",
        "X_test, y_test = X[train_split:], y[train_split:]\n",
        "\n",
        "len(X_train),len(y_train), len(X_test), len(y_test)"
      ],
      "metadata": {
        "colab": {
          "base_uri": "https://localhost:8080/"
        },
        "id": "TBPt7z2eJgE_",
        "outputId": "90e251b5-b04c-41b4-d479-695e0e9a4027"
      },
      "execution_count": 20,
      "outputs": [
        {
          "output_type": "execute_result",
          "data": {
            "text/plain": [
              "(19826, 19826, 4957, 4957)"
            ]
          },
          "metadata": {},
          "execution_count": 20
        }
      ]
    },
    {
      "cell_type": "code",
      "source": [
        "y_train.dtype, y_test.dtype"
      ],
      "metadata": {
        "colab": {
          "base_uri": "https://localhost:8080/"
        },
        "id": "w4Rusf73JwXI",
        "outputId": "64c204f8-e48e-4cb4-e2fb-c2f89e1b4035"
      },
      "execution_count": 21,
      "outputs": [
        {
          "output_type": "execute_result",
          "data": {
            "text/plain": [
              "(torch.int64, torch.int64)"
            ]
          },
          "metadata": {},
          "execution_count": 21
        }
      ]
    },
    {
      "cell_type": "markdown",
      "source": [
        "## Neural Network Model"
      ],
      "metadata": {
        "id": "MqQNHmCnMmHi"
      }
    },
    {
      "cell_type": "code",
      "source": [
        "class LSTMModel(nn.Module):\n",
        "  def __init__(self, vocab_size, embedding_dim, hidden_dim, output_dim):\n",
        "    super(LSTMModel, self).__init__()\n",
        "    self.embedding = nn.Embedding(vocab_size, embedding_dim)\n",
        "    self.lstm = nn.LSTM(embedding_dim, hidden_dim, batch_first=True)\n",
        "    self.dropout = nn.Dropout(0.2)\n",
        "    self.fc = nn.Linear(hidden_dim, output_dim)\n",
        "    self.softmax = nn.Softmax(dim=1)\n",
        "\n",
        "  def forward(self, x):\n",
        "    embedded = self.embedding(x)\n",
        "    embedded = self.dropout(embedded)\n",
        "    lstm_out, _ = self.lstm(embedded)\n",
        "    lstm_out = lstm_out[:, -1, :]\n",
        "    fc_out = self.fc(lstm_out)\n",
        "    output = self.softmax(fc_out)\n",
        "    return output"
      ],
      "metadata": {
        "id": "Rle9sO_sMC52"
      },
      "execution_count": 22,
      "outputs": []
    },
    {
      "cell_type": "code",
      "source": [
        "vocab_size = 232337\n",
        "embedding_dim = 100\n",
        "hidden_dim = 20\n",
        "output_dim = 3\n",
        "\n",
        "model = LSTMModel(vocab_size, embedding_dim, hidden_dim, output_dim)\n",
        "model"
      ],
      "metadata": {
        "colab": {
          "base_uri": "https://localhost:8080/"
        },
        "id": "GcwOp5RZONPK",
        "outputId": "a3884661-2187-46cf-bd89-702ecf5a2f33"
      },
      "execution_count": 23,
      "outputs": [
        {
          "output_type": "execute_result",
          "data": {
            "text/plain": [
              "LSTMModel(\n",
              "  (embedding): Embedding(232337, 100)\n",
              "  (lstm): LSTM(100, 20, batch_first=True)\n",
              "  (dropout): Dropout(p=0.2, inplace=False)\n",
              "  (fc): Linear(in_features=20, out_features=3, bias=True)\n",
              "  (softmax): Softmax(dim=1)\n",
              ")"
            ]
          },
          "metadata": {},
          "execution_count": 23
        }
      ]
    },
    {
      "cell_type": "code",
      "source": [
        "next(model.parameters()).device"
      ],
      "metadata": {
        "colab": {
          "base_uri": "https://localhost:8080/"
        },
        "id": "ysl_LwjwRX9p",
        "outputId": "90dfe7a1-03c8-4f27-ce44-4fc4a871aaea"
      },
      "execution_count": 24,
      "outputs": [
        {
          "output_type": "execute_result",
          "data": {
            "text/plain": [
              "device(type='cpu')"
            ]
          },
          "metadata": {},
          "execution_count": 24
        }
      ]
    },
    {
      "cell_type": "code",
      "source": [
        "# Set model usage to CUDA\n",
        "model.to(device)\n",
        "next(model.parameters()).device"
      ],
      "metadata": {
        "colab": {
          "base_uri": "https://localhost:8080/"
        },
        "id": "c1fLC7xIRjSI",
        "outputId": "a7fb88a0-1a73-44b7-fedf-87813e8f6482"
      },
      "execution_count": 25,
      "outputs": [
        {
          "output_type": "execute_result",
          "data": {
            "text/plain": [
              "device(type='cuda', index=0)"
            ]
          },
          "metadata": {},
          "execution_count": 25
        }
      ]
    },
    {
      "cell_type": "code",
      "source": [
        "# Loss function and optimizers\n",
        "loss_fn = nn.CrossEntropyLoss()\n",
        "optimizer = torch.optim.Adam(model.parameters(), lr=0.01)"
      ],
      "metadata": {
        "id": "22zuDVcwId0c"
      },
      "execution_count": 26,
      "outputs": []
    },
    {
      "cell_type": "code",
      "source": [
        "torch.manual_seed(42)\n",
        "\n",
        "epochs = 40\n",
        "batch_size = 64\n",
        "\n",
        "# Placing data on CUDA\n",
        "X_train = X_train.to(device)\n",
        "X_test = X_test.to(device)\n",
        "y_train = y_train.to(device)\n",
        "y_test = y_test.to(device)\n",
        "\n",
        "# Tracking\n",
        "epoch_count = []\n",
        "loss_values = []\n",
        "test_loss_values = []\n",
        "train_accuracies = []\n",
        "test_accuracies = []\n",
        "\n",
        "# Train loop\n",
        "for epoch in range(epochs):\n",
        "    model.train()\n",
        "    y_pred = model(X_train)\n",
        "    loss = loss_fn(y_pred, y_train)\n",
        "\n",
        "    optimizer.zero_grad()\n",
        "    loss.backward()\n",
        "    optimizer.step()\n",
        "\n",
        "    # Calculate training accuracy\n",
        "    _, predicted_train_labels = torch.max(y_pred, 1)\n",
        "    train_accuracy = (predicted_train_labels == y_train).sum().item() / len(y_train)\n",
        "\n",
        "    # Testing\n",
        "    model.eval()\n",
        "    with torch.inference_mode():\n",
        "        test_pred = model(X_test)\n",
        "        test_loss = loss_fn(test_pred, y_test)\n",
        "\n",
        "        # Calculate test accuracy\n",
        "        _, predicted_test_labels = torch.max(test_pred, 1)\n",
        "        test_accuracy = (predicted_test_labels == y_test).sum().item() / len(y_test)\n",
        "\n",
        "    if epoch % 5 == 0 or epoch == epochs-1:\n",
        "        epoch_count.append(epoch)\n",
        "        loss_values.append(loss)\n",
        "        test_loss_values.append(test_loss)\n",
        "        train_accuracies.append(train_accuracy)\n",
        "        test_accuracies.append(test_accuracy)\n",
        "        print(f'Epoch: {epoch} | Train Loss: {loss:.4f} | Test Loss: {test_loss:.4f} | Train Accuracy: {train_accuracy:.4f} | Test Accuracy: {test_accuracy:.4f}')\n"
      ],
      "metadata": {
        "colab": {
          "base_uri": "https://localhost:8080/"
        },
        "id": "DNqTplKsO_So",
        "outputId": "7f4df612-8f98-4a6d-86f8-253ed32e1162"
      },
      "execution_count": 27,
      "outputs": [
        {
          "output_type": "stream",
          "name": "stdout",
          "text": [
            "Epoch: 0 | Train Loss: 1.0786 | Test Loss: 0.9443 | Train Accuracy: 0.6463 | Test Accuracy: 0.7924\n",
            "Epoch: 5 | Train Loss: 0.8311 | Test Loss: 0.7971 | Train Accuracy: 0.7698 | Test Accuracy: 0.7924\n",
            "Epoch: 10 | Train Loss: 0.7954 | Test Loss: 0.7715 | Train Accuracy: 0.7698 | Test Accuracy: 0.7924\n",
            "Epoch: 15 | Train Loss: 0.7871 | Test Loss: 0.7642 | Train Accuracy: 0.7698 | Test Accuracy: 0.7924\n",
            "Epoch: 20 | Train Loss: 0.7844 | Test Loss: 0.7617 | Train Accuracy: 0.7698 | Test Accuracy: 0.7924\n",
            "Epoch: 25 | Train Loss: 0.7833 | Test Loss: 0.7607 | Train Accuracy: 0.7698 | Test Accuracy: 0.7924\n",
            "Epoch: 30 | Train Loss: 0.7828 | Test Loss: 0.7602 | Train Accuracy: 0.7698 | Test Accuracy: 0.7924\n",
            "Epoch: 35 | Train Loss: 0.7825 | Test Loss: 0.7600 | Train Accuracy: 0.7698 | Test Accuracy: 0.7924\n",
            "Epoch: 39 | Train Loss: 0.7824 | Test Loss: 0.7598 | Train Accuracy: 0.7698 | Test Accuracy: 0.7924\n"
          ]
        }
      ]
    },
    {
      "cell_type": "markdown",
      "source": [
        "## Loss Curve Plot"
      ],
      "metadata": {
        "id": "fTNGo0gkpOIW"
      }
    },
    {
      "cell_type": "code",
      "source": [
        "import numpy as np\n",
        "\n",
        "# Plot loss curves\n",
        "plt.figure(figsize=(8,3))\n",
        "plt.plot(epoch_count, np.array(torch.tensor(loss_values).numpy()), label=\"Train Loss\")\n",
        "plt.plot(epoch_count, np.array(torch.tensor(test_loss_values).numpy()), label=\"Test Loss\")\n",
        "plt.title(\"Train/Test loss curves\")\n",
        "plt.ylabel(\"Loss\")\n",
        "plt.xlabel(\"Epoch\")\n",
        "plt.legend();"
      ],
      "metadata": {
        "colab": {
          "base_uri": "https://localhost:8080/",
          "height": 333
        },
        "id": "gWjqLaVLpQKg",
        "outputId": "87476310-5a5b-4997-d9d4-9f7f046cc93b"
      },
      "execution_count": 28,
      "outputs": [
        {
          "output_type": "display_data",
          "data": {
            "text/plain": [
              "<Figure size 800x300 with 1 Axes>"
            ],
            "image/png": "[encoded data removed]"
          },
          "metadata": {}
        }
      ]
    },
    {
      "cell_type": "markdown",
      "source": [
        "## Plot Accuracy Curve"
      ],
      "metadata": {
        "id": "eo_l1CPr0_ui"
      }
    },
    {
      "cell_type": "code",
      "source": [
        "import numpy as np\n",
        "\n",
        "# Plot loss curves\n",
        "plt.figure(figsize=(8,3))\n",
        "plt.plot(epoch_count, np.array(torch.tensor(train_accuracies).numpy()), label=\"Train Loss\")\n",
        "plt.plot(epoch_count, np.array(torch.tensor(test_accuracies).numpy()), label=\"Test Loss\")\n",
        "plt.title(\"Train/Test loss curves\")\n",
        "plt.ylabel(\"Loss\")\n",
        "plt.xlabel(\"Epoch\")\n",
        "plt.legend();"
      ],
      "metadata": {
        "colab": {
          "base_uri": "https://localhost:8080/",
          "height": 333
        },
        "id": "-dRDLTIa1Cph",
        "outputId": "fe5da518-7a68-41f6-ba06-8309c9a88963"
      },
      "execution_count": 32,
      "outputs": [
        {
          "output_type": "display_data",
          "data": {
            "text/plain": [
              "<Figure size 800x300 with 1 Axes>"
            ],
            "image/png": "[encoded data removed]"
          },
          "metadata": {}
        }
      ]
    },
    {
      "cell_type": "markdown",
      "source": [
        "## Saving model"
      ],
      "metadata": {
        "id": "3nONBJPKEC9L"
      }
    },
    {
      "cell_type": "code",
      "source": [
        "from pathlib import Path\n",
        "\n",
        "model_path = Path('models')\n",
        "model_path.mkdir(parents = True, exist_ok =True)\n",
        "\n",
        "model_name = '00_LSTM_HateSpeech.pth'\n",
        "model_save_path = model_path / model_name\n",
        "\n",
        "print(f\"Saving model to: {model_save_path}\")\n",
        "torch.save(obj = model.state_dict(),\n",
        "           f = model_save_path)\n",
        "print('Saved Successfully')"
      ],
      "metadata": {
        "id": "FHGsknQKRsuc",
        "colab": {
          "base_uri": "https://localhost:8080/"
        },
        "outputId": "fce9db88-107e-4ec8-fdf1-0d4aa6608cf8"
      },
      "execution_count": 520,
      "outputs": [
        {
          "output_type": "stream",
          "name": "stdout",
          "text": [
            "Saving model to: models/00_LSTM_HateSpeech.pth\n",
            "Saved Successfully\n"
          ]
        }
      ]
    },
    {
      "cell_type": "code",
      "source": [
        "loaded_model = LSTMModel(vocab_size, embedding_dim, hidden_dim, output_dim)\n",
        "loaded_model.load_state_dict(torch.load(model_save_path))\n",
        "\n",
        "# Transfer loaded model to CUDA\n",
        "loaded_model.to(device)\n",
        "\n",
        "print(f\"Loaded model:\\n{loaded_model}\")\n",
        "print(f\"Model on device:\\n{next(loaded_model.parameters()).device}\")"
      ],
      "metadata": {
        "colab": {
          "base_uri": "https://localhost:8080/"
        },
        "id": "B-AKnn7jHyM-",
        "outputId": "49a19860-e27c-4a1e-fa13-04b9954451cd"
      },
      "execution_count": 521,
      "outputs": [
        {
          "output_type": "stream",
          "name": "stdout",
          "text": [
            "Loaded model:\n",
            "LSTMModel(\n",
            "  (embedding): Embedding(232337, 100)\n",
            "  (lstm): LSTM(100, 20, batch_first=True)\n",
            "  (dropout): Dropout(p=0.2, inplace=False)\n",
            "  (fc): Linear(in_features=20, out_features=3, bias=True)\n",
            "  (softmax): Softmax(dim=1)\n",
            ")\n",
            "Model on device:\n",
            "cuda:0\n"
          ]
        }
      ]
    },
    {
      "cell_type": "code",
      "source": [
        "model.eval()\n",
        "\n",
        "with torch.inference_mode():\n",
        "  y_preds = model(X_test)\n",
        "\n",
        "y_preds"
      ],
      "metadata": {
        "colab": {
          "base_uri": "https://localhost:8080/"
        },
        "id": "rCj6JLNIID9P",
        "outputId": "e32d0563-805d-4fc1-d2bc-56bc72575204"
      },
      "execution_count": 522,
      "outputs": [
        {
          "output_type": "execute_result",
          "data": {
            "text/plain": [
              "tensor([[4.2441e-04, 9.9850e-01, 1.0783e-03],\n",
              "        [4.2441e-04, 9.9850e-01, 1.0783e-03],\n",
              "        [4.2441e-04, 9.9850e-01, 1.0783e-03],\n",
              "        ...,\n",
              "        [4.2441e-04, 9.9850e-01, 1.0783e-03],\n",
              "        [4.2441e-04, 9.9850e-01, 1.0783e-03],\n",
              "        [4.2343e-04, 9.9850e-01, 1.0743e-03]], device='cuda:0')"
            ]
          },
          "metadata": {},
          "execution_count": 522
        }
      ]
    },
    {
      "cell_type": "code",
      "source": [
        "# Evaluate loaded model\n",
        "loaded_model.eval()\n",
        "with torch.inference_mode():\n",
        "  loaded_model_preds = loaded_model(X_test)\n",
        "\n",
        "y_preds == loaded_model_preds"
      ],
      "metadata": {
        "colab": {
          "base_uri": "https://localhost:8080/"
        },
        "id": "ecw3eFn5INQP",
        "outputId": "d352e55e-d766-41bb-e103-c421a0e49389"
      },
      "execution_count": 523,
      "outputs": [
        {
          "output_type": "execute_result",
          "data": {
            "text/plain": [
              "tensor([[True, True, True],\n",
              "        [True, True, True],\n",
              "        [True, True, True],\n",
              "        ...,\n",
              "        [True, True, True],\n",
              "        [True, True, True],\n",
              "        [True, True, True]], device='cuda:0')"
            ]
          },
          "metadata": {},
          "execution_count": 523
        }
      ]
    }
  ]
}