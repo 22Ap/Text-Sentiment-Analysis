{
  "nbformat": 4,
  "nbformat_minor": 0,
  "metadata": {
    "colab": {
      "provenance": [],
      "gpuType": "T4",
      "include_colab_link": true
    },
    "kernelspec": {
      "name": "python3",
      "display_name": "Python 3"
    },
    "language_info": {
      "name": "python"
    },
    "accelerator": "GPU"
  },
  "cells": [
    {
      "cell_type": "markdown",
      "metadata": {
        "id": "view-in-github",
        "colab_type": "text"
      },
      "source": [
        "<a href=\"https://colab.research.google.com/github/LuluW8071/Text-Classification/blob/main/Hate_Speech_Detection.ipynb\" target=\"_parent\"><img src=\"https://colab.research.google.com/assets/colab-badge.svg\" alt=\"Open In Colab\"/></a>"
      ]
    },
    {
      "cell_type": "markdown",
      "source": [
        "# Hate Speech Detection Using LSTM in PyTorch"
      ],
      "metadata": {
        "id": "haFIn-FnFlZy"
      }
    },
    {
      "cell_type": "code",
      "source": [
        "import pandas as pd\n",
        "import numpy as np"
      ],
      "metadata": {
        "id": "ljNIZQEfHwTH"
      },
      "execution_count": 101,
      "outputs": []
    },
    {
      "cell_type": "code",
      "source": [
        "# Load dataset\n",
        "df = pd.read_csv('labeled_data.csv')\n",
        "\n",
        "df.shape"
      ],
      "metadata": {
        "colab": {
          "base_uri": "https://localhost:8080/"
        },
        "id": "84JeUq3JFvpr",
        "outputId": "9aa30349-dac7-460b-b239-e17d31fda85c"
      },
      "execution_count": 102,
      "outputs": [
        {
          "output_type": "execute_result",
          "data": {
            "text/plain": [
              "(24783, 7)"
            ]
          },
          "metadata": {},
          "execution_count": 102
        }
      ]
    },
    {
      "cell_type": "code",
      "source": [
        "import nltk\n",
        "import re\n",
        "from nltk.stem import PorterStemmer\n",
        "from nltk.corpus import stopwords\n",
        "from sklearn.feature_extraction.text import CountVectorizer\n",
        "from nltk.stem import WordNetLemmatizer"
      ],
      "metadata": {
        "id": "18cY3f_uHoUZ"
      },
      "execution_count": 103,
      "outputs": []
    },
    {
      "cell_type": "code",
      "source": [
        "text = []\n",
        "clas = []\n",
        "\n",
        "text = df['tweet'].tolist()\n",
        "clas = df['class'].tolist()"
      ],
      "metadata": {
        "id": "ZQJAOOgSH-Tr"
      },
      "execution_count": 104,
      "outputs": []
    },
    {
      "cell_type": "code",
      "source": [
        "df = pd.DataFrame({'tweet': text, 'class': clas})"
      ],
      "metadata": {
        "id": "Nq5YNZ7QIDF5"
      },
      "execution_count": 105,
      "outputs": []
    },
    {
      "cell_type": "code",
      "source": [
        "print(df.isnull().sum())"
      ],
      "metadata": {
        "colab": {
          "base_uri": "https://localhost:8080/"
        },
        "id": "YHwwGfiKIHnw",
        "outputId": "2217ace7-4c08-496a-d2ec-2e5d4741374e"
      },
      "execution_count": 106,
      "outputs": [
        {
          "output_type": "stream",
          "name": "stdout",
          "text": [
            "tweet    0\n",
            "class    0\n",
            "dtype: int64\n"
          ]
        }
      ]
    },
    {
      "cell_type": "code",
      "source": [
        "df['tweet'] = df['tweet'].apply(lambda x:x.lower())"
      ],
      "metadata": {
        "id": "6xPM3U0RIJCz"
      },
      "execution_count": 107,
      "outputs": []
    },
    {
      "cell_type": "code",
      "source": [
        "punctuation_signs = list(\"?:!.,;|\")\n",
        "remove_usernames = r'@([^\\s]+)'\n",
        "remove_hash_no = r'#\\d+'\n",
        "\n",
        "# Remove punctuation signs\n",
        "for punct_sign in punctuation_signs:\n",
        "    df['tweet'] = df['tweet'].str.replace(punct_sign, '', regex=True)\n",
        "\n",
        "# Remove usernames\n",
        "df['tweet'] = df['tweet'].str.replace(remove_usernames, '', regex=True)\n",
        "\n",
        "# Remove hashtags with numbers\n",
        "df['tweet'] = df['tweet'].str.replace(remove_hash_no, '', regex=True)"
      ],
      "metadata": {
        "id": "pXidtIC6IKfS"
      },
      "execution_count": 108,
      "outputs": []
    },
    {
      "cell_type": "code",
      "source": [
        "df['tweet'] = df['tweet'].apply(lambda x: x.replace('\\n', ' '))\n",
        "df['tweet'] = df['tweet'].apply(lambda x: x.replace('\\t', ' '))\n",
        "df['tweet'] = df['tweet'].str.replace(\"    \", \" \")\n",
        "df['tweet'] = df['tweet'].str.replace('\"', '')\n",
        "df['tweet'] = df['tweet'].str.replace(\"!\", \"\")\n",
        "df['tweet'] = df['tweet'].str.replace(\"'s\", \"\")\n",
        "df['tweet'] = df['tweet'].str.replace(\"'\", \"\")\n",
        "df['tweet'] = df['tweet'].str.replace(\"`\", \"\")\n",
        "df['tweet'] = df['tweet'].str.replace(\"https\", \"\")\n",
        "df['tweet'] = df['tweet'].str.replace(\"http\", \"\")\n",
        "df['tweet'] = df['tweet'].str.replace(\"rt\", \"\")\n",
        "df['tweet'] = df['tweet'].str.replace(\"-\", \"\")"
      ],
      "metadata": {
        "id": "p2n7cbs4IL8W"
      },
      "execution_count": 109,
      "outputs": []
    },
    {
      "cell_type": "code",
      "source": [
        "df['tweet']"
      ],
      "metadata": {
        "colab": {
          "base_uri": "https://localhost:8080/"
        },
        "id": "vqwGiRve3YGa",
        "outputId": "f6c42e31-2cd3-4ee5-d995-4331dd96c2a9"
      },
      "execution_count": 110,
      "outputs": [
        {
          "output_type": "execute_result",
          "data": {
            "text/plain": [
              "0           as a woman you shouldnt complain about clea...\n",
              "1           boy dats coldtyga dwn bad for cuffin dat ho...\n",
              "2           dawg   you ever fuck a bitch and she sta to...\n",
              "3                                   she look like a tranny\n",
              "4           the shit you hear about me might be true or...\n",
              "                               ...                        \n",
              "24778    you a muthaf***in lie &   right his tl is tras...\n",
              "24779    youve gone and broke the wrong hea baby and dr...\n",
              "24780    young buck wanna eat dat nigguh like i aint fu...\n",
              "24781                youu got wild bitches tellin you lies\n",
              "24782    ~~ruffled  ntac eileen dahlia  beautiful color...\n",
              "Name: tweet, Length: 24783, dtype: object"
            ]
          },
          "metadata": {},
          "execution_count": 110
        }
      ]
    },
    {
      "cell_type": "code",
      "source": [
        "nltk.download('stopwords')\n",
        "stop_words = set(stopwords.words('english'))\n",
        "\n",
        "for stop_word in stop_words:\n",
        "    regex_stopword = r\"\\b\" + stop_word + r\"\\b\"\n",
        "    df['tweet'] = df['tweet'].str.replace(regex_stopword, '', regex=True)"
      ],
      "metadata": {
        "colab": {
          "base_uri": "https://localhost:8080/"
        },
        "id": "qFXQyx7iIPkj",
        "outputId": "8d7670da-2258-4352-8bca-933c26f9bcba"
      },
      "execution_count": 111,
      "outputs": [
        {
          "output_type": "stream",
          "name": "stderr",
          "text": [
            "[nltk_data] Downloading package stopwords to /root/nltk_data...\n",
            "[nltk_data]   Package stopwords is already up-to-date!\n"
          ]
        }
      ]
    },
    {
      "cell_type": "code",
      "source": [
        "df.sample(5)"
      ],
      "metadata": {
        "colab": {
          "base_uri": "https://localhost:8080/",
          "height": 206
        },
        "id": "dsVREoWh8ET-",
        "outputId": "7f3262e1-0d56-4af8-edf7-733e64ff7ed6"
      },
      "execution_count": 112,
      "outputs": [
        {
          "output_type": "execute_result",
          "data": {
            "text/plain": [
              "                                                   tweet  class\n",
              "7357                                          mock draft      2\n",
              "23346                      know   hoes  //tco/edhifnsrfr      1\n",
              "6335           said ready bitch okay lmfaoooooooo  done       1\n",
              "1125           & im suppose  eat yo booty bitch wym& &&&      1\n",
              "22376  uh cody called   punk ass bitch   said  think ...      1"
            ],
            "text/html": [
              "\n",
              "  <div id=\"df-0885a5b1-475f-4b72-af78-e88d96697c05\" class=\"colab-df-container\">\n",
              "    <div>\n",
              "<style scoped>\n",
              "    .dataframe tbody tr th:only-of-type {\n",
              "        vertical-align: middle;\n",
              "    }\n",
              "\n",
              "    .dataframe tbody tr th {\n",
              "        vertical-align: top;\n",
              "    }\n",
              "\n",
              "    .dataframe thead th {\n",
              "        text-align: right;\n",
              "    }\n",
              "</style>\n",
              "<table border=\"1\" class=\"dataframe\">\n",
              "  <thead>\n",
              "    <tr style=\"text-align: right;\">\n",
              "      <th></th>\n",
              "      <th>tweet</th>\n",
              "      <th>class</th>\n",
              "    </tr>\n",
              "  </thead>\n",
              "  <tbody>\n",
              "    <tr>\n",
              "      <th>7357</th>\n",
              "      <td>mock draft</td>\n",
              "      <td>2</td>\n",
              "    </tr>\n",
              "    <tr>\n",
              "      <th>23346</th>\n",
              "      <td>know   hoes  //tco/edhifnsrfr</td>\n",
              "      <td>1</td>\n",
              "    </tr>\n",
              "    <tr>\n",
              "      <th>6335</th>\n",
              "      <td>said ready bitch okay lmfaoooooooo  done</td>\n",
              "      <td>1</td>\n",
              "    </tr>\n",
              "    <tr>\n",
              "      <th>1125</th>\n",
              "      <td>&amp; im suppose  eat yo booty bitch wym&amp; &amp;&amp;&amp;</td>\n",
              "      <td>1</td>\n",
              "    </tr>\n",
              "    <tr>\n",
              "      <th>22376</th>\n",
              "      <td>uh cody called   punk ass bitch   said  think ...</td>\n",
              "      <td>1</td>\n",
              "    </tr>\n",
              "  </tbody>\n",
              "</table>\n",
              "</div>\n",
              "    <div class=\"colab-df-buttons\">\n",
              "\n",
              "  <div class=\"colab-df-container\">\n",
              "    <button class=\"colab-df-convert\" onclick=\"convertToInteractive('df-0885a5b1-475f-4b72-af78-e88d96697c05')\"\n",
              "            title=\"Convert this dataframe to an interactive table.\"\n",
              "            style=\"display:none;\">\n",
              "\n",
              "  <svg xmlns=\"http://www.w3.org/2000/svg\" height=\"24px\" viewBox=\"0 -960 960 960\">\n",
              "    <path d=\"M120-120v-720h720v720H120Zm60-500h600v-160H180v160Zm220 220h160v-160H400v160Zm0 220h160v-160H400v160ZM180-400h160v-160H180v160Zm440 0h160v-160H620v160ZM180-180h160v-160H180v160Zm440 0h160v-160H620v160Z\"/>\n",
              "  </svg>\n",
              "    </button>\n",
              "\n",
              "  <style>\n",
              "    .colab-df-container {\n",
              "      display:flex;\n",
              "      gap: 12px;\n",
              "    }\n",
              "\n",
              "    .colab-df-convert {\n",
              "      background-color: #E8F0FE;\n",
              "      border: none;\n",
              "      border-radius: 50%;\n",
              "      cursor: pointer;\n",
              "      display: none;\n",
              "      fill: #1967D2;\n",
              "      height: 32px;\n",
              "      padding: 0 0 0 0;\n",
              "      width: 32px;\n",
              "    }\n",
              "\n",
              "    .colab-df-convert:hover {\n",
              "      background-color: #E2EBFA;\n",
              "      box-shadow: 0px 1px 2px rgba(60, 64, 67, 0.3), 0px 1px 3px 1px rgba(60, 64, 67, 0.15);\n",
              "      fill: #174EA6;\n",
              "    }\n",
              "\n",
              "    .colab-df-buttons div {\n",
              "      margin-bottom: 4px;\n",
              "    }\n",
              "\n",
              "    [theme=dark] .colab-df-convert {\n",
              "      background-color: #3B4455;\n",
              "      fill: #D2E3FC;\n",
              "    }\n",
              "\n",
              "    [theme=dark] .colab-df-convert:hover {\n",
              "      background-color: #434B5C;\n",
              "      box-shadow: 0px 1px 3px 1px rgba(0, 0, 0, 0.15);\n",
              "      filter: drop-shadow(0px 1px 2px rgba(0, 0, 0, 0.3));\n",
              "      fill: #FFFFFF;\n",
              "    }\n",
              "  </style>\n",
              "\n",
              "    <script>\n",
              "      const buttonEl =\n",
              "        document.querySelector('#df-0885a5b1-475f-4b72-af78-e88d96697c05 button.colab-df-convert');\n",
              "      buttonEl.style.display =\n",
              "        google.colab.kernel.accessAllowed ? 'block' : 'none';\n",
              "\n",
              "      async function convertToInteractive(key) {\n",
              "        const element = document.querySelector('#df-0885a5b1-475f-4b72-af78-e88d96697c05');\n",
              "        const dataTable =\n",
              "          await google.colab.kernel.invokeFunction('convertToInteractive',\n",
              "                                                    [key], {});\n",
              "        if (!dataTable) return;\n",
              "\n",
              "        const docLinkHtml = 'Like what you see? Visit the ' +\n",
              "          '<a target=\"_blank\" href=https://colab.research.google.com/notebooks/data_table.ipynb>data table notebook</a>'\n",
              "          + ' to learn more about interactive tables.';\n",
              "        element.innerHTML = '';\n",
              "        dataTable['output_type'] = 'display_data';\n",
              "        await google.colab.output.renderOutput(dataTable, element);\n",
              "        const docLink = document.createElement('div');\n",
              "        docLink.innerHTML = docLinkHtml;\n",
              "        element.appendChild(docLink);\n",
              "      }\n",
              "    </script>\n",
              "  </div>\n",
              "\n",
              "\n",
              "<div id=\"df-60d341da-eda0-48ef-8714-35ac1aafbfff\">\n",
              "  <button class=\"colab-df-quickchart\" onclick=\"quickchart('df-60d341da-eda0-48ef-8714-35ac1aafbfff')\"\n",
              "            title=\"Suggest charts\"\n",
              "            style=\"display:none;\">\n",
              "\n",
              "<svg xmlns=\"http://www.w3.org/2000/svg\" height=\"24px\"viewBox=\"0 0 24 24\"\n",
              "     width=\"24px\">\n",
              "    <g>\n",
              "        <path d=\"M19 3H5c-1.1 0-2 .9-2 2v14c0 1.1.9 2 2 2h14c1.1 0 2-.9 2-2V5c0-1.1-.9-2-2-2zM9 17H7v-7h2v7zm4 0h-2V7h2v10zm4 0h-2v-4h2v4z\"/>\n",
              "    </g>\n",
              "</svg>\n",
              "  </button>\n",
              "\n",
              "<style>\n",
              "  .colab-df-quickchart {\n",
              "      --bg-color: #E8F0FE;\n",
              "      --fill-color: #1967D2;\n",
              "      --hover-bg-color: #E2EBFA;\n",
              "      --hover-fill-color: #174EA6;\n",
              "      --disabled-fill-color: #AAA;\n",
              "      --disabled-bg-color: #DDD;\n",
              "  }\n",
              "\n",
              "  [theme=dark] .colab-df-quickchart {\n",
              "      --bg-color: #3B4455;\n",
              "      --fill-color: #D2E3FC;\n",
              "      --hover-bg-color: #434B5C;\n",
              "      --hover-fill-color: #FFFFFF;\n",
              "      --disabled-bg-color: #3B4455;\n",
              "      --disabled-fill-color: #666;\n",
              "  }\n",
              "\n",
              "  .colab-df-quickchart {\n",
              "    background-color: var(--bg-color);\n",
              "    border: none;\n",
              "    border-radius: 50%;\n",
              "    cursor: pointer;\n",
              "    display: none;\n",
              "    fill: var(--fill-color);\n",
              "    height: 32px;\n",
              "    padding: 0;\n",
              "    width: 32px;\n",
              "  }\n",
              "\n",
              "  .colab-df-quickchart:hover {\n",
              "    background-color: var(--hover-bg-color);\n",
              "    box-shadow: 0 1px 2px rgba(60, 64, 67, 0.3), 0 1px 3px 1px rgba(60, 64, 67, 0.15);\n",
              "    fill: var(--button-hover-fill-color);\n",
              "  }\n",
              "\n",
              "  .colab-df-quickchart-complete:disabled,\n",
              "  .colab-df-quickchart-complete:disabled:hover {\n",
              "    background-color: var(--disabled-bg-color);\n",
              "    fill: var(--disabled-fill-color);\n",
              "    box-shadow: none;\n",
              "  }\n",
              "\n",
              "  .colab-df-spinner {\n",
              "    border: 2px solid var(--fill-color);\n",
              "    border-color: transparent;\n",
              "    border-bottom-color: var(--fill-color);\n",
              "    animation:\n",
              "      spin 1s steps(1) infinite;\n",
              "  }\n",
              "\n",
              "  @keyframes spin {\n",
              "    0% {\n",
              "      border-color: transparent;\n",
              "      border-bottom-color: var(--fill-color);\n",
              "      border-left-color: var(--fill-color);\n",
              "    }\n",
              "    20% {\n",
              "      border-color: transparent;\n",
              "      border-left-color: var(--fill-color);\n",
              "      border-top-color: var(--fill-color);\n",
              "    }\n",
              "    30% {\n",
              "      border-color: transparent;\n",
              "      border-left-color: var(--fill-color);\n",
              "      border-top-color: var(--fill-color);\n",
              "      border-right-color: var(--fill-color);\n",
              "    }\n",
              "    40% {\n",
              "      border-color: transparent;\n",
              "      border-right-color: var(--fill-color);\n",
              "      border-top-color: var(--fill-color);\n",
              "    }\n",
              "    60% {\n",
              "      border-color: transparent;\n",
              "      border-right-color: var(--fill-color);\n",
              "    }\n",
              "    80% {\n",
              "      border-color: transparent;\n",
              "      border-right-color: var(--fill-color);\n",
              "      border-bottom-color: var(--fill-color);\n",
              "    }\n",
              "    90% {\n",
              "      border-color: transparent;\n",
              "      border-bottom-color: var(--fill-color);\n",
              "    }\n",
              "  }\n",
              "</style>\n",
              "\n",
              "  <script>\n",
              "    async function quickchart(key) {\n",
              "      const quickchartButtonEl =\n",
              "        document.querySelector('#' + key + ' button');\n",
              "      quickchartButtonEl.disabled = true;  // To prevent multiple clicks.\n",
              "      quickchartButtonEl.classList.add('colab-df-spinner');\n",
              "      try {\n",
              "        const charts = await google.colab.kernel.invokeFunction(\n",
              "            'suggestCharts', [key], {});\n",
              "      } catch (error) {\n",
              "        console.error('Error during call to suggestCharts:', error);\n",
              "      }\n",
              "      quickchartButtonEl.classList.remove('colab-df-spinner');\n",
              "      quickchartButtonEl.classList.add('colab-df-quickchart-complete');\n",
              "    }\n",
              "    (() => {\n",
              "      let quickchartButtonEl =\n",
              "        document.querySelector('#df-60d341da-eda0-48ef-8714-35ac1aafbfff button');\n",
              "      quickchartButtonEl.style.display =\n",
              "        google.colab.kernel.accessAllowed ? 'block' : 'none';\n",
              "    })();\n",
              "  </script>\n",
              "</div>\n",
              "\n",
              "    </div>\n",
              "  </div>\n"
            ]
          },
          "metadata": {},
          "execution_count": 112
        }
      ]
    },
    {
      "cell_type": "code",
      "source": [
        "cv = CountVectorizer(max_features = 125)\n",
        "X = cv.fit_transform(df['tweet']).toarray()\n",
        "y = df['class']"
      ],
      "metadata": {
        "id": "uEiuPVfzISBg"
      },
      "execution_count": 113,
      "outputs": []
    },
    {
      "cell_type": "code",
      "source": [
        "print(cv.get_feature_names_out())"
      ],
      "metadata": {
        "colab": {
          "base_uri": "https://localhost:8080/"
        },
        "id": "LRtjjAYB9EKu",
        "outputId": "8570d29a-4a42-42d6-fbfb-bbd5fa1b4539"
      },
      "execution_count": 114,
      "outputs": [
        {
          "output_type": "stream",
          "name": "stdout",
          "text": [
            "['aint' 'always' 'amp' 'ass' 'back' 'bad' 'better' 'big' 'bird' 'birds'\n",
            " 'bitch' 'bitches' 'black' 'bout' 'call' 'cant' 'cause' 'charlie' 'come'\n",
            " 'cunt' 'da' 'damn' 'dat' 'day' 'dick' 'dont' 'dumb' 'eat' 'even' 'ever'\n",
            " 'every' 'fag' 'faggot' 'fat' 'feel' 'fuck' 'fuckin' 'fucking' 'game'\n",
            " 'get' 'getting' 'ghetto' 'girl' 'girls' 'give' 'go' 'going' 'gonna'\n",
            " 'good' 'got' 'gotta' 'gt' 'hate' 'hit' 'hoe' 'hoes' 'ill' 'im' 'keep'\n",
            " 'know' 'let' 'life' 'like' 'lil' 'little' 'lmao' 'lol' 'look' 'love'\n",
            " 'mad' 'made' 'make' 'man' 'money' 'much' 'need' 'never' 'new' 'nigga'\n",
            " 'niggah' 'niggas' 'nigger' 'old' 'one' 'people' 'pussy' 'put' 'real'\n",
            " 'really' 'retarded' 'right' 'said' 'say' 'see' 'shit' 'still' 'stop'\n",
            " 'stupid' 'take' 'talk' 'talking' 'tco' 'tell' 'think' 'tho' 'time'\n",
            " 'today' 'trash' 'twitter' 'ugly' 'ur' 'wanna' 'want' 'way' 'well' 'white'\n",
            " 'wit' 'would' 'ya' 'yall' 'yankees' 'yeah' 'yellow' 'yo' 'youre']\n"
          ]
        }
      ]
    },
    {
      "cell_type": "code",
      "source": [
        "X[24781], y"
      ],
      "metadata": {
        "colab": {
          "base_uri": "https://localhost:8080/"
        },
        "id": "5kezkudeJbDy",
        "outputId": "c735a4e8-b9d4-4c25-f7ea-6fe1b1ebcdcf"
      },
      "execution_count": 115,
      "outputs": [
        {
          "output_type": "execute_result",
          "data": {
            "text/plain": [
              "(array([0, 0, 0, 0, 0, 0, 0, 0, 0, 0, 0, 1, 0, 0, 0, 0, 0, 0, 0, 0, 0, 0,\n",
              "        0, 0, 0, 0, 0, 0, 0, 0, 0, 0, 0, 0, 0, 0, 0, 0, 0, 0, 0, 0, 0, 0,\n",
              "        0, 0, 0, 0, 0, 1, 0, 0, 0, 0, 0, 0, 0, 0, 0, 0, 0, 0, 0, 0, 0, 0,\n",
              "        0, 0, 0, 0, 0, 0, 0, 0, 0, 0, 0, 0, 0, 0, 0, 0, 0, 0, 0, 0, 0, 0,\n",
              "        0, 0, 0, 0, 0, 0, 0, 0, 0, 0, 0, 0, 0, 0, 0, 0, 0, 0, 0, 0, 0, 0,\n",
              "        0, 0, 0, 0, 0, 0, 0, 0, 0, 0, 0, 0, 0, 0, 0]),\n",
              " 0        2\n",
              " 1        1\n",
              " 2        1\n",
              " 3        1\n",
              " 4        1\n",
              "         ..\n",
              " 24778    1\n",
              " 24779    2\n",
              " 24780    1\n",
              " 24781    1\n",
              " 24782    2\n",
              " Name: class, Length: 24783, dtype: int64)"
            ]
          },
          "metadata": {},
          "execution_count": 115
        }
      ]
    },
    {
      "cell_type": "code",
      "source": [
        "import torch\n",
        "from torch import nn\n",
        "import torch.nn.functional as F\n",
        "\n",
        "import torch.optim as optim\n",
        "from torch.utils.data import DataLoader, Dataset\n",
        "import matplotlib.pyplot as plt\n",
        "\n",
        "\n",
        "print(torch.__version__)\n",
        "\n",
        "# Setting up device agnostic\n",
        "device = 'cuda' if torch.cuda.is_available() else 'cpu'\n",
        "print(device)"
      ],
      "metadata": {
        "colab": {
          "base_uri": "https://localhost:8080/"
        },
        "id": "q7bS0B1oKG7Y",
        "outputId": "0acb66c3-297f-4c80-91a8-61c618fa4bdd"
      },
      "execution_count": 145,
      "outputs": [
        {
          "output_type": "stream",
          "name": "stdout",
          "text": [
            "2.1.0+cu121\n",
            "cuda\n"
          ]
        }
      ]
    },
    {
      "cell_type": "markdown",
      "source": [
        "## Spliting Datasets"
      ],
      "metadata": {
        "id": "rfOAUZBZIYg_"
      }
    },
    {
      "cell_type": "code",
      "source": [
        "X.dtype, y.dtype"
      ],
      "metadata": {
        "colab": {
          "base_uri": "https://localhost:8080/"
        },
        "id": "8WoBQOVpMRdp",
        "outputId": "0889fa06-7ffb-48c7-c2d3-c94c1a4ccfb1"
      },
      "execution_count": 118,
      "outputs": [
        {
          "output_type": "execute_result",
          "data": {
            "text/plain": [
              "(dtype('int64'), dtype('int64'))"
            ]
          },
          "metadata": {},
          "execution_count": 118
        }
      ]
    },
    {
      "cell_type": "code",
      "source": [
        "#  X and y are your input features and labels\n",
        "X = torch.tensor(X, dtype=torch.long)\n",
        "y = torch.tensor(y, dtype=torch.long)\n",
        "\n",
        "X, y"
      ],
      "metadata": {
        "colab": {
          "base_uri": "https://localhost:8080/"
        },
        "id": "CfKgXyWvMWNk",
        "outputId": "13181b04-fcce-4af7-879a-3edd97293b7a"
      },
      "execution_count": 119,
      "outputs": [
        {
          "output_type": "execute_result",
          "data": {
            "text/plain": [
              "(tensor([[0, 1, 1,  ..., 0, 0, 0],\n",
              "         [0, 0, 0,  ..., 0, 0, 0],\n",
              "         [0, 0, 0,  ..., 0, 0, 0],\n",
              "         ...,\n",
              "         [1, 0, 0,  ..., 0, 0, 0],\n",
              "         [0, 0, 0,  ..., 0, 0, 0],\n",
              "         [0, 0, 1,  ..., 1, 0, 0]]),\n",
              " tensor([2, 1, 1,  ..., 1, 1, 2]))"
            ]
          },
          "metadata": {},
          "execution_count": 119
        }
      ]
    },
    {
      "cell_type": "code",
      "source": [
        "X.ndim, y.ndim, X.shape, y.shape"
      ],
      "metadata": {
        "colab": {
          "base_uri": "https://localhost:8080/"
        },
        "id": "CzdGkZy8oeiv",
        "outputId": "79859196-afb5-4b30-90eb-280e23e21865"
      },
      "execution_count": 120,
      "outputs": [
        {
          "output_type": "execute_result",
          "data": {
            "text/plain": [
              "(2, 1, torch.Size([24783, 125]), torch.Size([24783]))"
            ]
          },
          "metadata": {},
          "execution_count": 120
        }
      ]
    },
    {
      "cell_type": "code",
      "source": [
        "train_split = int(0.8* len(X))\n",
        "X_train, y_train = X[:train_split], y[:train_split]\n",
        "X_test, y_test = X[train_split:], y[train_split:]\n",
        "\n",
        "len(X_train),len(y_train), len(X_test), len(y_test)"
      ],
      "metadata": {
        "colab": {
          "base_uri": "https://localhost:8080/"
        },
        "id": "TBPt7z2eJgE_",
        "outputId": "035f62c3-74fc-427f-94ec-058412262552"
      },
      "execution_count": 121,
      "outputs": [
        {
          "output_type": "execute_result",
          "data": {
            "text/plain": [
              "(19826, 19826, 4957, 4957)"
            ]
          },
          "metadata": {},
          "execution_count": 121
        }
      ]
    },
    {
      "cell_type": "code",
      "source": [
        "X_train, y_train = X_train.clone().detach().long(), y_train.clone().detach().long()\n",
        "X_test, y_test = X_test.clone().detach().long(), y_test.clone().detach().long()\n"
      ],
      "metadata": {
        "id": "hB_E3Q1u3hqJ"
      },
      "execution_count": 138,
      "outputs": []
    },
    {
      "cell_type": "code",
      "source": [
        "X_train.dtype, X_test.dtype, y_train.dtype, y_test.dtype"
      ],
      "metadata": {
        "colab": {
          "base_uri": "https://localhost:8080/"
        },
        "id": "w4Rusf73JwXI",
        "outputId": "2b614672-13e5-4143-d896-f58981ccd539"
      },
      "execution_count": 139,
      "outputs": [
        {
          "output_type": "execute_result",
          "data": {
            "text/plain": [
              "(torch.int64, torch.int64, torch.int64, torch.int64)"
            ]
          },
          "metadata": {},
          "execution_count": 139
        }
      ]
    },
    {
      "cell_type": "markdown",
      "source": [
        "## Neural Network Model"
      ],
      "metadata": {
        "id": "MqQNHmCnMmHi"
      }
    },
    {
      "cell_type": "code",
      "source": [
        "class LSTMModel(nn.Module):\n",
        "  def __init__(self, vocab_size, embedding_dim, hidden_dim, output_dim):\n",
        "    super(LSTMModel, self).__init__()\n",
        "    self.embedding = nn.Embedding(vocab_size, embedding_dim)\n",
        "    self.lstm = nn.LSTM(embedding_dim, hidden_dim, batch_first=True)\n",
        "    self.dropout = nn.Dropout(0.2)\n",
        "    self.bn = nn.BatchNorm1d(hidden_dim)\n",
        "    self.fc = nn.Linear(hidden_dim, output_dim)\n",
        "    self.softmax = nn.Softmax(dim=1)\n",
        "\n",
        "  def forward(self, x):\n",
        "    embedded = self.embedding(x)\n",
        "    embedded = self.dropout(embedded)\n",
        "    lstm_out, _ = self.lstm(embedded)\n",
        "    lstm_out = lstm_out[:, -1, :]\n",
        "\n",
        "    # Apply batch normalization after LSTM\n",
        "    lstm_out = self.bn(lstm_out)\n",
        "\n",
        "    fc_out = self.fc(lstm_out)\n",
        "    output = F.softmax(fc_out, dim=1)\n",
        "    return output"
      ],
      "metadata": {
        "id": "Rle9sO_sMC52"
      },
      "execution_count": 152,
      "outputs": []
    },
    {
      "cell_type": "code",
      "source": [
        "vocab_size = 232337\n",
        "embedding_dim = 100\n",
        "hidden_dim = 20\n",
        "output_dim = 3\n",
        "\n",
        "model = LSTMModel(vocab_size, embedding_dim, hidden_dim, output_dim)\n",
        "model"
      ],
      "metadata": {
        "colab": {
          "base_uri": "https://localhost:8080/"
        },
        "id": "GcwOp5RZONPK",
        "outputId": "c3619830-36b4-4525-9e87-1e81848bdeb8"
      },
      "execution_count": 153,
      "outputs": [
        {
          "output_type": "execute_result",
          "data": {
            "text/plain": [
              "LSTMModel(\n",
              "  (embedding): Embedding(232337, 100)\n",
              "  (lstm): LSTM(100, 20, batch_first=True)\n",
              "  (dropout): Dropout(p=0.2, inplace=False)\n",
              "  (bn): BatchNorm1d(20, eps=1e-05, momentum=0.1, affine=True, track_running_stats=True)\n",
              "  (fc): Linear(in_features=20, out_features=3, bias=True)\n",
              "  (softmax): Softmax(dim=1)\n",
              ")"
            ]
          },
          "metadata": {},
          "execution_count": 153
        }
      ]
    },
    {
      "cell_type": "code",
      "source": [
        "next(model.parameters()).device"
      ],
      "metadata": {
        "colab": {
          "base_uri": "https://localhost:8080/"
        },
        "id": "ysl_LwjwRX9p",
        "outputId": "cbcf3596-d6b8-4295-c510-2520921b7933"
      },
      "execution_count": 154,
      "outputs": [
        {
          "output_type": "execute_result",
          "data": {
            "text/plain": [
              "device(type='cpu')"
            ]
          },
          "metadata": {},
          "execution_count": 154
        }
      ]
    },
    {
      "cell_type": "code",
      "source": [
        "# Set model usage to CUDA\n",
        "model.to(device)\n",
        "next(model.parameters()).device"
      ],
      "metadata": {
        "colab": {
          "base_uri": "https://localhost:8080/"
        },
        "id": "c1fLC7xIRjSI",
        "outputId": "5b368c78-081b-451d-c44f-0868a3e1463e"
      },
      "execution_count": 155,
      "outputs": [
        {
          "output_type": "execute_result",
          "data": {
            "text/plain": [
              "device(type='cuda', index=0)"
            ]
          },
          "metadata": {},
          "execution_count": 155
        }
      ]
    },
    {
      "cell_type": "code",
      "source": [
        "# Loss function and optimizers\n",
        "loss_fn = nn.CrossEntropyLoss()\n",
        "optimizer = torch.optim.Adam(model.parameters(), lr=0.01)"
      ],
      "metadata": {
        "id": "22zuDVcwId0c"
      },
      "execution_count": 156,
      "outputs": []
    },
    {
      "cell_type": "code",
      "source": [
        "torch.manual_seed(42)\n",
        "\n",
        "epochs = 40\n",
        "batch_size = 64\n",
        "\n",
        "# Placing data on CUDA\n",
        "X_train = X_train.to(device)\n",
        "X_test = X_test.to(device)\n",
        "y_train = y_train.to(device)\n",
        "y_test = y_test.to(device)\n",
        "\n",
        "# Tracking\n",
        "epoch_count = []\n",
        "loss_values = []\n",
        "test_loss_values = []\n",
        "train_accuracies = []\n",
        "test_accuracies = []\n",
        "\n",
        "# Train loop\n",
        "for epoch in range(epochs):\n",
        "    model.train()\n",
        "    y_pred = model(X_train)\n",
        "    loss = loss_fn(y_pred, y_train)\n",
        "\n",
        "    optimizer.zero_grad()\n",
        "    loss.backward()\n",
        "    optimizer.step()\n",
        "\n",
        "    # Calculate training accuracy\n",
        "    _, predicted_train_labels = torch.max(y_pred, 1)\n",
        "    train_accuracy = (predicted_train_labels == y_train).sum().item() / len(y_train)\n",
        "\n",
        "    # Testing\n",
        "    model.eval()\n",
        "    with torch.inference_mode():\n",
        "        test_pred = model(X_test)\n",
        "        test_loss = loss_fn(test_pred, y_test)\n",
        "\n",
        "        # Calculate test accuracy\n",
        "        _, predicted_test_labels = torch.max(test_pred, 1)\n",
        "        test_accuracy = (predicted_test_labels == y_test).sum().item() / len(y_test)\n",
        "\n",
        "    if epoch % 5 == 0 or epoch == epochs-1:\n",
        "        epoch_count.append(epoch)\n",
        "        loss_values.append(loss)\n",
        "        test_loss_values.append(test_loss)\n",
        "        train_accuracies.append(train_accuracy)\n",
        "        test_accuracies.append(test_accuracy)\n",
        "        print(f'Epoch: {epoch} | Train Loss: {loss:.4f} | Test Loss: {test_loss:.4f} | Train Accuracy: {train_accuracy:.4f} | Test Accuracy: {test_accuracy:.4f}')\n"
      ],
      "metadata": {
        "colab": {
          "base_uri": "https://localhost:8080/"
        },
        "id": "DNqTplKsO_So",
        "outputId": "06cdb9ff-e9c0-4f61-825a-a03f3daa4121"
      },
      "execution_count": 157,
      "outputs": [
        {
          "output_type": "stream",
          "name": "stdout",
          "text": [
            "Epoch: 0 | Train Loss: 1.1328 | Test Loss: 1.0877 | Train Accuracy: 0.2901 | Test Accuracy: 0.7490\n",
            "Epoch: 5 | Train Loss: 0.9990 | Test Loss: 0.8996 | Train Accuracy: 0.7043 | Test Accuracy: 0.7527\n",
            "Epoch: 10 | Train Loss: 0.8985 | Test Loss: 0.8460 | Train Accuracy: 0.7218 | Test Accuracy: 0.7575\n",
            "Epoch: 15 | Train Loss: 0.8382 | Test Loss: 0.8165 | Train Accuracy: 0.7427 | Test Accuracy: 0.7511\n",
            "Epoch: 20 | Train Loss: 0.8158 | Test Loss: 0.8041 | Train Accuracy: 0.7461 | Test Accuracy: 0.7511\n",
            "Epoch: 25 | Train Loss: 0.8087 | Test Loss: 0.7989 | Train Accuracy: 0.7460 | Test Accuracy: 0.7511\n",
            "Epoch: 30 | Train Loss: 0.8062 | Test Loss: 0.7955 | Train Accuracy: 0.7462 | Test Accuracy: 0.7579\n",
            "Epoch: 35 | Train Loss: 0.8052 | Test Loss: 0.7939 | Train Accuracy: 0.7461 | Test Accuracy: 0.7579\n",
            "Epoch: 39 | Train Loss: 0.8046 | Test Loss: 0.7931 | Train Accuracy: 0.7465 | Test Accuracy: 0.7579\n"
          ]
        }
      ]
    },
    {
      "cell_type": "markdown",
      "source": [
        "## Loss Curve Plot"
      ],
      "metadata": {
        "id": "fTNGo0gkpOIW"
      }
    },
    {
      "cell_type": "code",
      "source": [
        "import numpy as np\n",
        "\n",
        "# Plot loss curves\n",
        "plt.figure(figsize=(8,3))\n",
        "plt.plot(epoch_count, np.array(torch.tensor(loss_values).numpy()), label=\"Train Loss\")\n",
        "plt.plot(epoch_count, np.array(torch.tensor(test_loss_values).numpy()), label=\"Test Loss\")\n",
        "plt.title(\"Train/Test loss curves\")\n",
        "plt.ylabel(\"Loss\")\n",
        "plt.xlabel(\"Epoch\")\n",
        "plt.legend();"
      ],
      "metadata": {
        "colab": {
          "base_uri": "https://localhost:8080/",
          "height": 333
        },
        "id": "gWjqLaVLpQKg",
        "outputId": "ba89d06d-d20d-4823-88c1-6f103e8a3e4e"
      },
      "execution_count": 158,
      "outputs": [
        {
          "output_type": "display_data",
          "data": {
            "text/plain": [
              "<Figure size 800x300 with 1 Axes>"
            ],
            "image/png": "[encoded data removed]"
          },
          "metadata": {}
        }
      ]
    },
    {
      "cell_type": "markdown",
      "source": [
        "## Plot Accuracy Curve"
      ],
      "metadata": {
        "id": "eo_l1CPr0_ui"
      }
    },
    {
      "cell_type": "code",
      "source": [
        "import numpy as np\n",
        "\n",
        "# Plot loss curves\n",
        "plt.figure(figsize=(8,3))\n",
        "plt.plot(epoch_count, np.array(torch.tensor(train_accuracies).numpy()), label=\"Train Loss\")\n",
        "plt.plot(epoch_count, np.array(torch.tensor(test_accuracies).numpy()), label=\"Test Loss\")\n",
        "plt.title(\"Train/Test loss curves\")\n",
        "plt.ylabel(\"Loss\")\n",
        "plt.xlabel(\"Epoch\")\n",
        "plt.legend();"
      ],
      "metadata": {
        "colab": {
          "base_uri": "https://localhost:8080/",
          "height": 333
        },
        "id": "-dRDLTIa1Cph",
        "outputId": "8475793e-b3c5-4203-bc1b-f65d2fca937c"
      },
      "execution_count": 159,
      "outputs": [
        {
          "output_type": "display_data",
          "data": {
            "text/plain": [
              "<Figure size 800x300 with 1 Axes>"
            ],
            "image/png": "[encoded data removed]"
          },
          "metadata": {}
        }
      ]
    },
    {
      "cell_type": "markdown",
      "source": [
        "## Saving model"
      ],
      "metadata": {
        "id": "3nONBJPKEC9L"
      }
    },
    {
      "cell_type": "code",
      "source": [
        "from pathlib import Path\n",
        "\n",
        "model_path = Path('models')\n",
        "model_path.mkdir(parents = True, exist_ok =True)\n",
        "\n",
        "model_name = '00_LSTM_HateSpeech.pth'\n",
        "model_save_path = model_path / model_name\n",
        "\n",
        "print(f\"Saving model to: {model_save_path}\")\n",
        "torch.save(obj = model.state_dict(),\n",
        "           f = model_save_path)\n",
        "print('Saved Successfully')"
      ],
      "metadata": {
        "id": "FHGsknQKRsuc",
        "colab": {
          "base_uri": "https://localhost:8080/"
        },
        "outputId": "23dbe329-6203-4152-b284-53650abacee1"
      },
      "execution_count": 160,
      "outputs": [
        {
          "output_type": "stream",
          "name": "stdout",
          "text": [
            "Saving model to: models/00_LSTM_HateSpeech.pth\n",
            "Saved Successfully\n"
          ]
        }
      ]
    },
    {
      "cell_type": "code",
      "source": [
        "loaded_model = LSTMModel(vocab_size, embedding_dim, hidden_dim, output_dim)\n",
        "loaded_model.load_state_dict(torch.load(model_save_path))\n",
        "\n",
        "# Transfer loaded model to CUDA\n",
        "loaded_model.to(device)\n",
        "\n",
        "print(f\"Loaded model:\\n{loaded_model}\")\n",
        "print(f\"Model on device:\\n{next(loaded_model.parameters()).device}\")"
      ],
      "metadata": {
        "colab": {
          "base_uri": "https://localhost:8080/"
        },
        "id": "B-AKnn7jHyM-",
        "outputId": "e4cd80ea-4474-4fb7-e05c-f2b7adc56e8d"
      },
      "execution_count": 161,
      "outputs": [
        {
          "output_type": "stream",
          "name": "stdout",
          "text": [
            "Loaded model:\n",
            "LSTMModel(\n",
            "  (embedding): Embedding(232337, 100)\n",
            "  (lstm): LSTM(100, 20, batch_first=True)\n",
            "  (dropout): Dropout(p=0.2, inplace=False)\n",
            "  (bn): BatchNorm1d(20, eps=1e-05, momentum=0.1, affine=True, track_running_stats=True)\n",
            "  (fc): Linear(in_features=20, out_features=3, bias=True)\n",
            "  (softmax): Softmax(dim=1)\n",
            ")\n",
            "Model on device:\n",
            "cuda:0\n"
          ]
        }
      ]
    },
    {
      "cell_type": "code",
      "source": [
        "model.eval()\n",
        "\n",
        "with torch.inference_mode():\n",
        "  y_preds = model(X_test)\n",
        "\n",
        "y_preds"
      ],
      "metadata": {
        "colab": {
          "base_uri": "https://localhost:8080/"
        },
        "id": "rCj6JLNIID9P",
        "outputId": "8f7ae56f-bad4-4f65-c869-721b9ab1febc"
      },
      "execution_count": 162,
      "outputs": [
        {
          "output_type": "execute_result",
          "data": {
            "text/plain": [
              "tensor([[0.0016, 0.9965, 0.0019],\n",
              "        [0.0016, 0.9965, 0.0019],\n",
              "        [0.0016, 0.9965, 0.0019],\n",
              "        ...,\n",
              "        [0.0016, 0.9965, 0.0019],\n",
              "        [0.0016, 0.9965, 0.0019],\n",
              "        [0.1150, 0.0236, 0.8614]], device='cuda:0')"
            ]
          },
          "metadata": {},
          "execution_count": 162
        }
      ]
    },
    {
      "cell_type": "code",
      "source": [
        "# Evaluate loaded model\n",
        "loaded_model.eval()\n",
        "with torch.inference_mode():\n",
        "  loaded_model_preds = loaded_model(X_test)\n",
        "\n",
        "y_preds == loaded_model_preds"
      ],
      "metadata": {
        "colab": {
          "base_uri": "https://localhost:8080/"
        },
        "id": "ecw3eFn5INQP",
        "outputId": "9babb0c6-31d5-442c-e21b-30c639093882"
      },
      "execution_count": 163,
      "outputs": [
        {
          "output_type": "execute_result",
          "data": {
            "text/plain": [
              "tensor([[True, True, True],\n",
              "        [True, True, True],\n",
              "        [True, True, True],\n",
              "        ...,\n",
              "        [True, True, True],\n",
              "        [True, True, True],\n",
              "        [True, True, True]], device='cuda:0')"
            ]
          },
          "metadata": {},
          "execution_count": 163
        }
      ]
    }
  ]
}