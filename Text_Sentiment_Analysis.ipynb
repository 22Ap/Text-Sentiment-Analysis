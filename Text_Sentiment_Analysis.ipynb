{
  "nbformat": 4,
  "nbformat_minor": 0,
  "metadata": {
    "colab": {
      "provenance": [],
      "gpuType": "T4",
      "include_colab_link": true
    },
    "kernelspec": {
      "name": "python3",
      "display_name": "Python 3"
    },
    "language_info": {
      "name": "python"
    },
    "accelerator": "GPU"
  },
  "cells": [
    {
      "cell_type": "markdown",
      "metadata": {
        "id": "view-in-github",
        "colab_type": "text"
      },
      "source": [
        "<a href=\"https://colab.research.google.com/github/LuluW8071/Text-Classification/blob/main/Text_Sentiment_Analysis.ipynb\" target=\"_parent\"><img src=\"https://colab.research.google.com/assets/colab-badge.svg\" alt=\"Open In Colab\"/></a>"
      ]
    },
    {
      "cell_type": "markdown",
      "source": [
        "## 1. Download and Load the dataset"
      ],
      "metadata": {
        "id": "s-taomIznYua"
      }
    },
    {
      "cell_type": "code",
      "source": [
        "import gdown\n",
        "import zipfile\n",
        "import os\n",
        "\n",
        "file_url = 'https://drive.google.com/uc?id=1dUU9NX9sotEJ5DpUwdYhfh3pQqqjUJa-'\n",
        "file_name = 'sentiment_dataset.zip'\n",
        "\n",
        "# Download the file from Google Drive\n",
        "gdown.download(file_url, file_name, quiet=False)\n",
        "extract_dir = './dataset'\n",
        "\n",
        "# Extract the zip file\n",
        "with zipfile.ZipFile(file_name, 'r') as zip_ref:\n",
        "    zip_ref.extractall(extract_dir)\n",
        "\n",
        "# Remove the zip file after extraction\n",
        "os.remove(file_name)\n",
        "print(\"Files extracted successfully to:\", extract_dir)"
      ],
      "metadata": {
        "id": "wrooSaLbAX4j",
        "colab": {
          "base_uri": "https://localhost:8080/"
        },
        "outputId": "31f3c352-44a4-40ca-a87a-7bd1e0a4ffa4"
      },
      "execution_count": 158,
      "outputs": [
        {
          "output_type": "stream",
          "name": "stderr",
          "text": [
            "Downloading...\n",
            "From (original): https://drive.google.com/uc?id=1dUU9NX9sotEJ5DpUwdYhfh3pQqqjUJa-\n",
            "From (redirected): https://drive.google.com/uc?id=1dUU9NX9sotEJ5DpUwdYhfh3pQqqjUJa-&confirm=t&uuid=4c949a0f-e7dd-4b8c-a7bf-578116c00e25\n",
            "To: /content/sentiment_dataset.zip\n",
            "100%|██████████| 26.3M/26.3M [00:00<00:00, 30.4MB/s]\n"
          ]
        },
        {
          "output_type": "stream",
          "name": "stdout",
          "text": [
            "Files extracted successfully to: ./dataset\n"
          ]
        }
      ]
    },
    {
      "cell_type": "code",
      "source": [
        "import pandas as pd\n",
        "import numpy as np"
      ],
      "metadata": {
        "id": "PHvIkDPkkoc2"
      },
      "execution_count": 159,
      "outputs": []
    },
    {
      "cell_type": "code",
      "source": [
        "df = pd.read_csv(\"dataset/IMDB Dataset.csv\")\n",
        "df.sample(5)"
      ],
      "metadata": {
        "colab": {
          "base_uri": "https://localhost:8080/",
          "height": 206
        },
        "id": "lQLGbbvAm-hs",
        "outputId": "c4b28a16-f11b-4592-ea13-e6869df44905"
      },
      "execution_count": 160,
      "outputs": [
        {
          "output_type": "execute_result",
          "data": {
            "text/plain": [
              "                                                  review sentiment\n",
              "2719   Wow! After the first five minutes of watching ...  negative\n",
              "8165   Another slice of darkness and denial hiding be...  positive\n",
              "23496  The story is a little slow and a little stupid...  negative\n",
              "47482  I can envision the writers of this story think...  negative\n",
              "24669  Here's another of the 1940's westerns that I w...  positive"
            ],
            "text/html": [
              "\n",
              "  <div id=\"df-70f38aa2-ba24-490e-9834-59817d3d1e00\" class=\"colab-df-container\">\n",
              "    <div>\n",
              "<style scoped>\n",
              "    .dataframe tbody tr th:only-of-type {\n",
              "        vertical-align: middle;\n",
              "    }\n",
              "\n",
              "    .dataframe tbody tr th {\n",
              "        vertical-align: top;\n",
              "    }\n",
              "\n",
              "    .dataframe thead th {\n",
              "        text-align: right;\n",
              "    }\n",
              "</style>\n",
              "<table border=\"1\" class=\"dataframe\">\n",
              "  <thead>\n",
              "    <tr style=\"text-align: right;\">\n",
              "      <th></th>\n",
              "      <th>review</th>\n",
              "      <th>sentiment</th>\n",
              "    </tr>\n",
              "  </thead>\n",
              "  <tbody>\n",
              "    <tr>\n",
              "      <th>2719</th>\n",
              "      <td>Wow! After the first five minutes of watching ...</td>\n",
              "      <td>negative</td>\n",
              "    </tr>\n",
              "    <tr>\n",
              "      <th>8165</th>\n",
              "      <td>Another slice of darkness and denial hiding be...</td>\n",
              "      <td>positive</td>\n",
              "    </tr>\n",
              "    <tr>\n",
              "      <th>23496</th>\n",
              "      <td>The story is a little slow and a little stupid...</td>\n",
              "      <td>negative</td>\n",
              "    </tr>\n",
              "    <tr>\n",
              "      <th>47482</th>\n",
              "      <td>I can envision the writers of this story think...</td>\n",
              "      <td>negative</td>\n",
              "    </tr>\n",
              "    <tr>\n",
              "      <th>24669</th>\n",
              "      <td>Here's another of the 1940's westerns that I w...</td>\n",
              "      <td>positive</td>\n",
              "    </tr>\n",
              "  </tbody>\n",
              "</table>\n",
              "</div>\n",
              "    <div class=\"colab-df-buttons\">\n",
              "\n",
              "  <div class=\"colab-df-container\">\n",
              "    <button class=\"colab-df-convert\" onclick=\"convertToInteractive('df-70f38aa2-ba24-490e-9834-59817d3d1e00')\"\n",
              "            title=\"Convert this dataframe to an interactive table.\"\n",
              "            style=\"display:none;\">\n",
              "\n",
              "  <svg xmlns=\"http://www.w3.org/2000/svg\" height=\"24px\" viewBox=\"0 -960 960 960\">\n",
              "    <path d=\"M120-120v-720h720v720H120Zm60-500h600v-160H180v160Zm220 220h160v-160H400v160Zm0 220h160v-160H400v160ZM180-400h160v-160H180v160Zm440 0h160v-160H620v160ZM180-180h160v-160H180v160Zm440 0h160v-160H620v160Z\"/>\n",
              "  </svg>\n",
              "    </button>\n",
              "\n",
              "  <style>\n",
              "    .colab-df-container {\n",
              "      display:flex;\n",
              "      gap: 12px;\n",
              "    }\n",
              "\n",
              "    .colab-df-convert {\n",
              "      background-color: #E8F0FE;\n",
              "      border: none;\n",
              "      border-radius: 50%;\n",
              "      cursor: pointer;\n",
              "      display: none;\n",
              "      fill: #1967D2;\n",
              "      height: 32px;\n",
              "      padding: 0 0 0 0;\n",
              "      width: 32px;\n",
              "    }\n",
              "\n",
              "    .colab-df-convert:hover {\n",
              "      background-color: #E2EBFA;\n",
              "      box-shadow: 0px 1px 2px rgba(60, 64, 67, 0.3), 0px 1px 3px 1px rgba(60, 64, 67, 0.15);\n",
              "      fill: #174EA6;\n",
              "    }\n",
              "\n",
              "    .colab-df-buttons div {\n",
              "      margin-bottom: 4px;\n",
              "    }\n",
              "\n",
              "    [theme=dark] .colab-df-convert {\n",
              "      background-color: #3B4455;\n",
              "      fill: #D2E3FC;\n",
              "    }\n",
              "\n",
              "    [theme=dark] .colab-df-convert:hover {\n",
              "      background-color: #434B5C;\n",
              "      box-shadow: 0px 1px 3px 1px rgba(0, 0, 0, 0.15);\n",
              "      filter: drop-shadow(0px 1px 2px rgba(0, 0, 0, 0.3));\n",
              "      fill: #FFFFFF;\n",
              "    }\n",
              "  </style>\n",
              "\n",
              "    <script>\n",
              "      const buttonEl =\n",
              "        document.querySelector('#df-70f38aa2-ba24-490e-9834-59817d3d1e00 button.colab-df-convert');\n",
              "      buttonEl.style.display =\n",
              "        google.colab.kernel.accessAllowed ? 'block' : 'none';\n",
              "\n",
              "      async function convertToInteractive(key) {\n",
              "        const element = document.querySelector('#df-70f38aa2-ba24-490e-9834-59817d3d1e00');\n",
              "        const dataTable =\n",
              "          await google.colab.kernel.invokeFunction('convertToInteractive',\n",
              "                                                    [key], {});\n",
              "        if (!dataTable) return;\n",
              "\n",
              "        const docLinkHtml = 'Like what you see? Visit the ' +\n",
              "          '<a target=\"_blank\" href=https://colab.research.google.com/notebooks/data_table.ipynb>data table notebook</a>'\n",
              "          + ' to learn more about interactive tables.';\n",
              "        element.innerHTML = '';\n",
              "        dataTable['output_type'] = 'display_data';\n",
              "        await google.colab.output.renderOutput(dataTable, element);\n",
              "        const docLink = document.createElement('div');\n",
              "        docLink.innerHTML = docLinkHtml;\n",
              "        element.appendChild(docLink);\n",
              "      }\n",
              "    </script>\n",
              "  </div>\n",
              "\n",
              "\n",
              "<div id=\"df-29e542ab-65c5-464f-abe6-1b89f1ea413f\">\n",
              "  <button class=\"colab-df-quickchart\" onclick=\"quickchart('df-29e542ab-65c5-464f-abe6-1b89f1ea413f')\"\n",
              "            title=\"Suggest charts\"\n",
              "            style=\"display:none;\">\n",
              "\n",
              "<svg xmlns=\"http://www.w3.org/2000/svg\" height=\"24px\"viewBox=\"0 0 24 24\"\n",
              "     width=\"24px\">\n",
              "    <g>\n",
              "        <path d=\"M19 3H5c-1.1 0-2 .9-2 2v14c0 1.1.9 2 2 2h14c1.1 0 2-.9 2-2V5c0-1.1-.9-2-2-2zM9 17H7v-7h2v7zm4 0h-2V7h2v10zm4 0h-2v-4h2v4z\"/>\n",
              "    </g>\n",
              "</svg>\n",
              "  </button>\n",
              "\n",
              "<style>\n",
              "  .colab-df-quickchart {\n",
              "      --bg-color: #E8F0FE;\n",
              "      --fill-color: #1967D2;\n",
              "      --hover-bg-color: #E2EBFA;\n",
              "      --hover-fill-color: #174EA6;\n",
              "      --disabled-fill-color: #AAA;\n",
              "      --disabled-bg-color: #DDD;\n",
              "  }\n",
              "\n",
              "  [theme=dark] .colab-df-quickchart {\n",
              "      --bg-color: #3B4455;\n",
              "      --fill-color: #D2E3FC;\n",
              "      --hover-bg-color: #434B5C;\n",
              "      --hover-fill-color: #FFFFFF;\n",
              "      --disabled-bg-color: #3B4455;\n",
              "      --disabled-fill-color: #666;\n",
              "  }\n",
              "\n",
              "  .colab-df-quickchart {\n",
              "    background-color: var(--bg-color);\n",
              "    border: none;\n",
              "    border-radius: 50%;\n",
              "    cursor: pointer;\n",
              "    display: none;\n",
              "    fill: var(--fill-color);\n",
              "    height: 32px;\n",
              "    padding: 0;\n",
              "    width: 32px;\n",
              "  }\n",
              "\n",
              "  .colab-df-quickchart:hover {\n",
              "    background-color: var(--hover-bg-color);\n",
              "    box-shadow: 0 1px 2px rgba(60, 64, 67, 0.3), 0 1px 3px 1px rgba(60, 64, 67, 0.15);\n",
              "    fill: var(--button-hover-fill-color);\n",
              "  }\n",
              "\n",
              "  .colab-df-quickchart-complete:disabled,\n",
              "  .colab-df-quickchart-complete:disabled:hover {\n",
              "    background-color: var(--disabled-bg-color);\n",
              "    fill: var(--disabled-fill-color);\n",
              "    box-shadow: none;\n",
              "  }\n",
              "\n",
              "  .colab-df-spinner {\n",
              "    border: 2px solid var(--fill-color);\n",
              "    border-color: transparent;\n",
              "    border-bottom-color: var(--fill-color);\n",
              "    animation:\n",
              "      spin 1s steps(1) infinite;\n",
              "  }\n",
              "\n",
              "  @keyframes spin {\n",
              "    0% {\n",
              "      border-color: transparent;\n",
              "      border-bottom-color: var(--fill-color);\n",
              "      border-left-color: var(--fill-color);\n",
              "    }\n",
              "    20% {\n",
              "      border-color: transparent;\n",
              "      border-left-color: var(--fill-color);\n",
              "      border-top-color: var(--fill-color);\n",
              "    }\n",
              "    30% {\n",
              "      border-color: transparent;\n",
              "      border-left-color: var(--fill-color);\n",
              "      border-top-color: var(--fill-color);\n",
              "      border-right-color: var(--fill-color);\n",
              "    }\n",
              "    40% {\n",
              "      border-color: transparent;\n",
              "      border-right-color: var(--fill-color);\n",
              "      border-top-color: var(--fill-color);\n",
              "    }\n",
              "    60% {\n",
              "      border-color: transparent;\n",
              "      border-right-color: var(--fill-color);\n",
              "    }\n",
              "    80% {\n",
              "      border-color: transparent;\n",
              "      border-right-color: var(--fill-color);\n",
              "      border-bottom-color: var(--fill-color);\n",
              "    }\n",
              "    90% {\n",
              "      border-color: transparent;\n",
              "      border-bottom-color: var(--fill-color);\n",
              "    }\n",
              "  }\n",
              "</style>\n",
              "\n",
              "  <script>\n",
              "    async function quickchart(key) {\n",
              "      const quickchartButtonEl =\n",
              "        document.querySelector('#' + key + ' button');\n",
              "      quickchartButtonEl.disabled = true;  // To prevent multiple clicks.\n",
              "      quickchartButtonEl.classList.add('colab-df-spinner');\n",
              "      try {\n",
              "        const charts = await google.colab.kernel.invokeFunction(\n",
              "            'suggestCharts', [key], {});\n",
              "      } catch (error) {\n",
              "        console.error('Error during call to suggestCharts:', error);\n",
              "      }\n",
              "      quickchartButtonEl.classList.remove('colab-df-spinner');\n",
              "      quickchartButtonEl.classList.add('colab-df-quickchart-complete');\n",
              "    }\n",
              "    (() => {\n",
              "      let quickchartButtonEl =\n",
              "        document.querySelector('#df-29e542ab-65c5-464f-abe6-1b89f1ea413f button');\n",
              "      quickchartButtonEl.style.display =\n",
              "        google.colab.kernel.accessAllowed ? 'block' : 'none';\n",
              "    })();\n",
              "  </script>\n",
              "</div>\n",
              "\n",
              "    </div>\n",
              "  </div>\n"
            ],
            "application/vnd.google.colaboratory.intrinsic+json": {
              "type": "dataframe",
              "summary": "{\n  \"name\": \"df\",\n  \"rows\": 5,\n  \"fields\": [\n    {\n      \"column\": \"review\",\n      \"properties\": {\n        \"dtype\": \"string\",\n        \"num_unique_values\": 5,\n        \"samples\": [\n          \"Another slice of darkness and denial hiding beneath the surface of American suburbia, Imaginary Heroes chronicles the lives of the Travis family, all recovering following the suicide of their eldest son.<br /><br />The pair at the center of the film is mother and son Sandy (Sigourney Weaver) and Tim (Emile Hirsch), both acting out in different ways as a result of the death. While Tim experiments with prescription medication and his own sexuality, Sandy regresses to her former self, smoking marijuana and coming to terms with an old act of infidelity.<br /><br />The relationship between Sandy and Tim is explored well, especially when references are made to both of them being outcast from their own family: Sandy due to her affair and Tim, initially, due to always being in the shadow of his more successful older brother. Considerably less time is allowed for Sandy's husband Ben (Jeff Daniels) who, in a devastating depiction of denial, orders Sandy to make an additional plate of food for his dead son and place it in his old spot at the dinner table. Michelle Williams' older sister Penny is underwritten and could easily be taken out of the film.<br /><br />Despite its long runtime, Imaginary Heroes doesn't explore its many subplots as much as the individual stories deserve, while some of the movie's black comedy doesn't translate as well as writer/director Dan Harris may have liked. And the depiction of a disturbed family dynamic isn't depicted as strongly as the many other films out there with similar ideas. But despite some issues, the central performances from Weaver and Hirsch are stunning, and easily carry the film to its successfully subdued conclusion.<br /><br />Rating: B-\",\n          \"Here's another of the 1940's westerns that I watch whenever it comes on TCM or FMC, because although it may be flawed historically, it is extremely entertaining and well acted, plus it's got Randolph Scott, my favorite actor second only to Gary Cooper-Well, OK, fourth behind COOP, Charlton Heston, and Gregory Peck. But the film itself, to me anyway, is reasonably historically accurate and as I said before, well acted and \\\"flows\\\" very well-I bet I've seen it 50 or 60 times, and enjoy each viewing more than the one before. I have it on tape from TCM but would buy it in a minute if it ever came out on DVD. See it if you haven't- I guarantee you'll like it!\",\n          \"The story is a little slow and a little stupid. Greta Garbo doesn't look very good and I couldn't understand half the things she said because of her accent, which was exaggerated for this role. Melvyn Douglas, meanwhile, plays his normal unlikeable role and Constance Bennett is just so-so except for a couple of her screams, which were funny. <br /><br />On the plus side, Roland Young had the best role in the film. I wish he had more lines, as he disappeared in the second half of the story. Also, it was interesting to see Ruth Gordon look so young. I had only seen her in those crazy roles she played from the late '60s to the '80s and a whacked out old woman. Story-wise, the best part might have been the final few minutes when we see a stunt man doing amazing things on skis, pretending to be Douglas falling down the slopes. That was amazing and humorous footage.<br /><br />Overall, I can see where this film - Garbo's last - was not a box-office success. It just drags too much, going on and on about deceptions. It's an annoying story. Garbo knew it, too, and called it quits.\"\n        ],\n        \"semantic_type\": \"\",\n        \"description\": \"\"\n      }\n    },\n    {\n      \"column\": \"sentiment\",\n      \"properties\": {\n        \"dtype\": \"category\",\n        \"num_unique_values\": 2,\n        \"samples\": [\n          \"positive\",\n          \"negative\"\n        ],\n        \"semantic_type\": \"\",\n        \"description\": \"\"\n      }\n    }\n  ]\n}"
            }
          },
          "metadata": {},
          "execution_count": 160
        }
      ]
    },
    {
      "cell_type": "markdown",
      "source": [
        "## 2. Data Analysis"
      ],
      "metadata": {
        "id": "00gmM1X-nbwW"
      }
    },
    {
      "cell_type": "code",
      "source": [
        "import matplotlib.pyplot as plt\n",
        "import seaborn as sns\n",
        "from sklearn.model_selection import train_test_split"
      ],
      "metadata": {
        "id": "_PxnoXPknrMg"
      },
      "execution_count": 161,
      "outputs": []
    },
    {
      "cell_type": "code",
      "source": [
        "X, y = df['review'].values,df['sentiment'].values\n",
        "X_train, X_test, y_train, y_test = train_test_split(X,\n",
        "                                                    y,\n",
        "                                                    test_size = 0.2,\n",
        "                                                    stratify = y)\n",
        "print(f'train data shape: {X_train.shape}')\n",
        "print(f'test data shape: {X_test.shape}')\n",
        "\n",
        "\n",
        "val = pd.Series(y_train).value_counts()\n",
        "sns.barplot(x = np.array(['negative','positive']),\n",
        "            y = val.values)\n",
        "plt.show()"
      ],
      "metadata": {
        "colab": {
          "base_uri": "https://localhost:8080/",
          "height": 465
        },
        "id": "F-Vxh1WPnGeJ",
        "outputId": "f1d5928d-30fc-4f25-eb4c-8ba65bcaa87a"
      },
      "execution_count": 162,
      "outputs": [
        {
          "output_type": "stream",
          "name": "stdout",
          "text": [
            "train data shape: (40000,)\n",
            "test data shape: (10000,)\n"
          ]
        },
        {
          "output_type": "display_data",
          "data": {
            "text/plain": [
              "<Figure size 640x480 with 1 Axes>"
            ],
            "image/png": "[encoded data removed]"
          },
          "metadata": {}
        }
      ]
    },
    {
      "cell_type": "markdown",
      "source": [
        "## 3. Text Pre-Processing\n",
        "- Cleaning up the text data by removing punctuation, extra spaces, and numbers.\n",
        "- Transform sentences into individual words, remove common words (known as \"stop words\")\n",
        "- Keeping track of the 1000 most frequently used words in the dataset\n",
        "- Assigning tracked words a unique identifier, forming dictionary for one-hot encoding\n",
        "- Ensuring all sequences have the same length by padding or truncating them as needed by 500 tokens"
      ],
      "metadata": {
        "id": "I0aQLjLNoh58"
      }
    },
    {
      "cell_type": "code",
      "source": [
        "import re\n",
        "import nltk\n",
        "from nltk.corpus import stopwords\n",
        "nltk.download('stopwords')\n",
        "from collections import Counter\n",
        "\n",
        "from tqdm import tqdm"
      ],
      "metadata": {
        "colab": {
          "base_uri": "https://localhost:8080/"
        },
        "id": "HTeEZdMSpBeq",
        "outputId": "267c446a-7ad4-4803-c728-8f393d31712a"
      },
      "execution_count": 163,
      "outputs": [
        {
          "output_type": "stream",
          "name": "stderr",
          "text": [
            "[nltk_data] Downloading package stopwords to /root/nltk_data...\n",
            "[nltk_data]   Package stopwords is already up-to-date!\n"
          ]
        }
      ]
    },
    {
      "cell_type": "code",
      "source": [
        "# Cleaning text function\n",
        "def preprocess_string(s):\n",
        "  # Remove all non-word characters (everything except numbers and letters)\n",
        "  s = re.sub(r\"[^\\w\\s]\", '', s)\n",
        "  # Replace all runs of whitespaces with no space\n",
        "  s = re.sub(r\"\\s+\", ' ', s)\n",
        "  # Replace digits with no space\n",
        "  s = re.sub(r\"\\d\", '', s)\n",
        "  # Replace usernames with no space\n",
        "  s = re.sub(r\"@([^\\s]+)\", '', s)\n",
        "  # Replace hashtags with numbers with no space\n",
        "  s = re.sub(r\"#\\d+\", '', s)\n",
        "  # Replace specific characters\n",
        "  s = s.replace(\"https\", \"\")\n",
        "  s = s.replace(\"http\", \"\")\n",
        "  s = s.replace(\"rt\", \"\")\n",
        "  s = s.replace(\"-\", \"\")\n",
        "  # Replace <br /> with a space\n",
        "  s = s.replace(\"<br />\", \" \")\n",
        "  return s"
      ],
      "metadata": {
        "id": "huj_ZpwyoM_F"
      },
      "execution_count": 164,
      "outputs": []
    },
    {
      "cell_type": "code",
      "source": [
        "# Create a Tokenize including  padding Function\n",
        "def tokenize(X_train, y_train, X_val, y_val, seq_len):\n",
        "    word_list = []\n",
        "\n",
        "    stop_words = set(stopwords.words('english'))\n",
        "    for sent in tqdm(X_train, desc=\"Preprocessing train data\"):\n",
        "        for word in sent.lower().split():\n",
        "            word = preprocess_string(word)\n",
        "            if word not in stop_words and word != '':\n",
        "                word_list.append(word)\n",
        "\n",
        "    corpus = Counter(word_list)\n",
        "\n",
        "    # sorting on the basis of most common words\n",
        "    corpus_ = sorted(corpus, key=corpus.get, reverse=True)[:1000]\n",
        "    # creating a dict\n",
        "    onehot_dict = {w: i + 1 for i, w in enumerate(corpus_)}\n",
        "\n",
        "    # tokenize and pad sequences\n",
        "    final_list_train, final_list_test = [], []\n",
        "    for sent in tqdm(X_train, desc=\"Tokenizing and padding train data\"):\n",
        "        tokens = [onehot_dict[preprocess_string(word)] for word in sent.lower().split()\n",
        "                  if preprocess_string(word) in onehot_dict.keys()]\n",
        "        padded_tokens = tokens[-seq_len:] if len(tokens) > seq_len else [0] * (seq_len - len(tokens)) + tokens\n",
        "        final_list_train.append(padded_tokens)\n",
        "\n",
        "    for sent in tqdm(X_val, desc=\"Tokenizing and padding validation data\"):\n",
        "        tokens = [onehot_dict[preprocess_string(word)] for word in sent.lower().split()\n",
        "                  if preprocess_string(word) in onehot_dict.keys()]\n",
        "        padded_tokens = tokens[-seq_len:] if len(tokens) > seq_len else [0] * (seq_len - len(tokens)) + tokens\n",
        "        final_list_test.append(padded_tokens)\n",
        "\n",
        "    encoded_train = [1 if label == 'positive' else 0 for label in y_train]\n",
        "    encoded_test = [1 if label == 'positive' else 0 for label in y_val]\n",
        "\n",
        "    return np.array(final_list_train), np.array(encoded_train), np.array(final_list_test), np.array(encoded_test), onehot_dict"
      ],
      "metadata": {
        "id": "FzaCKiCFvafI"
      },
      "execution_count": 165,
      "outputs": []
    },
    {
      "cell_type": "code",
      "source": [
        "seq_len = 350\n",
        "X_train, y_train, X_test, y_test, vocab = tokenize(X_train,\n",
        "                                                   y_train,\n",
        "                                                   X_test,\n",
        "                                                   y_test,\n",
        "                                                   seq_len)\n",
        "\n",
        "len(X_train), len(X_test)"
      ],
      "metadata": {
        "colab": {
          "base_uri": "https://localhost:8080/"
        },
        "id": "w9_A_w57pj4Y",
        "outputId": "d1011481-cdbe-49f1-cfba-a7075741659c"
      },
      "execution_count": 166,
      "outputs": [
        {
          "output_type": "stream",
          "name": "stderr",
          "text": [
            "Preprocessing train data: 100%|██████████| 40000/40000 [00:53<00:00, 754.21it/s]\n",
            "Tokenizing and padding train data: 100%|██████████| 40000/40000 [01:01<00:00, 646.40it/s]\n",
            "Tokenizing and padding validation data: 100%|██████████| 10000/10000 [00:22<00:00, 449.64it/s]\n"
          ]
        },
        {
          "output_type": "execute_result",
          "data": {
            "text/plain": [
              "(40000, 10000)"
            ]
          },
          "metadata": {},
          "execution_count": 166
        }
      ]
    },
    {
      "cell_type": "code",
      "source": [
        "X_train, y_train"
      ],
      "metadata": {
        "colab": {
          "base_uri": "https://localhost:8080/"
        },
        "id": "J61TtmqcuVTc",
        "outputId": "7a29e89a-8ab0-4296-b6e9-bc897f101672"
      },
      "execution_count": 167,
      "outputs": [
        {
          "output_type": "execute_result",
          "data": {
            "text/plain": [
              "(array([[  0,   0,   0, ..., 638, 141,   4],\n",
              "        [  0,   0,   0, ...,  21,  25,   4],\n",
              "        [  0,   0,   0, ...,  21,   1,  40],\n",
              "        ...,\n",
              "        [  0,   0,   0, ..., 855, 326,   2],\n",
              "        [  0,   0,   0, ..., 146,  36, 204],\n",
              "        [  0,   0,   0, ...,  73, 121,  12]]),\n",
              " array([0, 0, 1, ..., 1, 1, 1]))"
            ]
          },
          "metadata": {},
          "execution_count": 167
        }
      ]
    },
    {
      "cell_type": "markdown",
      "source": [
        "## 4. Preparing the data using DataLoader"
      ],
      "metadata": {
        "id": "r_XIMBMRwZWN"
      }
    },
    {
      "cell_type": "code",
      "source": [
        "import torch\n",
        "from torch.utils.data import TensorDataset, DataLoader"
      ],
      "metadata": {
        "id": "tudpNZvOwq07"
      },
      "execution_count": 168,
      "outputs": []
    },
    {
      "cell_type": "code",
      "source": [
        "# Create Tensor datasets\n",
        "train_data = TensorDataset(torch.from_numpy(X_train),\n",
        "                           torch.from_numpy(y_train))\n",
        "valid_data = TensorDataset(torch.from_numpy(X_test),\n",
        "                           torch.from_numpy(y_test))\n",
        "\n",
        "BATCH_SIZE = 50\n",
        "\n",
        "# Create train and valid dataloader\n",
        "train_dataloader = DataLoader(train_data,\n",
        "                              shuffle=True,\n",
        "                              batch_size=BATCH_SIZE)\n",
        "valid_dataloader = DataLoader(valid_data,\n",
        "                              shuffle=True,\n",
        "                              batch_size=BATCH_SIZE)\n",
        "\n",
        "len(train_dataloader), len(valid_dataloader)"
      ],
      "metadata": {
        "colab": {
          "base_uri": "https://localhost:8080/"
        },
        "id": "2T5g7K3Iub9F",
        "outputId": "e81c5d61-b37e-4a60-8258-a4725cc2894c"
      },
      "execution_count": 169,
      "outputs": [
        {
          "output_type": "execute_result",
          "data": {
            "text/plain": [
              "(800, 200)"
            ]
          },
          "metadata": {},
          "execution_count": 169
        }
      ]
    },
    {
      "cell_type": "code",
      "source": [
        "# Sampling one bacth from train_dataloader\n",
        "sample_data = iter(train_dataloader)\n",
        "sample_x, sample_y = next(sample_data)\n",
        "\n",
        "print('Sample input size:', sample_x.size())     # batch_size, seq_length\n",
        "print('Sample input:', sample_x)\n",
        "print('Sample output:', sample_y)"
      ],
      "metadata": {
        "colab": {
          "base_uri": "https://localhost:8080/"
        },
        "id": "L5rE9aJsxfbg",
        "outputId": "b012501b-c298-451a-8fa5-adca0ffb6d30"
      },
      "execution_count": 170,
      "outputs": [
        {
          "output_type": "stream",
          "name": "stdout",
          "text": [
            "Sample input size: torch.Size([50, 350])\n",
            "Sample input: tensor([[  0,   0,   0,  ..., 678,  11,   1],\n",
            "        [  0,   0,   0,  ..., 654, 309, 412],\n",
            "        [  0,   0,   0,  ...,  66, 329, 910],\n",
            "        ...,\n",
            "        [  0,   0,   0,  ...,  55, 733,  47],\n",
            "        [  0,   0,   0,  ...,   2,  32, 190],\n",
            "        [  0,   0,   0,  ..., 784,   6,   3]])\n",
            "Sample output: tensor([1, 1, 1, 0, 0, 0, 1, 0, 0, 0, 0, 1, 0, 1, 0, 1, 1, 0, 1, 0, 1, 0, 0, 0,\n",
            "        1, 0, 0, 1, 0, 0, 1, 0, 1, 0, 0, 1, 0, 1, 0, 0, 1, 1, 1, 1, 1, 1, 1, 0,\n",
            "        1, 1])\n"
          ]
        }
      ]
    },
    {
      "cell_type": "markdown",
      "source": [
        "## 5. Building a LSTM Model"
      ],
      "metadata": {
        "id": "XfhrHm3tx9wA"
      }
    },
    {
      "cell_type": "code",
      "source": [
        "import torch\n",
        "from torch import nn\n",
        "from torch.nn.utils import clip_grad_norm_\n",
        "\n",
        "# Setting device agnostic code\n",
        "device = 'cuda' if torch.cuda.is_available() else 'cpu'\n",
        "print(device)"
      ],
      "metadata": {
        "colab": {
          "base_uri": "https://localhost:8080/"
        },
        "id": "FCdSBQfeyNQs",
        "outputId": "0ceeb430-ff05-4528-a4dd-77b46fe04dad"
      },
      "execution_count": 171,
      "outputs": [
        {
          "output_type": "stream",
          "name": "stdout",
          "text": [
            "cuda\n"
          ]
        }
      ]
    },
    {
      "cell_type": "code",
      "source": [
        "class SentimentLSTM(nn.Module):\n",
        "  def __init__(self, no_layers, vocab_size, hidden_dim, embedding_dim, output_dim = 1):\n",
        "    super(SentimentLSTM, self).__init__()\n",
        "\n",
        "    self.output_dim = output_dim\n",
        "    self.hidden_dim = hidden_dim\n",
        "    self.no_layers = no_layers\n",
        "    self.vocab_size = vocab_size\n",
        "\n",
        "    # Embedding and LSTM layers\n",
        "    self.embedding = nn.Embedding(vocab_size, embedding_dim)\n",
        "\n",
        "    # LSTM Layer\n",
        "    self.lstm = nn.LSTM(input_size = embedding_dim,\n",
        "                        hidden_size = self.hidden_dim,\n",
        "                        num_layers = no_layers,\n",
        "                        batch_first = True)\n",
        "\n",
        "    self.dropout = nn.Dropout(0.3)                    # Dropout Layer\n",
        "    self.fc = nn.Linear(self.hidden_dim, output_dim)  # Linear Layer\n",
        "    self.sig = nn.Sigmoid()                           # Sigmoid Activation Function\n",
        "\n",
        "  def forward(self, x, hidden):\n",
        "    \"\"\" Forward pass \"\"\"\n",
        "    batch_size = x.size(0)\n",
        "\n",
        "    # Embeddings and lstm_out\n",
        "    embeds = self.embedding(x)  # shape: B x S x Feature   since batch = True\n",
        "    # print(embeds.shape)\n",
        "    lstm_out, hidden = self.lstm(embeds, hidden)\n",
        "    lstm_out = lstm_out.contiguous().view(-1, self.hidden_dim)\n",
        "\n",
        "    out = self.dropout(lstm_out)            # Dropout\n",
        "    out = self.fc(out)                      # Fully connected layer\n",
        "\n",
        "    sig_out = self.sig(out)                 # sigmoid function\n",
        "    sig_out = sig_out.view(batch_size, -1)  # Reshape to be batch_size first\n",
        "    sig_out = sig_out[:, -1]                # get last batch of labels\n",
        "    return sig_out, hidden                  # return last sigmoid output and hidden state\n",
        "\n",
        "  def init_hidden(self, batch_size):\n",
        "    \"\"\" Initializes hidden state \"\"\"\n",
        "    # Create two new tensors with sizes n_layers x batch_size x hidden_dim,\n",
        "    # Initialized to zero, for hidden state and cell state of LSTM\n",
        "    hidden_state = torch.zeros((self.no_layers,\n",
        "                                batch_size,\n",
        "                                self.hidden_dim)).to(device)\n",
        "    # print(batch_size)\n",
        "    cell_state = torch.zeros((self.no_layers,\n",
        "                              batch_size,\n",
        "                              self.hidden_dim)).to(device)\n",
        "    hidden = (hidden_state, cell_state)\n",
        "    # print(\"Hidden\", hidden_state.size())\n",
        "    # print(\"Cell\", cell_state.size())\n",
        "    return hidden"
      ],
      "metadata": {
        "id": "UAHIy-TMxzOJ"
      },
      "execution_count": 172,
      "outputs": []
    },
    {
      "cell_type": "code",
      "source": [
        "model = SentimentLSTM(no_layers = 2,               # LSTM doesn't perform quite well beyound 2 layers\n",
        "                      vocab_size = len(vocab) + 1, # 1 extra for padding\n",
        "                      hidden_dim = 256,\n",
        "                      embedding_dim = 64)\n",
        "\n",
        "# Pass model to device 'cuda' if selected\n",
        "model.to(device)"
      ],
      "metadata": {
        "colab": {
          "base_uri": "https://localhost:8080/"
        },
        "id": "ImnTLXQY0K_A",
        "outputId": "63bb831f-b7e6-4231-abc8-361885c3a333"
      },
      "execution_count": 173,
      "outputs": [
        {
          "output_type": "execute_result",
          "data": {
            "text/plain": [
              "SentimentLSTM(\n",
              "  (embedding): Embedding(1001, 64)\n",
              "  (lstm): LSTM(64, 256, num_layers=2, batch_first=True)\n",
              "  (dropout): Dropout(p=0.3, inplace=False)\n",
              "  (fc): Linear(in_features=256, out_features=1, bias=True)\n",
              "  (sig): Sigmoid()\n",
              ")"
            ]
          },
          "metadata": {},
          "execution_count": 173
        }
      ]
    },
    {
      "cell_type": "markdown",
      "source": [
        "## 6. Create Train and Validation Loop Function"
      ],
      "metadata": {
        "id": "cVe0MYCA4w5L"
      }
    },
    {
      "cell_type": "code",
      "source": [
        "# Function to predict accuracy\n",
        "def acc(pred, label):\n",
        "  pred = torch.round(pred.squeeze())\n",
        "  return torch.sum(pred == label.squeeze()).item()"
      ],
      "metadata": {
        "id": "B6LbxATe7MNN"
      },
      "execution_count": 174,
      "outputs": []
    },
    {
      "cell_type": "code",
      "source": [
        "def train_model(model, train_loader, valid_loader, criterion, optimizer, epochs, clip, device):\n",
        "  valid_loss_min = np.Inf\n",
        "  epoch_tr_loss, epoch_vl_loss = [], []\n",
        "  epoch_tr_acc, epoch_vl_acc = [], []\n",
        "\n",
        "  for epoch in range(epochs):\n",
        "    train_losses = []\n",
        "    train_acc = 0.0\n",
        "    model.train()\n",
        "\n",
        "    # Initialize hidden state\n",
        "    h = model.init_hidden(BATCH_SIZE)\n",
        "\n",
        "    for inputs, labels in train_loader:\n",
        "      inputs, labels = inputs.to(device), labels.to(device)\n",
        "\n",
        "      # Creating new variables for the hidden state to prevent backpropagation\n",
        "      # through the entire training history\n",
        "      h = tuple([each.data for each in h])\n",
        "\n",
        "      optimizer.zero_grad()\n",
        "      output, h = model(inputs, h)\n",
        "      loss = criterion(output.squeeze(), labels.float())\n",
        "      loss.backward()\n",
        "\n",
        "      train_losses.append(loss.item())\n",
        "      accuracy = acc(output, labels)\n",
        "      train_acc += accuracy\n",
        "      clip_grad_norm_(model.parameters(), clip)\n",
        "      optimizer.step()\n",
        "\n",
        "    val_h = model.init_hidden(BATCH_SIZE)\n",
        "    val_losses = []\n",
        "    val_acc = 0.0\n",
        "    model.eval()\n",
        "\n",
        "    for inputs, labels in valid_loader:\n",
        "      val_h = tuple([each.data for each in val_h])\n",
        "      inputs, labels = inputs.to(device), labels.to(device)\n",
        "      output, val_h = model(inputs, val_h)\n",
        "      val_loss = criterion(output.squeeze(), labels.float())\n",
        "      val_losses.append(val_loss.item())\n",
        "      accuracy = acc(output, labels)\n",
        "      val_acc += accuracy\n",
        "\n",
        "    epoch_train_loss = np.mean(train_losses)\n",
        "    epoch_val_loss = np.mean(val_losses)\n",
        "    epoch_train_acc = train_acc / len(train_loader.dataset)\n",
        "    epoch_val_acc = val_acc / len(valid_loader.dataset)\n",
        "\n",
        "    epoch_tr_loss.append(epoch_train_loss)\n",
        "    epoch_vl_loss.append(epoch_val_loss)\n",
        "    epoch_tr_acc.append(epoch_train_acc)\n",
        "    epoch_vl_acc.append(epoch_val_acc)\n",
        "\n",
        "    print(f'Epoch: {epoch+1} -- train_loss: {epoch_train_loss:.4f} -- train_acc: {epoch_train_acc*100:.2f}% -- val_loss: {epoch_val_loss:.4f} -- val_acc: {epoch_val_acc*100:.2f}%')\n",
        "\n",
        "    # Saving model on each epoch except when valid_loss_for_next_epoch > valid_loss_for_prev_epoch\n",
        "    if epoch_val_loss <= valid_loss_min:\n",
        "      torch.save(model.state_dict(), 'sentiment_model.pth')\n",
        "      print('Validation loss decreased ({:.6f} --> {:.6f}).  Saving model ...'.format(valid_loss_min, epoch_val_loss))\n",
        "      valid_loss_min = epoch_val_loss\n",
        "    print(25*'==')\n",
        "\n",
        "  return epoch_tr_loss, epoch_vl_loss, epoch_tr_acc, epoch_vl_acc"
      ],
      "metadata": {
        "id": "m6IE2Aep37PS"
      },
      "execution_count": 175,
      "outputs": []
    },
    {
      "cell_type": "markdown",
      "source": [
        "## 7. Train and Evaluate the Model"
      ],
      "metadata": {
        "id": "p2oybwIQ-Pwd"
      }
    },
    {
      "cell_type": "code",
      "source": [
        "# Loss function and Optimizer\n",
        "loss_fn = nn.BCELoss()\n",
        "optimizer = torch.optim.Adam(params=model.parameters(), lr=0.001)"
      ],
      "metadata": {
        "id": "eW7H3-ln5zm5"
      },
      "execution_count": 176,
      "outputs": []
    },
    {
      "cell_type": "code",
      "source": [
        "train_losses, val_losses, train_accs, val_accs = train_model(model = model,\n",
        "                                                             train_loader = train_dataloader,\n",
        "                                                             valid_loader = valid_dataloader,\n",
        "                                                             criterion = loss_fn,\n",
        "                                                             optimizer = optimizer,\n",
        "                                                             epochs = 6,\n",
        "                                                             clip = 5,\n",
        "                                                             device = device)"
      ],
      "metadata": {
        "colab": {
          "base_uri": "https://localhost:8080/"
        },
        "id": "CmihVKQY561l",
        "outputId": "b21d53df-601b-4179-c903-ee07d8bf5572"
      },
      "execution_count": 177,
      "outputs": [
        {
          "output_type": "stream",
          "name": "stdout",
          "text": [
            "Epoch: 1 -- train_loss: 0.5307 -- train_acc: 74.36% -- val_loss: 0.4336 -- val_acc: 82.03%\n",
            "Validation loss decreased (inf --> 0.433642).  Saving model ...\n",
            "==================================================\n",
            "Epoch: 2 -- train_loss: 0.3893 -- train_acc: 83.37% -- val_loss: 0.3546 -- val_acc: 84.99%\n",
            "Validation loss decreased (0.433642 --> 0.354614).  Saving model ...\n",
            "==================================================\n",
            "Epoch: 3 -- train_loss: 0.3327 -- train_acc: 85.75% -- val_loss: 0.3416 -- val_acc: 85.60%\n",
            "Validation loss decreased (0.354614 --> 0.341645).  Saving model ...\n",
            "==================================================\n",
            "Epoch: 4 -- train_loss: 0.3087 -- train_acc: 87.03% -- val_loss: 0.3335 -- val_acc: 85.41%\n",
            "Validation loss decreased (0.341645 --> 0.333542).  Saving model ...\n",
            "==================================================\n",
            "Epoch: 5 -- train_loss: 0.2782 -- train_acc: 88.56% -- val_loss: 0.3424 -- val_acc: 85.36%\n",
            "==================================================\n",
            "Epoch: 6 -- train_loss: 0.2405 -- train_acc: 90.33% -- val_loss: 0.3536 -- val_acc: 85.93%\n",
            "==================================================\n"
          ]
        }
      ]
    },
    {
      "cell_type": "markdown",
      "source": [
        "## 8. Plot Loss and Accuracy Curves"
      ],
      "metadata": {
        "id": "niBrXV4v-asL"
      }
    },
    {
      "cell_type": "code",
      "source": [
        "fig = plt.figure(figsize = (20, 6))\n",
        "plt.subplot(1, 2, 1)\n",
        "plt.plot(train_losses, label='Train loss')\n",
        "plt.plot(val_losses, label='Validation loss')\n",
        "plt.title(\"Loss\")\n",
        "plt.legend()\n",
        "\n",
        "plt.subplot(1, 2, 2)\n",
        "plt.plot(train_accs, label='Train Acc')\n",
        "plt.plot(val_accs, label='Validation Acc')\n",
        "plt.title(\"Accuracy\")\n",
        "plt.legend()\n",
        "\n",
        "plt.show()"
      ],
      "metadata": {
        "id": "5VM0Y5HJ59mV",
        "colab": {
          "base_uri": "https://localhost:8080/",
          "height": 388
        },
        "outputId": "020ef5db-bb6b-4f79-ea7f-030e4ed5b36b"
      },
      "execution_count": 178,
      "outputs": [
        {
          "output_type": "display_data",
          "data": {
            "text/plain": [
              "<Figure size 2000x600 with 2 Axes>"
            ],
            "image/png": "[encoded data removed]"
          },
          "metadata": {}
        }
      ]
    },
    {
      "cell_type": "markdown",
      "source": [
        "## 9. Load Model to `cpu`"
      ],
      "metadata": {
        "id": "1UrCIXYQk3Y-"
      }
    },
    {
      "cell_type": "code",
      "source": [
        "# Load model configs\n",
        "model = SentimentLSTM(no_layers = 2,\n",
        "                      vocab_size = len(vocab) + 1,\n",
        "                      hidden_dim = 256,\n",
        "                      embedding_dim = 64)\n",
        "\n",
        "# Load the model state dict\n",
        "model.load_state_dict(torch.load(\"sentiment_model.pth\", map_location=device))\n",
        "\n",
        "# Move the model to CPU\n",
        "model.to('cpu')"
      ],
      "metadata": {
        "colab": {
          "base_uri": "https://localhost:8080/"
        },
        "id": "63_PktMxk9li",
        "outputId": "33edec76-4ba2-4579-e52d-d28017d0b0b4"
      },
      "execution_count": 179,
      "outputs": [
        {
          "output_type": "execute_result",
          "data": {
            "text/plain": [
              "SentimentLSTM(\n",
              "  (embedding): Embedding(1001, 64)\n",
              "  (lstm): LSTM(64, 256, num_layers=2, batch_first=True)\n",
              "  (dropout): Dropout(p=0.3, inplace=False)\n",
              "  (fc): Linear(in_features=256, out_features=1, bias=True)\n",
              "  (sig): Sigmoid()\n",
              ")"
            ]
          },
          "metadata": {},
          "execution_count": 179
        }
      ]
    },
    {
      "cell_type": "markdown",
      "source": [
        "## 10. Make Prediction using Loaded Model"
      ],
      "metadata": {
        "id": "K_-SrL4xlI8i"
      }
    },
    {
      "cell_type": "code",
      "source": [
        "def padding_(seq, max_length):\n",
        "    \"\"\"Pad sequences to the same length.\"\"\"\n",
        "    if len(seq) >= max_length:\n",
        "        return seq[:max_length]\n",
        "    else:\n",
        "        padded = np.zeros((seq.shape[0], max_length), dtype=int)\n",
        "        padded[:, :seq.shape[1]] = seq\n",
        "        return padded\n",
        "\n",
        "def predict_text(text):\n",
        "    word_seq = np.array([vocab[preprocess_string(word)] for word in text.split()\n",
        "                         if preprocess_string(word) in vocab.keys()])\n",
        "    word_seq = np.expand_dims(word_seq, axis=0)\n",
        "    pad = torch.from_numpy(padding_(word_seq, 350))\n",
        "    inputs = pad.to('cpu')  # Move inputs to CPU\n",
        "    batch_size = 1\n",
        "    h = model.init_hidden(batch_size)\n",
        "    # Move the initial hidden state to CPU\n",
        "    h = tuple([each.to('cpu') for each in h])\n",
        "    # Set to evaluation mode\n",
        "    with torch.inference_mode():\n",
        "        output, h = model(inputs, h)\n",
        "    return output.item()"
      ],
      "metadata": {
        "id": "SQ5KVW-pWuIn"
      },
      "execution_count": 281,
      "outputs": []
    },
    {
      "cell_type": "code",
      "source": [
        "import random\n",
        "\n",
        "# Randomly select 5 index from dataset to predict\n",
        "for _ in range(5):\n",
        "    index = random.randint(0, 50000)\n",
        "    review = df['review'][index]\n",
        "    actual_sentiment = df['sentiment'][index]\n",
        "\n",
        "    print(\"Review:\")\n",
        "    print(review)\n",
        "    print('='*70)\n",
        "    print(f'Actual sentiment: {actual_sentiment}')\n",
        "    print('='*70)\n",
        "    pro = predict_text(review)\n",
        "    predicted_sentiment = \"positive\" if pro > 0.5 else \"negative\"\n",
        "    pro = (1 - pro) if predicted_sentiment == \"negative\" else pro\n",
        "\n",
        "    # Color-coding output based on prediction matching actual sentiment\n",
        "    if actual_sentiment == predicted_sentiment:\n",
        "        color = '\\033[92m'  # Green color for matching sentiment\n",
        "    else:\n",
        "        color = '\\033[91m'  # Red color for mismatching sentiment\n",
        "\n",
        "    print(f'Predicted sentiment: {color}{predicted_sentiment}\\033[0m with a probability of {pro * 100:.2f}%')\n",
        "    print('='*70)"
      ],
      "metadata": {
        "id": "jAZKKQ3R-jnm",
        "colab": {
          "base_uri": "https://localhost:8080/"
        },
        "outputId": "3bcbb36c-14ad-4aef-8fdb-212c00c8e6c6"
      },
      "execution_count": 282,
      "outputs": [
        {
          "output_type": "stream",
          "name": "stdout",
          "text": [
            "Review:\n",
            "I say sadly because if you see this movie now, you realize how low our media has sunk- all the warning signs are in this movie.<br /><br />It's a great film, I think the last great James Brooks film, but others may disagree. It has rich characters (who are believable as well), great acting, great writing, and although the music got a little cheesy, I even liked that.<br /><br />William Hurt has never been better. Holly Hunter is stunning. And Albert Brooks walks away with every scene he's in- this triangle of people is beautifully drawn and compelling and made the whole movie soar above it's vital and important topic of the News, and how it's slowly being compromised in our nation.<br /><br />Watch this with NETWORK for a truly fun and frightening evening.\n",
            "======================================================================\n",
            "Actual sentiment: positive\n",
            "======================================================================\n",
            "Predicted sentiment: \u001b[91mnegative\u001b[0m with a probability of 52.79%\n",
            "======================================================================\n",
            "Review:\n",
            "The visuals and effects are up to par with the the original film and provide a lot of entertainment even if the storyline is essentially the same as the first two films. It also seems a lot more erotically charged than I remember the other films being. If you're a big fan of flying prehensile hair and tongues that can reach all the way down into your stomach, you'll like this film.\n",
            "======================================================================\n",
            "Actual sentiment: positive\n",
            "======================================================================\n",
            "Predicted sentiment: \u001b[91mnegative\u001b[0m with a probability of 55.09%\n",
            "======================================================================\n",
            "Review:\n",
            "Thursday June 9, 6:45pm Broadway Performance Hall & Saturday June 11, 1:45pm Broadway Performance Hall<br /><br />Bless the independent filmmaker. Without them we'd see nothing but Spielberg the Farrelly brothers and films based on old sitcoms. They are the risk takers. They reap the rewards of success and suffer the failures. Max and Grace is most definitely a failure. Credit is deserved by Michael Parness for getting out there and making his first feature which he claims drove him to bankruptcy. He might be better off sticking to the stage if this film is any indication of what to expect in the future. Even though everyone warned me I went to see Max and Grace anyway, hoping I might discover something they did not. It starts off well enough, a party for Max in his parent's house shot in warm subdued light, the camera floating into interesting angles. As soon as we see Max has hung himself, an obvious rip-off of Harold and Maude, the whole thing goes right in the tank. How could he do this unnoticed in the middle of a birthday party? For that matter how could two mentally ill and committed psychiatric patients decide to get married and do it with the blessings of all parties concerned? In the Q&A after the film David Krumholtz suggested the entire story was the surrealist dream of his character Max. This story is so badly written the comment sounded more like an excuse. The film doesn't look as though it was made on a shoestring, all the more reason to be so disappointed with the results. What's intended as funny isn't but instead is offensively bad. The continuity is sloppy the lighting is dreadful and the effects look cheap and forced. BPH seats under three hundred and was surprisingly full but I saw at least thirty or forty walkouts within the first half-hour. At one point Grace, played by Natasha Lyonne, laments her inability to die. I found myself thinking the same thing since I never walk out before the credits. If Krumholtz really thinks this is \"one of the best scripts\" he has ever read it sounds like he needs to catch up on his reading. A terrible waste of talent and resources, this is the worst independent I've seen since Bubba-Ho-tep.\n",
            "======================================================================\n",
            "Actual sentiment: negative\n",
            "======================================================================\n",
            "Predicted sentiment: \u001b[92mnegative\u001b[0m with a probability of 59.91%\n",
            "======================================================================\n",
            "Review:\n",
            "This may not be the most exiting or incredible episode they've made, but in my opinion it remains as one of Star Trek and the Sci-Fi genre's most original episodes. Most ideas from retro Sci-Fi series especially including Star Trek has been reused several times, this one the other hand remains mostly as a one time triumph. This among the episodes that impressed me the most towards the end.<br /><br />Another thing I like with this episode is how it has accomplished to create such and exiting and captivating story with such few special affects. Now without criticizing the episode I must admit the effects are very dated, but then again what can you expect from a TV show from 1967? But still the creature (\"Horta\") in this episode is basically just a carpet with some coloured rubber on it. Yet you forget this after about 1 minute and you only start thinking about it as what it's supposed to be. Also the caves don't exactly look like rock, but again you forget it after a few minutes. This episode is a living proof on how good acting and a good story, can make you ignore the visual effects.<br /><br />The acting from the main cast is as usual great. This episode features the series second mind meld by Spock and is one of my favourites. So to say it simple Leonard Nimoy is definitely a scene stealer here, and his acting is excellent. Not that Kirk or Bones don't get their share of the episode but Spock is the most intriguing in this one. i like the fact that the episode is not about one specific character but evolves around the trio handling an alien problem. Also it's nice to see an episode who doesn't only happen on the Enterprise.<br /><br />Like most Star Trek episodes this episode tells us to have an open mind. I won't spoil the story, but evolves around what in the start seems like a typical monster story. It has killed several humans and therefore must be killed. But is that really all there is to it? I can assure you that the explanation in the end, will not disappoint you. This is still my favourite Star Trek TOS episode and i give it a 10/10.\n",
            "======================================================================\n",
            "Actual sentiment: positive\n",
            "======================================================================\n",
            "Predicted sentiment: \u001b[91mnegative\u001b[0m with a probability of 55.21%\n",
            "======================================================================\n",
            "Review:\n",
            "I have nothing but good things to say about this tasteful and heartwarming film. I think that the effort of the film's director/writer is courageous as well as inspirational. I loved this film not only for the fantastic story (which needed to be told), but also for the way the actors delivered the story. This is not another shallow \"gay movie\" that depicts stereotypical characters in humorous situations. This was a memorable and flawless effort to show people that love truly knows no bounds, and love is still as beautiful and wonderful as it always was. <br /><br />Another thing that touched my heart was how well I could relate to the emotion portrayed in this film surrounding the coming out of one of the main characters. We all have to go through similar situations living in the society that we live in and feeling that feeling of detachment from everything that is \"right\" and \"normal\". I give my most heartfelt praise for this fabulous and courageous story.\n",
            "======================================================================\n",
            "Actual sentiment: positive\n",
            "======================================================================\n",
            "Predicted sentiment: \u001b[92mpositive\u001b[0m with a probability of 51.62%\n",
            "======================================================================\n"
          ]
        }
      ]
    },
    {
      "cell_type": "code",
      "source": [
        "def predict_custom_text(custom_text):\n",
        "  pro = predict_text(custom_text)\n",
        "  status = \"positive\" if pro > 0.5 else \"negative\"\n",
        "  pro = (1 - pro) if status == \"negative\" else pro\n",
        "  print(f'Predicted: {status} \\nProbability {pro*100 :.2f}%')"
      ],
      "metadata": {
        "id": "oKPYtFXnY7JR"
      },
      "execution_count": 299,
      "outputs": []
    },
    {
      "cell_type": "code",
      "source": [
        "# Custom Negative Text\n",
        "custom_text = \"I can't even begin to express my sheer frustration and utter disappointment with this product! It's an absolute disaster from start to finish. \"\n",
        "predict_custom_text(custom_text)"
      ],
      "metadata": {
        "id": "wPhqzNtbZSGc",
        "colab": {
          "base_uri": "https://localhost:8080/"
        },
        "outputId": "240f7e05-b16d-4915-a7f3-d76100afe828"
      },
      "execution_count": 300,
      "outputs": [
        {
          "output_type": "stream",
          "name": "stdout",
          "text": [
            "Predicted: negative \n",
            "Probability 56.25%\n"
          ]
        }
      ]
    },
    {
      "cell_type": "code",
      "source": [
        "# Custom Positive Text\n",
        "custom_text = \"I recently watched a movie that completely exceeded my expectations. From the captivating storyline to the stellar performances of the cast, every aspect of the film was a delight. The characters were well-developed and relatable, each with their own unique charm that drew me into their world. The dialogue was witty and engaging, keeping me entertained from start to finish. Additionally, the stunning visuals and masterful cinematography added depth and richness to the viewing experience. Overall, it was a cinematic masterpiece that left me feeling uplifted and inspired. I highly recommend this movie to anyone looking for a heartwarming and enjoyable film.\"\n",
        "predict_custom_text(custom_text)"
      ],
      "metadata": {
        "colab": {
          "base_uri": "https://localhost:8080/"
        },
        "id": "AMiIvFV7uJVB",
        "outputId": "c73b522a-98c2-4b80-fa63-ab8da6e08db8"
      },
      "execution_count": 301,
      "outputs": [
        {
          "output_type": "stream",
          "name": "stdout",
          "text": [
            "Predicted: positive \n",
            "Probability 51.15%\n"
          ]
        }
      ]
    }
  ]
}