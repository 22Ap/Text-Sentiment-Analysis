{
 "cells": [
  {
   "cell_type": "markdown",
   "metadata": {
    "id": "3ydc9LwkZB5A"
   },
   "source": [
    "# Binary Text-Sentiment-Analysis using GRU"
   ]
  },
  {
   "cell_type": "code",
   "execution_count": 1,
   "metadata": {
    "id": "SxDBRBS_ZSK2"
   },
   "outputs": [],
   "source": [
    "!pip install comet-ml torchmetrics triton --quiet"
   ]
  },
  {
   "cell_type": "markdown",
   "metadata": {
    "id": "s-taomIznYua"
   },
   "source": [
    "## 1. Download and Load the dataset\n",
    "\n",
    "The command will download combined dataset from `IMDb Movie Dataset` and `YELP Review Dataset`."
   ]
  },
  {
   "cell_type": "code",
   "execution_count": 2,
   "metadata": {
    "colab": {
     "base_uri": "https://localhost:8080/"
    },
    "id": "wrooSaLbAX4j",
    "outputId": "7f67a5e4-d12d-49b6-96cb-77dded254351"
   },
   "outputs": [
    {
     "name": "stdout",
     "output_type": "stream",
     "text": [
      "Downloading...\n",
      "From (original): https://drive.google.com/uc?id=1Jp3D5gdxGrwa5dHbr4p-pECrD8wi7vik\n",
      "From (redirected): https://drive.google.com/uc?id=1Jp3D5gdxGrwa5dHbr4p-pECrD8wi7vik&confirm=t&uuid=c91d37c8-a0c3-4dbc-b20e-f007366cd595\n",
      "To: /content/sentiment_dataset_large.zip\n",
      "100% 182M/182M [00:01<00:00, 145MB/s]\n",
      "Archive:  sentiment_dataset_large.zip\n",
      "replace sentiment_combined.csv? [y]es, [n]o, [A]ll, [N]one, [r]ename: n\n"
     ]
    }
   ],
   "source": [
    "!gdown https://drive.google.com/file/d/1Jp3D5gdxGrwa5dHbr4p-pECrD8wi7vik/view?usp=drive_link --fuzzy\n",
    "!unzip sentiment_dataset_large.zip"
   ]
  },
  {
   "cell_type": "code",
   "execution_count": 3,
   "metadata": {
    "colab": {
     "base_uri": "https://localhost:8080/",
     "height": 206
    },
    "id": "PHvIkDPkkoc2",
    "outputId": "2e1c024e-114e-4114-c454-cef01d41688f"
   },
   "outputs": [
    {
     "data": {
      "application/vnd.google.colaboratory.intrinsic+json": {
       "type": "dataframe",
       "variable_name": "df"
      },
      "text/html": [
       "\n",
       "  <div id=\"df-5ff5c844-d911-4ff6-87ea-f2edea83246d\" class=\"colab-df-container\">\n",
       "    <div>\n",
       "<style scoped>\n",
       "    .dataframe tbody tr th:only-of-type {\n",
       "        vertical-align: middle;\n",
       "    }\n",
       "\n",
       "    .dataframe tbody tr th {\n",
       "        vertical-align: top;\n",
       "    }\n",
       "\n",
       "    .dataframe thead th {\n",
       "        text-align: right;\n",
       "    }\n",
       "</style>\n",
       "<table border=\"1\" class=\"dataframe\">\n",
       "  <thead>\n",
       "    <tr style=\"text-align: right;\">\n",
       "      <th></th>\n",
       "      <th>review</th>\n",
       "      <th>sentiment</th>\n",
       "    </tr>\n",
       "  </thead>\n",
       "  <tbody>\n",
       "    <tr>\n",
       "      <th>0</th>\n",
       "      <td>One of the other reviewers has mentioned that ...</td>\n",
       "      <td>positive</td>\n",
       "    </tr>\n",
       "    <tr>\n",
       "      <th>1</th>\n",
       "      <td>A wonderful little production. &lt;br /&gt;&lt;br /&gt;The...</td>\n",
       "      <td>positive</td>\n",
       "    </tr>\n",
       "    <tr>\n",
       "      <th>2</th>\n",
       "      <td>I thought this was a wonderful way to spend ti...</td>\n",
       "      <td>positive</td>\n",
       "    </tr>\n",
       "    <tr>\n",
       "      <th>3</th>\n",
       "      <td>Basically there's a family where a little boy ...</td>\n",
       "      <td>negative</td>\n",
       "    </tr>\n",
       "    <tr>\n",
       "      <th>4</th>\n",
       "      <td>Petter Mattei's \"Love in the Time of Money\" is...</td>\n",
       "      <td>positive</td>\n",
       "    </tr>\n",
       "  </tbody>\n",
       "</table>\n",
       "</div>\n",
       "    <div class=\"colab-df-buttons\">\n",
       "\n",
       "  <div class=\"colab-df-container\">\n",
       "    <button class=\"colab-df-convert\" onclick=\"convertToInteractive('df-5ff5c844-d911-4ff6-87ea-f2edea83246d')\"\n",
       "            title=\"Convert this dataframe to an interactive table.\"\n",
       "            style=\"display:none;\">\n",
       "\n",
       "  <svg xmlns=\"http://www.w3.org/2000/svg\" height=\"24px\" viewBox=\"0 -960 960 960\">\n",
       "    <path d=\"M120-120v-720h720v720H120Zm60-500h600v-160H180v160Zm220 220h160v-160H400v160Zm0 220h160v-160H400v160ZM180-400h160v-160H180v160Zm440 0h160v-160H620v160ZM180-180h160v-160H180v160Zm440 0h160v-160H620v160Z\"/>\n",
       "  </svg>\n",
       "    </button>\n",
       "\n",
       "  <style>\n",
       "    .colab-df-container {\n",
       "      display:flex;\n",
       "      gap: 12px;\n",
       "    }\n",
       "\n",
       "    .colab-df-convert {\n",
       "      background-color: #E8F0FE;\n",
       "      border: none;\n",
       "      border-radius: 50%;\n",
       "      cursor: pointer;\n",
       "      display: none;\n",
       "      fill: #1967D2;\n",
       "      height: 32px;\n",
       "      padding: 0 0 0 0;\n",
       "      width: 32px;\n",
       "    }\n",
       "\n",
       "    .colab-df-convert:hover {\n",
       "      background-color: #E2EBFA;\n",
       "      box-shadow: 0px 1px 2px rgba(60, 64, 67, 0.3), 0px 1px 3px 1px rgba(60, 64, 67, 0.15);\n",
       "      fill: #174EA6;\n",
       "    }\n",
       "\n",
       "    .colab-df-buttons div {\n",
       "      margin-bottom: 4px;\n",
       "    }\n",
       "\n",
       "    [theme=dark] .colab-df-convert {\n",
       "      background-color: #3B4455;\n",
       "      fill: #D2E3FC;\n",
       "    }\n",
       "\n",
       "    [theme=dark] .colab-df-convert:hover {\n",
       "      background-color: #434B5C;\n",
       "      box-shadow: 0px 1px 3px 1px rgba(0, 0, 0, 0.15);\n",
       "      filter: drop-shadow(0px 1px 2px rgba(0, 0, 0, 0.3));\n",
       "      fill: #FFFFFF;\n",
       "    }\n",
       "  </style>\n",
       "\n",
       "    <script>\n",
       "      const buttonEl =\n",
       "        document.querySelector('#df-5ff5c844-d911-4ff6-87ea-f2edea83246d button.colab-df-convert');\n",
       "      buttonEl.style.display =\n",
       "        google.colab.kernel.accessAllowed ? 'block' : 'none';\n",
       "\n",
       "      async function convertToInteractive(key) {\n",
       "        const element = document.querySelector('#df-5ff5c844-d911-4ff6-87ea-f2edea83246d');\n",
       "        const dataTable =\n",
       "          await google.colab.kernel.invokeFunction('convertToInteractive',\n",
       "                                                    [key], {});\n",
       "        if (!dataTable) return;\n",
       "\n",
       "        const docLinkHtml = 'Like what you see? Visit the ' +\n",
       "          '<a target=\"_blank\" href=https://colab.research.google.com/notebooks/data_table.ipynb>data table notebook</a>'\n",
       "          + ' to learn more about interactive tables.';\n",
       "        element.innerHTML = '';\n",
       "        dataTable['output_type'] = 'display_data';\n",
       "        await google.colab.output.renderOutput(dataTable, element);\n",
       "        const docLink = document.createElement('div');\n",
       "        docLink.innerHTML = docLinkHtml;\n",
       "        element.appendChild(docLink);\n",
       "      }\n",
       "    </script>\n",
       "  </div>\n",
       "\n",
       "\n",
       "<div id=\"df-22bfcf5b-65e2-4588-b2ef-ff9ea76d8d32\">\n",
       "  <button class=\"colab-df-quickchart\" onclick=\"quickchart('df-22bfcf5b-65e2-4588-b2ef-ff9ea76d8d32')\"\n",
       "            title=\"Suggest charts\"\n",
       "            style=\"display:none;\">\n",
       "\n",
       "<svg xmlns=\"http://www.w3.org/2000/svg\" height=\"24px\"viewBox=\"0 0 24 24\"\n",
       "     width=\"24px\">\n",
       "    <g>\n",
       "        <path d=\"M19 3H5c-1.1 0-2 .9-2 2v14c0 1.1.9 2 2 2h14c1.1 0 2-.9 2-2V5c0-1.1-.9-2-2-2zM9 17H7v-7h2v7zm4 0h-2V7h2v10zm4 0h-2v-4h2v4z\"/>\n",
       "    </g>\n",
       "</svg>\n",
       "  </button>\n",
       "\n",
       "<style>\n",
       "  .colab-df-quickchart {\n",
       "      --bg-color: #E8F0FE;\n",
       "      --fill-color: #1967D2;\n",
       "      --hover-bg-color: #E2EBFA;\n",
       "      --hover-fill-color: #174EA6;\n",
       "      --disabled-fill-color: #AAA;\n",
       "      --disabled-bg-color: #DDD;\n",
       "  }\n",
       "\n",
       "  [theme=dark] .colab-df-quickchart {\n",
       "      --bg-color: #3B4455;\n",
       "      --fill-color: #D2E3FC;\n",
       "      --hover-bg-color: #434B5C;\n",
       "      --hover-fill-color: #FFFFFF;\n",
       "      --disabled-bg-color: #3B4455;\n",
       "      --disabled-fill-color: #666;\n",
       "  }\n",
       "\n",
       "  .colab-df-quickchart {\n",
       "    background-color: var(--bg-color);\n",
       "    border: none;\n",
       "    border-radius: 50%;\n",
       "    cursor: pointer;\n",
       "    display: none;\n",
       "    fill: var(--fill-color);\n",
       "    height: 32px;\n",
       "    padding: 0;\n",
       "    width: 32px;\n",
       "  }\n",
       "\n",
       "  .colab-df-quickchart:hover {\n",
       "    background-color: var(--hover-bg-color);\n",
       "    box-shadow: 0 1px 2px rgba(60, 64, 67, 0.3), 0 1px 3px 1px rgba(60, 64, 67, 0.15);\n",
       "    fill: var(--button-hover-fill-color);\n",
       "  }\n",
       "\n",
       "  .colab-df-quickchart-complete:disabled,\n",
       "  .colab-df-quickchart-complete:disabled:hover {\n",
       "    background-color: var(--disabled-bg-color);\n",
       "    fill: var(--disabled-fill-color);\n",
       "    box-shadow: none;\n",
       "  }\n",
       "\n",
       "  .colab-df-spinner {\n",
       "    border: 2px solid var(--fill-color);\n",
       "    border-color: transparent;\n",
       "    border-bottom-color: var(--fill-color);\n",
       "    animation:\n",
       "      spin 1s steps(1) infinite;\n",
       "  }\n",
       "\n",
       "  @keyframes spin {\n",
       "    0% {\n",
       "      border-color: transparent;\n",
       "      border-bottom-color: var(--fill-color);\n",
       "      border-left-color: var(--fill-color);\n",
       "    }\n",
       "    20% {\n",
       "      border-color: transparent;\n",
       "      border-left-color: var(--fill-color);\n",
       "      border-top-color: var(--fill-color);\n",
       "    }\n",
       "    30% {\n",
       "      border-color: transparent;\n",
       "      border-left-color: var(--fill-color);\n",
       "      border-top-color: var(--fill-color);\n",
       "      border-right-color: var(--fill-color);\n",
       "    }\n",
       "    40% {\n",
       "      border-color: transparent;\n",
       "      border-right-color: var(--fill-color);\n",
       "      border-top-color: var(--fill-color);\n",
       "    }\n",
       "    60% {\n",
       "      border-color: transparent;\n",
       "      border-right-color: var(--fill-color);\n",
       "    }\n",
       "    80% {\n",
       "      border-color: transparent;\n",
       "      border-right-color: var(--fill-color);\n",
       "      border-bottom-color: var(--fill-color);\n",
       "    }\n",
       "    90% {\n",
       "      border-color: transparent;\n",
       "      border-bottom-color: var(--fill-color);\n",
       "    }\n",
       "  }\n",
       "</style>\n",
       "\n",
       "  <script>\n",
       "    async function quickchart(key) {\n",
       "      const quickchartButtonEl =\n",
       "        document.querySelector('#' + key + ' button');\n",
       "      quickchartButtonEl.disabled = true;  // To prevent multiple clicks.\n",
       "      quickchartButtonEl.classList.add('colab-df-spinner');\n",
       "      try {\n",
       "        const charts = await google.colab.kernel.invokeFunction(\n",
       "            'suggestCharts', [key], {});\n",
       "      } catch (error) {\n",
       "        console.error('Error during call to suggestCharts:', error);\n",
       "      }\n",
       "      quickchartButtonEl.classList.remove('colab-df-spinner');\n",
       "      quickchartButtonEl.classList.add('colab-df-quickchart-complete');\n",
       "    }\n",
       "    (() => {\n",
       "      let quickchartButtonEl =\n",
       "        document.querySelector('#df-22bfcf5b-65e2-4588-b2ef-ff9ea76d8d32 button');\n",
       "      quickchartButtonEl.style.display =\n",
       "        google.colab.kernel.accessAllowed ? 'block' : 'none';\n",
       "    })();\n",
       "  </script>\n",
       "</div>\n",
       "\n",
       "    </div>\n",
       "  </div>\n"
      ],
      "text/plain": [
       "                                              review sentiment\n",
       "0  One of the other reviewers has mentioned that ...  positive\n",
       "1  A wonderful little production. <br /><br />The...  positive\n",
       "2  I thought this was a wonderful way to spend ti...  positive\n",
       "3  Basically there's a family where a little boy ...  negative\n",
       "4  Petter Mattei's \"Love in the Time of Money\" is...  positive"
      ]
     },
     "execution_count": 3,
     "metadata": {},
     "output_type": "execute_result"
    }
   ],
   "source": [
    "import pandas as pd\n",
    "import numpy as np\n",
    "\n",
    "df = pd.read_csv(\"sentiment_combined.csv\")\n",
    "df.head(5)"
   ]
  },
  {
   "cell_type": "code",
   "execution_count": 4,
   "metadata": {
    "colab": {
     "base_uri": "https://localhost:8080/"
    },
    "id": "0z7p4xeZDiDF",
    "outputId": "b5a3cfa1-016f-472c-f4c5-4f97170a3186"
   },
   "outputs": [
    {
     "name": "stdout",
     "output_type": "stream",
     "text": [
      "<class 'pandas.core.frame.DataFrame'>\n",
      "RangeIndex: 610000 entries, 0 to 609999\n",
      "Data columns (total 2 columns):\n",
      " #   Column     Non-Null Count   Dtype \n",
      "---  ------     --------------   ----- \n",
      " 0   review     610000 non-null  object\n",
      " 1   sentiment  610000 non-null  object\n",
      "dtypes: object(2)\n",
      "memory usage: 9.3+ MB\n"
     ]
    }
   ],
   "source": [
    "df.info()"
   ]
  },
  {
   "cell_type": "markdown",
   "metadata": {
    "id": "00gmM1X-nbwW"
   },
   "source": [
    "## 2. Data Analysis"
   ]
  },
  {
   "cell_type": "code",
   "execution_count": 5,
   "metadata": {
    "colab": {
     "base_uri": "https://localhost:8080/",
     "height": 465
    },
    "id": "_PxnoXPknrMg",
    "outputId": "5448e39a-76e9-4358-c7f2-63c9bed2076c"
   },
   "outputs": [
    {
     "name": "stdout",
     "output_type": "stream",
     "text": [
      "train data shape: (518500,)\n",
      "test data shape: (91500,)\n"
     ]
    },
    {
     "data": {
      "image/png": "[encoded data removed]",
      "text/plain": [
       "<Figure size 640x480 with 1 Axes>"
      ]
     },
     "metadata": {},
     "output_type": "display_data"
    }
   ],
   "source": [
    "import matplotlib.pyplot as plt\n",
    "import seaborn as sns\n",
    "from sklearn.model_selection import train_test_split\n",
    "\n",
    "X, y = df['review'].values,df['sentiment'].values\n",
    "X_train, X_test, y_train, y_test = train_test_split(X,\n",
    "                                                    y,\n",
    "                                                    test_size = 0.15,\n",
    "                                                    random_state = 42)\n",
    "print(f'train data shape: {X_train.shape}')\n",
    "print(f'test data shape: {X_test.shape}')\n",
    "\n",
    "\n",
    "val = pd.Series(y_train).value_counts()\n",
    "sns.barplot(x = np.array(['negative','positive']),\n",
    "            y = val.values)\n",
    "plt.show()"
   ]
  },
  {
   "cell_type": "markdown",
   "metadata": {
    "id": "I0aQLjLNoh58"
   },
   "source": [
    "## 3. Text Pre-Processing\n",
    "- Cleaning up the text data by removing punctuation, extra spaces, and numbers.\n",
    "- Transform sentences into individual words, remove common words (known as \"stop words\") and then lemmatize remaining words for its repsective root words.\n",
    "- Keeping track of the 1000 most frequently used words in the dataset\n",
    "- Assigning tracked words a unique identifier, forming dictionary for one-hot encoding\n",
    "- Ensuring all sequences have the same length by padding or truncating them as needed by 1000+1 tokens. (+1 for padding)"
   ]
  },
  {
   "cell_type": "code",
   "execution_count": 6,
   "metadata": {
    "colab": {
     "base_uri": "https://localhost:8080/"
    },
    "id": "HTeEZdMSpBeq",
    "outputId": "bf17a69d-6d58-457c-9bd2-1c93ca88c92c"
   },
   "outputs": [
    {
     "name": "stderr",
     "output_type": "stream",
     "text": [
      "[nltk_data] Downloading package stopwords to /root/nltk_data...\n",
      "[nltk_data]   Package stopwords is already up-to-date!\n",
      "[nltk_data] Downloading package wordnet to /root/nltk_data...\n",
      "[nltk_data]   Package wordnet is already up-to-date!\n"
     ]
    },
    {
     "data": {
      "text/plain": [
       "True"
      ]
     },
     "execution_count": 6,
     "metadata": {},
     "output_type": "execute_result"
    }
   ],
   "source": [
    "import re\n",
    "import nltk\n",
    "from collections import Counter\n",
    "from tqdm import tqdm\n",
    "from nltk.corpus import stopwords\n",
    "from nltk.stem import WordNetLemmatizer\n",
    "\n",
    "nltk.download('stopwords')\n",
    "nltk.download('wordnet')"
   ]
  },
  {
   "cell_type": "code",
   "execution_count": 7,
   "metadata": {
    "id": "huj_ZpwyoM_F"
   },
   "outputs": [],
   "source": [
    "# Precompile regular expressions for faster preprocessing\n",
    "non_word_chars_pattern = re.compile(r\"[^\\w\\s]\")\n",
    "whitespace_pattern = re.compile(r\"\\s+\")\n",
    "url_pattern = re.compile(r'http\\S+|www\\S+')\n",
    "username_pattern = re.compile(r\"@([^\\s]+)\")\n",
    "hashtags_pattern = re.compile(r\"#\\d+\")\n",
    "br_pattern = re.compile(r'<br\\s*/?>\\s*<br\\s*/?>')\n",
    "\n",
    "# Load stopwords once\n",
    "stop_words = set(stopwords.words(\"english\"))\n",
    "lemmatizer = WordNetLemmatizer()\n",
    "\n",
    "\n",
    "def preprocess_string(s):\n",
    "    # Lowercase text\n",
    "    s = s.lower()\n",
    "    # Remove URLs\n",
    "    s = url_pattern.sub('', s)\n",
    "    # Remove usernames and hashtags\n",
    "    s = username_pattern.sub('', s)\n",
    "    s = hashtags_pattern.sub('', s)\n",
    "    # Remove <br /> HTML tags\n",
    "    s = br_pattern.sub('', s)\n",
    "    # Remove non-word characters (preserving letters and numbers only)\n",
    "    s = non_word_chars_pattern.sub(' ', s)\n",
    "    # Replace multiple spaces with a single space\n",
    "    s = whitespace_pattern.sub(' ', s)\n",
    "\n",
    "    # Tokenize, remove stopwords, and lemmatize\n",
    "    tokens = s.split()\n",
    "    filtered_tokens = [\n",
    "        lemmatizer.lemmatize(word) for word in tokens if word not in stop_words\n",
    "    ]\n",
    "    return ' '.join(filtered_tokens)"
   ]
  },
  {
   "cell_type": "code",
   "execution_count": 8,
   "metadata": {
    "id": "FzaCKiCFvafI"
   },
   "outputs": [],
   "source": [
    "def tokenize(X_train, y_train, X_val, y_val, seq_len):\n",
    "    word_list = []\n",
    "\n",
    "    for sent in tqdm(X_train, desc=\"Preprocessing train data\"):\n",
    "        words = [preprocess_string(word) for word in sent.lower().split()]\n",
    "        word_list.extend([word for word in words if word not in stop_words and word != ''])\n",
    "\n",
    "    corpus = Counter(word_list)\n",
    "    # Sorting on the basis of most common words\n",
    "    corpus_ = sorted(corpus, key=corpus.get, reverse=True)[:seq_len]\n",
    "    # Creating a dictionary\n",
    "    onehot_dict = {w: i + 1 for i, w in enumerate(corpus_)}\n",
    "\n",
    "    # Tokenize and pad sequences\n",
    "    final_list_train = [[onehot_dict.get(preprocess_string(word), 0) for word in sent.lower().split() if preprocess_string(word) in onehot_dict]\n",
    "                        for sent in tqdm(X_train, desc=\"Tokenizing and padding train data\")]\n",
    "    final_list_train = [padded_tokens[-seq_len:] if len(padded_tokens) > seq_len else [0] * (seq_len - len(padded_tokens)) + padded_tokens\n",
    "                        for padded_tokens in final_list_train]\n",
    "\n",
    "    final_list_test = [[onehot_dict.get(preprocess_string(word), 0) for word in sent.lower().split() if preprocess_string(word) in onehot_dict]\n",
    "                       for sent in tqdm(X_val, desc=\"Tokenizing and padding validation data\")]\n",
    "    final_list_test = [padded_tokens[-seq_len:] if len(padded_tokens) > seq_len\n",
    "                       else [0] * (seq_len - len(padded_tokens)) + padded_tokens\n",
    "                       for padded_tokens in final_list_test]\n",
    "\n",
    "    encoded_train = np.array([1 if label == 'positive' else 0 for label in y_train])\n",
    "    encoded_test = np.array([1 if label == 'positive' else 0 for label in y_val])\n",
    "\n",
    "    return np.array(final_list_train), encoded_train, np.array(final_list_test), encoded_test, onehot_dict"
   ]
  },
  {
   "cell_type": "code",
   "execution_count": 9,
   "metadata": {
    "colab": {
     "base_uri": "https://localhost:8080/"
    },
    "id": "w9_A_w57pj4Y",
    "outputId": "326088be-538e-4a51-ca90-e7bb0ede85a2"
   },
   "outputs": [
    {
     "name": "stderr",
     "output_type": "stream",
     "text": [
      "Preprocessing train data: 100%|██████████| 518500/518500 [05:48<00:00, 1487.34it/s]\n",
      "Tokenizing and padding train data: 100%|██████████| 518500/518500 [08:17<00:00, 1041.26it/s]\n",
      "Tokenizing and padding validation data: 100%|██████████| 91500/91500 [01:28<00:00, 1038.57it/s]\n"
     ]
    },
    {
     "data": {
      "text/plain": [
       "(518500, 91500)"
      ]
     },
     "execution_count": 9,
     "metadata": {},
     "output_type": "execute_result"
    }
   ],
   "source": [
    "seq_len = 1000\n",
    "X_train, y_train, X_test, y_test, vocab = tokenize(X_train,\n",
    "                                                   y_train,\n",
    "                                                   X_test,\n",
    "                                                   y_test,\n",
    "                                                   seq_len)\n",
    "\n",
    "len(X_train), len(X_test)"
   ]
  },
  {
   "cell_type": "code",
   "execution_count": 10,
   "metadata": {
    "id": "WZeDPGm0LOTe"
   },
   "outputs": [],
   "source": [
    "import pickle\n",
    "\n",
    "# Save the corpus dictionary\n",
    "with open(\"vocab.pkl\", 'wb') as f:\n",
    "    pickle.dump(vocab, f)"
   ]
  },
  {
   "cell_type": "code",
   "execution_count": 11,
   "metadata": {
    "colab": {
     "base_uri": "https://localhost:8080/"
    },
    "id": "J61TtmqcuVTc",
    "outputId": "dafc54ff-92ad-4a19-8b99-66d89797fbd1"
   },
   "outputs": [
    {
     "data": {
      "text/plain": [
       "(array([[  0,   0,   0, ...,  20,  91,   1],\n",
       "        [  0,   0,   0, ..., 661, 676,  42],\n",
       "        [  0,   0,   0, ...,  43, 299, 990],\n",
       "        ...,\n",
       "        [  0,   0,   0, ...,   3,  95, 629],\n",
       "        [  0,   0,   0, ..., 216,   3, 309],\n",
       "        [  0,   0,   0, ...,  19, 106, 105]]),\n",
       " array([0, 1, 0, ..., 1, 1, 0]))"
      ]
     },
     "execution_count": 11,
     "metadata": {},
     "output_type": "execute_result"
    }
   ],
   "source": [
    "X_train, y_train"
   ]
  },
  {
   "cell_type": "markdown",
   "metadata": {
    "id": "r_XIMBMRwZWN"
   },
   "source": [
    "## 4. Preparing the data using DataLoader"
   ]
  },
  {
   "cell_type": "code",
   "execution_count": 12,
   "metadata": {
    "id": "tudpNZvOwq07"
   },
   "outputs": [],
   "source": [
    "import torch\n",
    "from torch.utils.data import TensorDataset, DataLoader"
   ]
  },
  {
   "cell_type": "code",
   "execution_count": 13,
   "metadata": {
    "colab": {
     "base_uri": "https://localhost:8080/"
    },
    "id": "2T5g7K3Iub9F",
    "outputId": "8df7dc19-8ddf-4c9a-ce1d-1475290cf1ab"
   },
   "outputs": [
    {
     "data": {
      "text/plain": [
       "(1013, 179)"
      ]
     },
     "execution_count": 13,
     "metadata": {},
     "output_type": "execute_result"
    }
   ],
   "source": [
    "# Create Tensor datasets\n",
    "train_data = TensorDataset(torch.from_numpy(X_train),\n",
    "                           torch.from_numpy(y_train))\n",
    "valid_data = TensorDataset(torch.from_numpy(X_test),\n",
    "                           torch.from_numpy(y_test))\n",
    "\n",
    "BATCH_SIZE = 512\n",
    "\n",
    "# Create train and valid dataloader\n",
    "train_dataloader = DataLoader(train_data,\n",
    "                              shuffle=True,\n",
    "                              batch_size=BATCH_SIZE)\n",
    "valid_dataloader = DataLoader(valid_data,\n",
    "                              shuffle=False,\n",
    "                              batch_size=BATCH_SIZE)\n",
    "\n",
    "len(train_dataloader), len(valid_dataloader)"
   ]
  },
  {
   "cell_type": "code",
   "execution_count": 14,
   "metadata": {
    "colab": {
     "base_uri": "https://localhost:8080/"
    },
    "id": "L5rE9aJsxfbg",
    "outputId": "74b2076c-cc21-478e-8300-b38039e2f02b"
   },
   "outputs": [
    {
     "name": "stdout",
     "output_type": "stream",
     "text": [
      "Sample input size: torch.Size([512, 1000])\n",
      "Sample input: tensor([[  0,   0,   0,  ..., 271, 230,   2],\n",
      "        [  0,   0,   0,  ...,  30, 205, 888],\n",
      "        [  0,   0,   0,  ..., 428, 185,   2],\n",
      "        ...,\n",
      "        [  0,   0,   0,  ..., 735, 202,  27],\n",
      "        [  0,   0,   0,  ..., 361, 984,  10],\n",
      "        [  0,   0,   0,  ..., 464, 750, 833]])\n",
      "Sample output: tensor([1, 0, 0, 0, 0, 0, 1, 1, 0, 0, 1, 1, 0, 0, 0, 1, 0, 1, 0, 1, 1, 1, 0, 1,\n",
      "        1, 0, 0, 0, 0, 1, 0, 0, 0, 0, 1, 1, 1, 1, 0, 0, 0, 0, 1, 0, 1, 1, 1, 1,\n",
      "        0, 0, 1, 0, 0, 1, 0, 0, 0, 0, 0, 1, 1, 0, 0, 1, 0, 0, 1, 1, 1, 0, 0, 1,\n",
      "        0, 1, 0, 1, 0, 0, 1, 0, 0, 1, 1, 1, 1, 1, 0, 1, 0, 1, 0, 0, 1, 1, 0, 1,\n",
      "        0, 0, 0, 1, 0, 0, 1, 1, 1, 1, 0, 1, 1, 0, 1, 1, 1, 0, 0, 0, 0, 1, 1, 0,\n",
      "        0, 0, 0, 0, 0, 0, 1, 1, 1, 0, 0, 0, 1, 1, 0, 0, 0, 0, 0, 0, 0, 0, 0, 0,\n",
      "        0, 1, 1, 0, 0, 0, 0, 0, 0, 1, 1, 0, 1, 0, 1, 0, 0, 0, 0, 0, 0, 0, 0, 0,\n",
      "        0, 1, 1, 1, 0, 0, 0, 1, 1, 0, 1, 1, 0, 1, 1, 1, 0, 0, 1, 0, 0, 0, 1, 0,\n",
      "        0, 0, 0, 1, 1, 0, 0, 1, 1, 1, 0, 1, 1, 0, 0, 0, 1, 1, 0, 1, 1, 1, 1, 0,\n",
      "        1, 0, 0, 0, 1, 1, 1, 1, 1, 1, 0, 1, 1, 1, 0, 0, 1, 0, 1, 1, 0, 0, 1, 0,\n",
      "        1, 1, 0, 0, 0, 1, 1, 1, 1, 1, 1, 0, 0, 0, 0, 1, 1, 0, 0, 1, 0, 1, 1, 1,\n",
      "        1, 1, 0, 1, 0, 1, 0, 1, 0, 1, 0, 0, 0, 0, 0, 1, 0, 0, 1, 0, 0, 1, 0, 0,\n",
      "        1, 0, 0, 0, 1, 0, 1, 1, 1, 0, 0, 1, 0, 1, 1, 0, 1, 0, 0, 1, 0, 0, 0, 0,\n",
      "        0, 0, 1, 1, 1, 1, 1, 0, 1, 1, 1, 1, 0, 0, 0, 0, 1, 1, 1, 1, 0, 1, 0, 1,\n",
      "        1, 1, 0, 1, 0, 0, 1, 0, 0, 1, 1, 1, 0, 1, 0, 0, 0, 0, 0, 1, 0, 1, 1, 0,\n",
      "        1, 0, 0, 0, 0, 0, 1, 1, 1, 0, 1, 0, 1, 0, 1, 1, 0, 0, 1, 1, 0, 0, 0, 0,\n",
      "        0, 1, 0, 0, 1, 0, 0, 1, 0, 0, 0, 1, 0, 0, 1, 0, 1, 0, 1, 0, 0, 0, 1, 1,\n",
      "        0, 0, 0, 1, 0, 0, 1, 1, 1, 0, 0, 0, 1, 1, 0, 1, 1, 0, 1, 0, 0, 0, 0, 0,\n",
      "        1, 0, 0, 1, 0, 1, 0, 1, 0, 0, 1, 0, 1, 1, 0, 0, 1, 1, 1, 1, 0, 1, 1, 1,\n",
      "        0, 1, 0, 0, 0, 1, 0, 0, 1, 0, 0, 0, 0, 0, 0, 1, 0, 0, 1, 0, 0, 1, 1, 1,\n",
      "        1, 1, 1, 0, 1, 1, 1, 0, 0, 0, 1, 1, 0, 1, 1, 0, 0, 1, 1, 0, 0, 0, 1, 0,\n",
      "        0, 1, 1, 0, 0, 0, 1, 0])\n"
     ]
    }
   ],
   "source": [
    "# Sampling one bacth from train_dataloader\n",
    "sample_data = iter(train_dataloader)\n",
    "sample_x, sample_y = next(sample_data)\n",
    "\n",
    "print('Sample input size:', sample_x.size())     # batch_size, seq_length\n",
    "print('Sample input:', sample_x)\n",
    "print('Sample output:', sample_y)"
   ]
  },
  {
   "cell_type": "markdown",
   "metadata": {
    "id": "XfhrHm3tx9wA"
   },
   "source": [
    "## 5. Building a LSTM Model"
   ]
  },
  {
   "cell_type": "code",
   "execution_count": 15,
   "metadata": {
    "colab": {
     "base_uri": "https://localhost:8080/"
    },
    "id": "FCdSBQfeyNQs",
    "outputId": "2445639e-1193-415e-9b8a-7c289c6249d5"
   },
   "outputs": [
    {
     "name": "stdout",
     "output_type": "stream",
     "text": [
      "cuda\n"
     ]
    }
   ],
   "source": [
    "import torch.nn as nn\n",
    "import torch.nn.functional as F\n",
    "from torch.nn.utils import clip_grad_norm_\n",
    "\n",
    "# Setting device agnostic code\n",
    "device = 'cuda' if torch.cuda.is_available() else 'cpu'\n",
    "print(device)"
   ]
  },
  {
   "cell_type": "code",
   "execution_count": 16,
   "metadata": {
    "id": "qiVWvh3faHaq"
   },
   "outputs": [],
   "source": [
    "class AdditiveAttention(nn.Module):\n",
    "    def __init__(self, query_dim, key_dim, hidden_dim):\n",
    "        super(AdditiveAttention, self).__init__()\n",
    "        self.query_layer = nn.Linear(query_dim, hidden_dim)\n",
    "        self.key_layer = nn.Linear(key_dim, hidden_dim)\n",
    "        self.energy_layer = nn.Linear(hidden_dim, 1)\n",
    "\n",
    "    def forward(self, query, keys, values):\n",
    "        query = self.query_layer(query).unsqueeze(1)\n",
    "        keys = self.key_layer(keys)\n",
    "\n",
    "        # Compute energy scores\n",
    "        energy = torch.tanh(query + keys)\n",
    "        attention_scores = self.energy_layer(energy).squeeze(-1)\n",
    "        attention_weights = F.softmax(attention_scores, dim=-1)\n",
    "\n",
    "        # Compute context vector\n",
    "        context = torch.bmm(attention_weights.unsqueeze(1), values).squeeze(1)\n",
    "\n",
    "        return context, attention_weights"
   ]
  },
  {
   "cell_type": "code",
   "execution_count": 17,
   "metadata": {
    "id": "UAHIy-TMxzOJ"
   },
   "outputs": [],
   "source": [
    "class GRUModel(nn.Module):\n",
    "    def __init__(self, input_dim, embedding_dim, hidden_dim, output_dim=1, num_layers=1, bidirectional=False, dropout=0.2):\n",
    "        super(GRUModel, self).__init__()\n",
    "        self.hidden_dim = hidden_dim\n",
    "        self.num_layers = num_layers\n",
    "        self.bidirectional = bidirectional\n",
    "\n",
    "        # Embedding layer\n",
    "        self.embedding = nn.Embedding(input_dim, embedding_dim)\n",
    "\n",
    "        # GRU Layer\n",
    "        self.gru = nn.GRU(embedding_dim,\n",
    "                          hidden_dim,\n",
    "                          num_layers,\n",
    "                          bidirectional=bidirectional,\n",
    "                          batch_first=True,\n",
    "                          dropout=dropout)\n",
    "\n",
    "        # Attention\n",
    "        attention_dim = hidden_dim * 2 if bidirectional else hidden_dim\n",
    "        self.attention = AdditiveAttention(query_dim=attention_dim,\n",
    "                                           key_dim=attention_dim,\n",
    "                                           hidden_dim=hidden_dim)\n",
    "\n",
    "        # Output layer\n",
    "        self.fc = nn.Linear(attention_dim, output_dim)\n",
    "        self.sigmoid = nn.Sigmoid()\n",
    "\n",
    "\n",
    "    def forward(self, x):\n",
    "        # GRU\n",
    "        x = self.embedding(x)\n",
    "\n",
    "        gru_out, hn = self.gru(x)   # gru_out: (batch_size, seq_len, hidden_dim * num_directions)\n",
    "\n",
    "        # Set query as last hidden state of the GRU\n",
    "        if self.bidirectional:\n",
    "            # Concatenate the last states of the two directions\n",
    "            query = torch.cat((hn[-2], hn[-1]), dim=1)\n",
    "        else:\n",
    "            # Use the last hidden state for unidirectional GRU\n",
    "            query = hn[-1]\n",
    "\n",
    "        # Use GRU output as keys and values to compute attention\n",
    "        context, attention_weights = self.attention(query, gru_out, gru_out)\n",
    "\n",
    "        # Output layer with sigmoid activation\n",
    "        out = self.fc(context)\n",
    "        out = self.sigmoid(out).squeeze(1)\n",
    "\n",
    "        return out, attention_weights"
   ]
  },
  {
   "cell_type": "code",
   "execution_count": 18,
   "metadata": {
    "colab": {
     "base_uri": "https://localhost:8080/"
    },
    "id": "ImnTLXQY0K_A",
    "outputId": "65c8eacf-941c-412c-8aa0-5178570883a8"
   },
   "outputs": [
    {
     "data": {
      "text/plain": [
       "OptimizedModule(\n",
       "  (_orig_mod): GRUModel(\n",
       "    (embedding): Embedding(1001, 64)\n",
       "    (gru): GRU(64, 256, num_layers=2, batch_first=True, dropout=0.2)\n",
       "    (attention): AdditiveAttention(\n",
       "      (query_layer): Linear(in_features=256, out_features=256, bias=True)\n",
       "      (key_layer): Linear(in_features=256, out_features=256, bias=True)\n",
       "      (energy_layer): Linear(in_features=256, out_features=1, bias=True)\n",
       "    )\n",
       "    (fc): Linear(in_features=256, out_features=1, bias=True)\n",
       "    (sigmoid): Sigmoid()\n",
       "  )\n",
       ")"
      ]
     },
     "execution_count": 18,
     "metadata": {},
     "output_type": "execute_result"
    }
   ],
   "source": [
    "model = GRUModel(input_dim=len(vocab) + 1,   # 1 extra for padding\n",
    "                 embedding_dim=64,\n",
    "                 hidden_dim=256,\n",
    "                 output_dim=1,\n",
    "                 num_layers=2,\n",
    "                 bidirectional=False,         # True for bidirectional LSTM else False for unidirectional LSTM\n",
    "                 dropout=.2)\n",
    "\n",
    "# Since dataset is large, it is beneficial to speed up the training process by optimizing the model graph\n",
    "model = torch.compile(model)\n",
    "model.to(device)"
   ]
  },
  {
   "cell_type": "markdown",
   "metadata": {
    "id": "cVe0MYCA4w5L"
   },
   "source": [
    "## 6. Create Train and Validation Loop Function"
   ]
  },
  {
   "cell_type": "code",
   "execution_count": 19,
   "metadata": {
    "id": "B6LbxATe7MNN"
   },
   "outputs": [],
   "source": [
    "from torchmetrics import Accuracy\n",
    "\n",
    "torchmetrics_accuracy = Accuracy(task=\"binary\").to(device)"
   ]
  },
  {
   "cell_type": "code",
   "execution_count": 20,
   "metadata": {
    "id": "m6IE2Aep37PS"
   },
   "outputs": [],
   "source": [
    "def train_step(model, data_loader, loss_fn, optimizer, clip, device, epoch, experiment):\n",
    "    train_loss, train_acc = 0, 0\n",
    "    train_losses, train_accuracies = [], []\n",
    "\n",
    "    model.train()\n",
    "\n",
    "    for _, (inputs, labels) in enumerate(data_loader):\n",
    "        inputs, labels = inputs.to(device), labels.to(device)\n",
    "\n",
    "        output, _ = model(inputs)\n",
    "\n",
    "        loss = loss_fn(output, labels.float())\n",
    "        train_loss += loss\n",
    "\n",
    "        preds = torch.round(output.squeeze())\n",
    "        train_acc += torchmetrics_accuracy(preds, labels)\n",
    "\n",
    "        optimizer.zero_grad()\n",
    "        loss.backward()\n",
    "        clip_grad_norm_(model.parameters(), clip)\n",
    "        optimizer.step()\n",
    "\n",
    "    train_loss /= len(data_loader)\n",
    "    train_acc /= len(data_loader)\n",
    "\n",
    "    # Log metrics to a dictionary\n",
    "    metrics_dict = {\n",
    "        \"train_loss\": train_loss,\n",
    "        \"train_accuracy\": train_acc,\n",
    "    }\n",
    "\n",
    "    # Log metrics dictionary to Comet ML\n",
    "    experiment.log_metrics(metrics_dict, step=epoch)\n",
    "\n",
    "    train_losses.append(train_loss.item())\n",
    "    train_accuracies.append(train_acc.item())\n",
    "\n",
    "    return train_losses, train_accuracies\n",
    "\n",
    "\n",
    "def test_step(model, data_loader, loss_fn, device, epoch, experiment):\n",
    "    test_loss, test_acc = 0, 0\n",
    "    test_losses, test_accuracies = [], []\n",
    "    preds_list, labels_list = [], []\n",
    "\n",
    "    model.eval()\n",
    "\n",
    "    with torch.inference_mode():\n",
    "        for _, (inputs, labels) in enumerate(data_loader):\n",
    "            inputs, labels = inputs.to(device), labels.to(device)\n",
    "\n",
    "            output, _ = model(inputs)\n",
    "\n",
    "            loss = loss_fn(output, labels.float())\n",
    "            test_loss += loss\n",
    "\n",
    "            preds = torch.round(output.squeeze())\n",
    "            test_acc += torchmetrics_accuracy(preds, labels)\n",
    "\n",
    "            # Collect predictions and labels for confusion matrix\n",
    "            preds_list.extend(preds.cpu().long().numpy())\n",
    "            labels_list.extend(labels.cpu().long().numpy())\n",
    "\n",
    "        test_loss /= len(data_loader)\n",
    "        test_acc /= len(data_loader)\n",
    "\n",
    "        # Log metrics to a dictionary\n",
    "        metrics_dict = {\n",
    "            \"test_loss\": test_loss,\n",
    "            \"test_accuracy\": test_acc,\n",
    "        }\n",
    "\n",
    "        # Log metrics dictionary to Comet ML\n",
    "        experiment.log_metrics(metrics_dict, step=epoch)\n",
    "\n",
    "        test_losses.append(test_loss.item())\n",
    "        test_accuracies.append(test_acc.item())\n",
    "\n",
    "        return test_losses, test_accuracies, preds_list, labels_list"
   ]
  },
  {
   "cell_type": "code",
   "execution_count": 21,
   "metadata": {
    "id": "G4jaGQ5QbeZh"
   },
   "outputs": [],
   "source": [
    "def train(model, train_dataloader, test_dataloader, classes, loss_fn, optimizer, clip, epochs, device, experiment):\n",
    "    results = {\"train_losses_history\": [],\n",
    "               \"train_accuracies_history\": [],\n",
    "               \"test_losses_history\": [],\n",
    "               \"test_accuracies_history\": []\n",
    "\n",
    "    }\n",
    "    test_acc_min = 0\n",
    "\n",
    "    for epoch in tqdm(range(1, epochs+1)):\n",
    "        train_losses, train_accuracies = train_step(model,\n",
    "                                                    train_dataloader,\n",
    "                                                    loss_fn, optimizer, clip,\n",
    "                                                    device,\n",
    "                                                    epoch,\n",
    "                                                    experiment)\n",
    "        test_losses, test_accuracies, preds_list, labels_list = test_step(model,\n",
    "                                                                          test_dataloader,\n",
    "                                                                          loss_fn,\n",
    "                                                                          device,\n",
    "                                                                          epoch,\n",
    "                                                                          experiment)\n",
    "\n",
    "        # Calculate avg. loss and accuracy\n",
    "        avg_train_loss = sum(train_losses) / len(train_losses)\n",
    "        avg_train_accuracy = sum(train_accuracies) / len(train_accuracies)\n",
    "        avg_test_loss = sum(test_losses) / len(test_losses)\n",
    "        avg_test_accuracy = sum(test_accuracies) / len(test_accuracies)\n",
    "\n",
    "        print(f'\\nTrain loss: {avg_train_loss:.4f} ---- Train acc: {avg_train_accuracy:.4f}')\n",
    "        print(f'Test loss: {avg_test_loss:.4f} ---- Test acc: {avg_test_accuracy:.4f}\\n')\n",
    "\n",
    "        # Save model if avg_test_accuracy is higher\n",
    "        if avg_test_accuracy > test_acc_min:\n",
    "            torch.save(model.state_dict(), 'best_model.pth')\n",
    "            test_acc_min = avg_test_accuracy\n",
    "            print(f\"Saved best model at epoch: {epoch}\\n\")\n",
    "\n",
    "            # Log the confusion matrix to Comet\n",
    "            experiment.log_confusion_matrix(\n",
    "                y_true=np.array(labels_list),\n",
    "                y_predicted=np.array(preds_list),\n",
    "                labels=classes,\n",
    "            )\n",
    "\n",
    "        results[\"train_losses_history\"].append(avg_train_loss)\n",
    "        results[\"train_accuracies_history\"].append(avg_train_accuracy)\n",
    "        results[\"test_losses_history\"].append(avg_test_loss)\n",
    "        results[\"test_accuracies_history\"].append(avg_test_accuracy)\n",
    "\n",
    "    return results"
   ]
  },
  {
   "cell_type": "markdown",
   "metadata": {
    "id": "p2oybwIQ-Pwd"
   },
   "source": [
    "## 7. Train and Evaluate the Model"
   ]
  },
  {
   "cell_type": "code",
   "execution_count": 22,
   "metadata": {
    "id": "eW7H3-ln5zm5"
   },
   "outputs": [],
   "source": [
    "# Loss function and Optimizer\n",
    "loss_fn = nn.BCELoss()\n",
    "optimizer = torch.optim.Adam(params=model.parameters(), lr=5e-4)"
   ]
  },
  {
   "cell_type": "code",
   "execution_count": null,
   "metadata": {
    "id": "A9sgrcakbrSP"
   },
   "outputs": [],
   "source": [
    "import comet_ml\n",
    "\n",
    "comet_ml.login(project_name=\"tweet-sentiment-analysis\")\n",
    "exp = comet_ml.Experiment()"
   ]
  },
  {
   "cell_type": "code",
   "execution_count": 26,
   "metadata": {
    "colab": {
     "base_uri": "https://localhost:8080/"
    },
    "id": "CmihVKQY561l",
    "outputId": "142f5ed2-48da-4fb8-f299-0423a5f69038"
   },
   "outputs": [
    {
     "name": "stderr",
     "output_type": "stream",
     "text": [
      "\r  0%|          | 0/10 [00:00<?, ?it/s]/usr/local/lib/python3.10/dist-packages/torch/_inductor/compile_fx.py:167: UserWarning: TensorFloat32 tensor cores for float32 matrix multiplication available but not enabled. Consider setting `torch.set_float32_matmul_precision('high')` for better performance.\n",
      "  warnings.warn(\n"
     ]
    },
    {
     "name": "stdout",
     "output_type": "stream",
     "text": [
      "\n",
      "Train loss: 0.3271 ---- Train acc: 0.8484\n",
      "Test loss: 0.2586 ---- Test acc: 0.8899\n",
      "\n",
      "Saved best model at epoch: 1\n",
      "\n"
     ]
    },
    {
     "name": "stderr",
     "output_type": "stream",
     "text": [
      "\r 10%|█         | 1/10 [05:53<53:02, 353.61s/it]"
     ]
    },
    {
     "name": "stdout",
     "output_type": "stream",
     "text": [
      "\n",
      "Train loss: 0.2478 ---- Train acc: 0.8950\n",
      "Test loss: 0.2403 ---- Test acc: 0.8987\n",
      "\n",
      "Saved best model at epoch: 2\n",
      "\n"
     ]
    },
    {
     "name": "stderr",
     "output_type": "stream",
     "text": [
      "\r 20%|██        | 2/10 [11:36<46:18, 347.35s/it]"
     ]
    },
    {
     "name": "stdout",
     "output_type": "stream",
     "text": [
      "\n",
      "Train loss: 0.2310 ---- Train acc: 0.9024\n",
      "Test loss: 0.2357 ---- Test acc: 0.8996\n",
      "\n",
      "Saved best model at epoch: 3\n",
      "\n"
     ]
    },
    {
     "name": "stderr",
     "output_type": "stream",
     "text": [
      "\r 30%|███       | 3/10 [17:19<40:17, 345.33s/it]"
     ]
    },
    {
     "name": "stdout",
     "output_type": "stream",
     "text": [
      "\n",
      "Train loss: 0.2191 ---- Train acc: 0.9078\n",
      "Test loss: 0.2305 ---- Test acc: 0.9032\n",
      "\n",
      "Saved best model at epoch: 4\n",
      "\n"
     ]
    },
    {
     "name": "stderr",
     "output_type": "stream",
     "text": [
      "\r 40%|████      | 4/10 [23:02<34:27, 344.50s/it]"
     ]
    },
    {
     "name": "stdout",
     "output_type": "stream",
     "text": [
      "\n",
      "Train loss: 0.2082 ---- Train acc: 0.9127\n",
      "Test loss: 0.2245 ---- Test acc: 0.9056\n",
      "\n",
      "Saved best model at epoch: 5\n",
      "\n"
     ]
    },
    {
     "name": "stderr",
     "output_type": "stream",
     "text": [
      "\r 50%|█████     | 5/10 [28:45<28:40, 344.04s/it]"
     ]
    },
    {
     "name": "stdout",
     "output_type": "stream",
     "text": [
      "\n",
      "Train loss: 0.1970 ---- Train acc: 0.9174\n",
      "Test loss: 0.2212 ---- Test acc: 0.9072\n",
      "\n",
      "Saved best model at epoch: 6\n",
      "\n"
     ]
    },
    {
     "name": "stderr",
     "output_type": "stream",
     "text": [
      "\r 60%|██████    | 6/10 [34:28<22:54, 343.68s/it]"
     ]
    },
    {
     "name": "stdout",
     "output_type": "stream",
     "text": [
      "\n",
      "Train loss: 0.1857 ---- Train acc: 0.9228\n",
      "Test loss: 0.2225 ---- Test acc: 0.9079\n",
      "\n",
      "Saved best model at epoch: 7\n",
      "\n"
     ]
    },
    {
     "name": "stderr",
     "output_type": "stream",
     "text": [
      " 80%|████████  | 8/10 [45:55<11:26, 343.29s/it]"
     ]
    },
    {
     "name": "stdout",
     "output_type": "stream",
     "text": [
      "\n",
      "Train loss: 0.1735 ---- Train acc: 0.9283\n",
      "Test loss: 0.2254 ---- Test acc: 0.9076\n",
      "\n"
     ]
    },
    {
     "name": "stderr",
     "output_type": "stream",
     "text": [
      "\r 90%|█████████ | 9/10 [51:38<05:43, 343.25s/it]"
     ]
    },
    {
     "name": "stdout",
     "output_type": "stream",
     "text": [
      "\n",
      "Train loss: 0.1596 ---- Train acc: 0.9346\n",
      "Test loss: 0.2328 ---- Test acc: 0.9059\n",
      "\n"
     ]
    },
    {
     "name": "stderr",
     "output_type": "stream",
     "text": [
      "100%|██████████| 10/10 [57:21<00:00, 344.14s/it]"
     ]
    },
    {
     "name": "stdout",
     "output_type": "stream",
     "text": [
      "\n",
      "Train loss: 0.1447 ---- Train acc: 0.9411\n",
      "Test loss: 0.2395 ---- Test acc: 0.9050\n",
      "\n"
     ]
    },
    {
     "name": "stderr",
     "output_type": "stream",
     "text": [
      "\n"
     ]
    }
   ],
   "source": [
    "results = train(model = model,\n",
    "                train_dataloader = train_dataloader,\n",
    "                test_dataloader = valid_dataloader,\n",
    "                classes = [\"negative\", \"positive\"],\n",
    "                loss_fn = loss_fn,\n",
    "                optimizer = optimizer,\n",
    "                epochs = 10,\n",
    "                clip = 5,\n",
    "                device = device,\n",
    "                experiment = exp)"
   ]
  },
  {
   "cell_type": "code",
   "execution_count": 27,
   "metadata": {
    "colab": {
     "base_uri": "https://localhost:8080/"
    },
    "id": "hZtWHGLfg4Mh",
    "outputId": "51b153fa-a6ad-4f41-f1d7-601faf2ed97f"
   },
   "outputs": [
    {
     "name": "stderr",
     "output_type": "stream",
     "text": [
      "\u001b[1;38;5;39mCOMET INFO:\u001b[0m ---------------------------------------------------------------------------------------\n",
      "\u001b[1;38;5;39mCOMET INFO:\u001b[0m Comet.ml Experiment Summary\n",
      "\u001b[1;38;5;39mCOMET INFO:\u001b[0m ---------------------------------------------------------------------------------------\n",
      "\u001b[1;38;5;39mCOMET INFO:\u001b[0m   Data:\n",
      "\u001b[1;38;5;39mCOMET INFO:\u001b[0m     display_summary_level : 1\n",
      "\u001b[1;38;5;39mCOMET INFO:\u001b[0m     name                  : intelligent_redshift_6484\n",
      "\u001b[1;38;5;39mCOMET INFO:\u001b[0m     url                   : https://www.comet.com/luluw8071/tweet-sentiment-analysis/792453c5ff8b47b19878469ccd77d8cb\n",
      "\u001b[1;38;5;39mCOMET INFO:\u001b[0m   Metrics [count] (min, max):\n",
      "\u001b[1;38;5;39mCOMET INFO:\u001b[0m     test_accuracy [10]  : (0.8898518085479736, 0.9078647494316101)\n",
      "\u001b[1;38;5;39mCOMET INFO:\u001b[0m     test_loss [10]      : (0.2212323546409607, 0.25856539607048035)\n",
      "\u001b[1;38;5;39mCOMET INFO:\u001b[0m     train_accuracy [10] : (0.8484259247779846, 0.9411077499389648)\n",
      "\u001b[1;38;5;39mCOMET INFO:\u001b[0m     train_loss [10]     : (0.14465101063251495, 0.3270532190799713)\n",
      "\u001b[1;38;5;39mCOMET INFO:\u001b[0m   Others:\n",
      "\u001b[1;38;5;39mCOMET INFO:\u001b[0m     notebook_url : https://colab.research.google.com/notebook#fileId=1bxDvWxG54jity7DoNkUfL3x7P1UTEjoj\n",
      "\u001b[1;38;5;39mCOMET INFO:\u001b[0m   Uploads:\n",
      "\u001b[1;38;5;39mCOMET INFO:\u001b[0m     confusion-matrix    : 7\n",
      "\u001b[1;38;5;39mCOMET INFO:\u001b[0m     environment details : 1\n",
      "\u001b[1;38;5;39mCOMET INFO:\u001b[0m     filename            : 1\n",
      "\u001b[1;38;5;39mCOMET INFO:\u001b[0m     installed packages  : 1\n",
      "\u001b[1;38;5;39mCOMET INFO:\u001b[0m     model-element       : 2 (3.21 MB)\n",
      "\u001b[1;38;5;39mCOMET INFO:\u001b[0m     notebook            : 2\n",
      "\u001b[1;38;5;39mCOMET INFO:\u001b[0m     os packages         : 1\n",
      "\u001b[1;38;5;39mCOMET INFO:\u001b[0m     source_code         : 1\n",
      "\u001b[1;38;5;39mCOMET INFO:\u001b[0m \n",
      "\u001b[1;38;5;214mCOMET WARNING:\u001b[0m To get all data logged automatically, import comet_ml before the following modules: torch, sklearn.\n"
     ]
    }
   ],
   "source": [
    "exp.log_model(\n",
    "    name=\"Binary_Sentiment_GRU_Attention_largerdataset\",\n",
    "    file_or_folder=\"best_model.pth\"\n",
    ")\n",
    "\n",
    "exp.log_model(\n",
    "    name=\"Vocab\",\n",
    "    file_or_folder=\"vocab.pkl\"\n",
    ")\n",
    "\n",
    "exp.end()"
   ]
  },
  {
   "cell_type": "markdown",
   "metadata": {
    "id": "niBrXV4v-asL"
   },
   "source": [
    "## 8. Plot Loss and Accuracy Curves"
   ]
  },
  {
   "cell_type": "code",
   "execution_count": 28,
   "metadata": {
    "colab": {
     "base_uri": "https://localhost:8080/",
     "height": 420
    },
    "id": "5VM0Y5HJ59mV",
    "outputId": "6968cc5d-ba0a-459b-a9b5-09f5262c8cb3"
   },
   "outputs": [
    {
     "data": {
      "image/png": "[encoded data removed]",
      "text/plain": [
       "<Figure size 2000x600 with 2 Axes>"
      ]
     },
     "metadata": {},
     "output_type": "display_data"
    }
   ],
   "source": [
    "fig = plt.figure(figsize = (20, 6))\n",
    "plt.subplot(1, 2, 1)\n",
    "plt.plot(results[\"train_losses_history\"], label='Train loss')\n",
    "plt.plot(results[\"test_losses_history\"], label='Validation loss')\n",
    "plt.title(\"Loss\")\n",
    "plt.legend()\n",
    "\n",
    "plt.subplot(1, 2, 2)\n",
    "plt.plot(results[\"train_accuracies_history\"], label='Train Acc')\n",
    "plt.plot(results[\"test_accuracies_history\"], label='Validation Acc')\n",
    "plt.title(\"Accuracy\")\n",
    "plt.legend()\n",
    "\n",
    "plt.show()"
   ]
  },
  {
   "cell_type": "markdown",
   "metadata": {
    "id": "1UrCIXYQk3Y-"
   },
   "source": [
    "## 9. Load Model to `cpu`"
   ]
  },
  {
   "cell_type": "code",
   "execution_count": 29,
   "metadata": {
    "colab": {
     "base_uri": "https://localhost:8080/"
    },
    "id": "63_PktMxk9li",
    "outputId": "798c307e-b725-48a0-a4ac-9a0219a4f1a8"
   },
   "outputs": [
    {
     "data": {
      "text/plain": [
       "GRUModel(\n",
       "  (embedding): Embedding(1001, 64)\n",
       "  (gru): GRU(64, 256, num_layers=2, batch_first=True, dropout=0.2)\n",
       "  (attention): AdditiveAttention(\n",
       "    (query_layer): Linear(in_features=256, out_features=256, bias=True)\n",
       "    (key_layer): Linear(in_features=256, out_features=256, bias=True)\n",
       "    (energy_layer): Linear(in_features=256, out_features=1, bias=True)\n",
       "  )\n",
       "  (fc): Linear(in_features=256, out_features=1, bias=True)\n",
       "  (sigmoid): Sigmoid()\n",
       ")"
      ]
     },
     "execution_count": 29,
     "metadata": {},
     "output_type": "execute_result"
    }
   ],
   "source": [
    "from collections import OrderedDict\n",
    "\n",
    "# Load model configs\n",
    "model = GRUModel(input_dim=1001,\n",
    "                 embedding_dim=64,\n",
    "                 hidden_dim=256,\n",
    "                 output_dim=1,\n",
    "                 num_layers=2,\n",
    "                 bidirectional=False,\n",
    "                 dropout=.2)\n",
    "\n",
    "# Load the model state dict\n",
    "checkpoint = torch.load(\"best_model.pth\", weights_only=True, map_location=\"cpu\")\n",
    "model_state_dict = checkpoint.get('state_dict', checkpoint)\n",
    "new_state_dict = OrderedDict()\n",
    "\n",
    "for k, v in model_state_dict.items():\n",
    "    if k.startswith('_orig_mod.'):\n",
    "        name = k.replace('_orig_mod.', '')\n",
    "        new_state_dict[name] = v\n",
    "\n",
    "# Load state dictionaries into the model\n",
    "model.load_state_dict(new_state_dict, strict=False)\n",
    "model.eval()"
   ]
  },
  {
   "cell_type": "markdown",
   "metadata": {
    "id": "K_-SrL4xlI8i"
   },
   "source": [
    "## 10. Make Prediction using Loaded Model"
   ]
  },
  {
   "cell_type": "code",
   "execution_count": 30,
   "metadata": {
    "id": "-rq6l3e7F4Ty"
   },
   "outputs": [],
   "source": [
    "# Load vocab pkl\n",
    "with open(\"vocab.pkl\", 'rb') as f:\n",
    "    vocab = pickle.load(f)"
   ]
  },
  {
   "cell_type": "code",
   "execution_count": 31,
   "metadata": {
    "id": "SQ5KVW-pWuIn"
   },
   "outputs": [],
   "source": [
    "def padding_(sentences, seq_len):\n",
    "    features = np.zeros((len(sentences), seq_len),dtype=int)\n",
    "    for ii, review in enumerate(sentences):\n",
    "        if len(review) != 0:\n",
    "            features[ii, -len(review):] = np.array(review)[:seq_len]\n",
    "    return features\n",
    "\n",
    "def predict_text(text):\n",
    "    word_seq = np.array([vocab[preprocess_string(word)] for word in text.split()\n",
    "                      if preprocess_string(word) in vocab.keys()])\n",
    "    word_seq = np.expand_dims(word_seq,axis=0)\n",
    "    pad =  torch.from_numpy(padding_(word_seq, 1000))\n",
    "    inputs = pad.to('cpu')\n",
    "    output, _ = model(inputs)\n",
    "    return torch.round(output.squeeze()), output.item()"
   ]
  },
  {
   "cell_type": "code",
   "execution_count": 32,
   "metadata": {
    "colab": {
     "base_uri": "https://localhost:8080/"
    },
    "id": "jAZKKQ3R-jnm",
    "outputId": "812fc42d-ced5-4e3d-9c65-7ebb0177ec24"
   },
   "outputs": [
    {
     "name": "stdout",
     "output_type": "stream",
     "text": [
      "MEH!\\nSat at the bar because I am traveling alone on bidness. 3 people sitting here with 10 empty chairs and I can't get a water refill.\\nStarted with the salmon app, don't bother, I thought it would be chunks of salmon but it was like a chicken salad all mushed together with no flavor. Caesar salad was soggy with no flavor. Needed something healthy like seafood so I ordered the sea bass. Has the cook ever heard of seasoning? It had ZERO flavor on a bed of rice & steamed veggies. I doubt I will come back here. Off to Tim Hortons for anything better.\n",
      "Predicted sentiment: \u001b[92mnegative\u001b[0m with confidence rate: 99.121476%\n",
      "======================================================================\n",
      "Fried chicken like no other. Thin crispy outside and moist inside, a mountain of tater tots, Cole slaw, soft roll and the best hush puppies. That's the dinner or just take home a whole bird to share!\n",
      "Predicted sentiment: \u001b[92mpositive\u001b[0m with confidence rate: 99.546391%\n",
      "======================================================================\n",
      "Had a wonderful experience at dinner last night.  We split the Parma salad.   Perfect with the sliced italian bread!   I ordered the Shrimp Fra Diavblo.  It was delicious.  Large juicy shrimp in a very spicy and tasty sauce.  The sliced cherry peppers really add a nice KICK!  \\nGreat customer service! There was a small hiccup with the order.  My friend's order came out incorrect.  Our server offered to keep my plate warm.  Then brought two glasses more glasses of wine - without us complaining - on the house!  \\nLooking forward to trying more of their menu!\n",
      "Predicted sentiment: \u001b[92mpositive\u001b[0m with confidence rate: 99.858296%\n",
      "======================================================================\n",
      "we went here after reading a lot of good reviews on yelp, but it didn't live up to all expectations.\\n\\ni had a hot dog, which was pretty average and had, like, 100x too much mustard. also the onions tasted pretty weird. my lady liked the fries, and was bummed they didn't have any veggie burgers. the inside is pretty cool looking (no room for sitting, just looking, and waiting). there was an inspector of some sort there while we were eating in the back, which raised our brows. the seating in the back is kind of awkward, and right next to the dumpster, so that might explain the flies.\\n\\nstill, the food wasn't horrible, it just didn't live up to all the great reviews this place has.\n",
      "Predicted sentiment: \u001b[91mnegative\u001b[0m with confidence rate: 99.064264%\n",
      "======================================================================\n",
      "Mario Batali...is a master.\\n\\nHad Linguine with shrimp, it was awesome.  Had fried green beans, they were awesome.  Had the roasted cauliflower, it was awesome.\\n\\nThis is worth paying a little extra.\n",
      "Predicted sentiment: \u001b[92mpositive\u001b[0m with confidence rate: 98.629391%\n",
      "======================================================================\n",
      "\\\"Bar Food with an Upscale Wrapper\\\". Food was subpar for the price. The wine service was absolutely appalling- waiter brought a second bottle of wine for the group (5 of us), poured for a taste, then poured the remainder of the glass into first glass. Did not serve the females first either. There are so many great food destinations in Montreal that this place should be avoided at all costs.\n",
      "Predicted sentiment: \u001b[92mnegative\u001b[0m with confidence rate: 98.756307%\n",
      "======================================================================\n",
      "The Original Lindo Michoacan...What can I say, the food is authentic Mexican, with wonderful service. Our table was cleared and ready for the next customer before we had even paid our bill during our most recent visit. The busser kept our ice tea glasses so full I ran out of Splenda trying to keep mine sweet. I may sound like I am complaining or being pissy but I really am not.\\n\\n The food here truly is good. I have never had a bad meal and the service is always spot on, but they are so focused on turning over the tables they forget that their customers might like to take longer than thirty minutes to eat dinner. The roving band of musicians can be loud and annoying but it is meant to add to the authenticity. Since I have never been to Mexico I cannot say if the locals wander around singing while people eat or not. \\n\\nI had Chicken Enchilada with Mole and my husband had the Coke-Cola Carnitas, I believe. Mine was good. But as usual, his was great. I love that Coke-Cola sauce. It is delicious. The table side guacamole is always a winner, but I prefer my chips to be lighter so while they do a great good I tend not to order it here. If you enjoy the free basket they start you off with, go for the guacamole. \\n\\nThe Original is just what it says...and there is a reason it has won so many Best of Las Vegas awards. so check it out.\n",
      "Predicted sentiment: \u001b[92mpositive\u001b[0m with confidence rate: 99.669433%\n",
      "======================================================================\n",
      "I created a Yelp account just to be able to review this place! I'd give them 0 stars if I could. Worst customer service ever. Ever! The front desk girl kept asking if people could go in front of me because she saw a weird balance on my account. Twenty minutes later she decides to help me and then someone else walks in the door and she puts them in front of me AGAIN \\\"because we have a complicated situation\\\". I cancelled my membership months ago because every time I went they couldn't find me in the computer. Which made sense when I found out the front desk girl spelled Megan, \\\"Meaghin\\\"?! I've never seen it spelled that way in 27 years! So, I handed her my photo ID after spelling the 5 letter word a dozen times and the bimbo puts it under my middle name so now I have had two accounts for the last few months and no one can figure out how to merge them or close one? So now I have an unpaid balance mysteriously today from back in May and she can see all of my notes that I have been comped tans and upgrades for my next visit  because of the frustrations I have endured and continue to come back because of the location. And then she still demands there is nothing she can do and I must pay the $10 and back dues and then activate a new account? Whaaaat!!? Yeah, I think all their brains are fried. I regret even trying to give this place a second chance just because they are walking distance from my house. From now on it looks like I will be driving for my tanning to anywhere but Celebrity Tanning!\n",
      "Predicted sentiment: \u001b[92mnegative\u001b[0m with confidence rate: 99.834116%\n",
      "======================================================================\n",
      "Took us a while but the girl finally found a good, locally owned yogurt shop. We needed one after some bad experiences with Zoyo and Orange Leaf. Always feels better supporting the local guys than the big company who could care a less about their patrons.\\n\\nAloha yogurt is a nice little place with some unique flavors. Loved the candy bar flavors like Twix! And the atmosphere was very friendly and warm. Got a good laugh out of the jumbo Mr. Potato Heads the were out on the tables.\\n\\nThe staff was very friendly. While the sample cups are not out for you to grab on your own, the staff is happy to hand you twenty of them if you ask. And one of them (I assume to Manager) was out on the floor chatting with the patrons and checking if we needed any help or sample cups.\\n\\nThere were plenty of topping to pick from and plenty of good flavors. Also, a BOGO check in deal? Heck yeah! Overall a great experience and next time I want Froyo, I know the first place I'm going!\n",
      "Predicted sentiment: \u001b[92mpositive\u001b[0m with confidence rate: 99.712211%\n",
      "======================================================================\n",
      "I came here after finding this place on yelp. I was NOT impressed.\\n\\nPrice: $65 for a basic haircut. I knew this place was going to be more than I would normally pay, but $65??? Yelp under pricing says it is $45. When I told them that they only charged me $45. But honestly, the haircut I got here is worse than haircuts I have gotten from students at the different hair schools here.\\n\\nCut: I just wanted a simple bob cut. I showed the hairdresser a picture. But apparently that was too complicated-\\n       1. If I hadn't said anything I would have walked out with the right side longer than the left. Yes, it was totally uneven and I had to ask her to fix it.\\n       2. She put all these layers in back that she did not put in the front. My hair flips outward in back, and curves in on the sides where there are less layers... Even after straightening it. It looks like crap.\\n\\nAtmosphere: This place is small and crowded. It's one large room and then a small washroom in back. The washroom is dark with incense and music. It's a little cheesy if you ask me -I came here for a quality haircut, not fake ambience \\n\\nService: My hairdresser was nice, but I felt like I was on a first date. What do you do? How long have you been here? Where are you from? Really??? I just want my hair cut! Then as she was drying my hair, she switched places with another hairdresser and had her blow dry my hair. And I had to answer the same questions allover again!\\n\\nFurthermore, all of the hairdressers that I had seen there... had terrible hair! And even the one who blew dry my hair told me that her hair looked terrible that day. If you're going to sell haircuts, you need to have an awesome one!!\n",
      "Predicted sentiment: \u001b[92mnegative\u001b[0m with confidence rate: 99.694080%\n",
      "======================================================================\n",
      "Went with a friend last night and picked Tatum's because it was walking distance from her condo and we wanted a golf course view.  Sat on the patio and it was nice.  Ordered the french onion soup - bland, and the stuffed mushrooms which were good.   For our meal we ordered the prime rib sandwhich and the philly sandwich - one with tater tots and the other with cajun fries.  We send both our dishes back TWICE because the sandwiches were cold.  It was obvious that they just tried to microwave them because the meat came back very tough and leathery:-(  The waitress had the executive chef take care of it, in which when they came back the plates were hot as well as the food.  Both meals were just ok..I have had better sandwiches at Portillo's.  Fries and tots were nothing special - pretty sure the tots are frozen ones that they just microwave - hence the amount of ketchup needed to eat them.  Waitress was very nice through all of this.  My friend works at a restaurant and I grew up in the grocery and restaurant business - were we too critical?  No, Tatum's needs to work on their menu and their cooking.  Glad we did not order the pricey entrees.\n",
      "Predicted sentiment: \u001b[92mnegative\u001b[0m with confidence rate: 98.098721%\n",
      "======================================================================\n",
      "After reading some of the previous reviews, I didn't think I need to write anymore, but why not...\\n\\nThe $10 off $20 ticket coupon lured me in. I talked my husband into going there even though the last experience wasn't the best one. So, that said, it was not that good this time either.\\n\\nFirst of all, they got rid of personal portion. So we had to choose something we both would eat. Now, my husband and I have very different taste buds. That's why we go to a restaurant!! So I don't have to make 2 different meals for the evening. Also it seems like they have raised the price when they made fancy-new-menu which had more ad by us-air or something that had nothing to do with their food... like Cheese cake factory's menu... (is that just to cover up the fact that they have no variety to choose from...?)\\n\\nWe finally decided and ordered garlic bread and seafood pasta. $9 for garlic bread and $20 for a bowl of pasta... Hmmm why do I get the feeling I'm getting ripped off?\\n\\nSo anyways... food was descent, but I don't like to be forced to get meal for 3 when I just want something for me\n",
      "Predicted sentiment: \u001b[92mnegative\u001b[0m with confidence rate: 85.374117%\n",
      "======================================================================\n",
      "Absolutely the best sushi place in Vegas!!!  Huge selection of variety of rolls and they will prepare special rolls no problem.  This is one of my favorite lunch places and always take guests whenever possible.  Mid range prices, but large size rolls and friendly service easily make up for that.\n",
      "Predicted sentiment: \u001b[92mpositive\u001b[0m with confidence rate: 99.926394%\n",
      "======================================================================\n",
      "We were craving pho and got excited to find this place nearby. As soon as we walked in we noticed the very unpleasant blue lighting inside and when we were about to be seated we noticed a very foul smell that was overwhelming and disgustingly pungent. We couldn't even make it to our table before turning around and leaving.\n",
      "Predicted sentiment: \u001b[92mnegative\u001b[0m with confidence rate: 95.320972%\n",
      "======================================================================\n",
      "We were very happy with the service, professionalism, and quality of work they've provided.  He did a fantastic job finding the root of the issue and fixing it quickly and giving us helpful tips.  My husband is very handy guy but some jobs should be left for the professionals and we were glad to get Allegiance.  Their price were fair and affordable.  We'll definitely use them again if we need to and recommend anyone who needs a plumber.\\n\\nUPDATE 6/11/14:\\nWe decided to use Allegiance's services again.  We've been getting several quotes from different plumbing companies to install a loop for a water softener for awhile now but just haven't made the decision until we met Ramesh from Allegiance.  We were amazed at the quote he gave us just for the install.  It was 3 times less than what other plumbers were charging.  They also have a water softener that cost much less than the ones the other companies were trying to sell.  Justin and Ramesh installed the loop and the water softener and they did an AMAZING job.  We are extremely happy with their work.  They are very detailed on their work and it truly shows.  They clean up and put everything back to where it is.  My husband did notice they forgot to connect a minor part back that day after they finished so he was going to fix it himself.  He checked it the next day but Allegiance had already came back to fix it on their own.  How AWESOME is that?!  Our water softener is working great and we could not be happier.  If you guys need a plumber that will get the job done right and have affordable rates, call Allegiance!  You won't be disappointed.\n",
      "Predicted sentiment: \u001b[92mpositive\u001b[0m with confidence rate: 99.603075%\n",
      "======================================================================\n"
     ]
    }
   ],
   "source": [
    "import random\n",
    "\n",
    "# Randomly select 15 index from dataset to predict\n",
    "for _ in range(15):\n",
    "    index = random.randint(0, len(df) - 1)\n",
    "    review = df['review'][index]\n",
    "    actual_sentiment = df['sentiment'][index]\n",
    "\n",
    "    print(review)\n",
    "    # print(f'Actual sentiment: {actual_sentiment}')\n",
    "\n",
    "    # Prediction with debug output\n",
    "    preds, prob = predict_text(review)\n",
    "    predicted_label_text = \"positive\" if preds == 1.0 else \"negative\"\n",
    "    prob = prob if preds == 1.0 else 1 - prob\n",
    "\n",
    "    # Color-coding output based on prediction matching actual sentiment\n",
    "    color = '\\033[92m' if actual_sentiment == predicted_label_text else '\\033[91m'\n",
    "    print(f'Predicted sentiment: {color}{predicted_label_text}\\033[0m with confidence rate: {prob*100:3f}%')\n",
    "    print('=' * 70)"
   ]
  },
  {
   "cell_type": "code",
   "execution_count": 33,
   "metadata": {
    "id": "oKPYtFXnY7JR"
   },
   "outputs": [],
   "source": [
    "def predict_custom_text(custom_text):\n",
    "    preds, prob = predict_text(custom_text)\n",
    "    label = \"positive\" if preds == 1.0 else \"negative\"\n",
    "    prob = prob if preds == 1.0 else 1 - prob\n",
    "    print(f'Predicted: {label} \\nProbability {prob*100 :.3f}%')"
   ]
  },
  {
   "cell_type": "code",
   "execution_count": 34,
   "metadata": {
    "colab": {
     "base_uri": "https://localhost:8080/"
    },
    "id": "wPhqzNtbZSGc",
    "outputId": "c6305c22-49b5-4260-8eb2-eb5512100535"
   },
   "outputs": [
    {
     "name": "stdout",
     "output_type": "stream",
     "text": [
      "Predicted: negative \n",
      "Probability 90.077%\n"
     ]
    }
   ],
   "source": [
    "# Custom Negative Text\n",
    "custom_text = \"\"\"\n",
    "I recently purchased this phone and it has been nothing but a disappointment.\n",
    "The battery drains incredibly fast, even when it's not in use.\n",
    "The screen flickers and sometimes goes completely black, forcing me to restart it.\n",
    "The camera quality is horrible, with blurry photos and grainy videos, even in good lighting.\n",
    "The device also heats up quickly when using simple apps like the browser or social media.\n",
    "I contacted customer support, but their response was slow and unhelpful.\n",
    "It's frustrating to spend so much money on a product that doesn't work as advertised. I would definitely not recommend this phone to anyone.\n",
    "\"\"\"\n",
    "predict_custom_text(custom_text)"
   ]
  },
  {
   "cell_type": "code",
   "execution_count": 35,
   "metadata": {
    "colab": {
     "base_uri": "https://localhost:8080/"
    },
    "id": "AMiIvFV7uJVB",
    "outputId": "1f72c1f1-2a0b-43e3-a754-7453cda60fca"
   },
   "outputs": [
    {
     "name": "stdout",
     "output_type": "stream",
     "text": [
      "Predicted: positive \n",
      "Probability 99.954%\n"
     ]
    }
   ],
   "source": [
    "# Custom Positive Text\n",
    "custom_text = \"\"\"\n",
    "I absolutely love this new laptop! It has exceeded all my expectations in terms of speed and performance. The processor is incredibly fast, and I can switch between multiple applications without any lag. The display is crystal clear, and the colors are vibrant, making it perfect for both work and entertainment. The keyboard feels smooth to type on, and the trackpad is highly responsive.\n",
    "The battery life is also impressive, lasting a full day with moderate use.\n",
    "I was a bit hesitant at first, but after using it for a few weeks, I can confidently say it's the best laptop I've owned in years.\n",
    "Highly recommend!\n",
    "\"\"\"\n",
    "predict_custom_text(custom_text)"
   ]
  },
  {
   "cell_type": "code",
   "execution_count": 36,
   "metadata": {
    "colab": {
     "base_uri": "https://localhost:8080/"
    },
    "id": "pe5JW86SHpBa",
    "outputId": "c3df0fa3-9902-45a4-8291-8a68c47feb34"
   },
   "outputs": [
    {
     "name": "stdout",
     "output_type": "stream",
     "text": [
      "Predicted: positive \n",
      "Probability 99.772%\n"
     ]
    }
   ],
   "source": [
    "# Custom Positive Text\n",
    "custom_text = \"\"\"\n",
    "I absolutely love this new laptop!\n",
    "\"\"\"\n",
    "predict_custom_text(custom_text)"
   ]
  },
  {
   "cell_type": "markdown",
   "metadata": {
    "id": "EL1lC2ZG6lyv"
   },
   "source": [
    "### Fail Case Scenario\n",
    "\n",
    "If text length is too small, it fails to predict the sentiment. This might be due to\n",
    "- poor quality embeddings and data\n",
    "- simple sequential model"
   ]
  },
  {
   "cell_type": "code",
   "execution_count": 37,
   "metadata": {
    "colab": {
     "base_uri": "https://localhost:8080/"
    },
    "id": "Yq_wOsLO7Hze",
    "outputId": "8c0f28d7-d814-4714-ed6a-01be2480b042"
   },
   "outputs": [
    {
     "name": "stdout",
     "output_type": "stream",
     "text": [
      "Predicted: negative \n",
      "Probability 94.959%\n"
     ]
    }
   ],
   "source": [
    "custom_text = \"\"\"\n",
    "I absolutely hated this slow laptop.\n",
    "\"\"\"\n",
    "predict_custom_text(custom_text)"
   ]
  },
  {
   "cell_type": "code",
   "execution_count": 38,
   "metadata": {
    "colab": {
     "base_uri": "https://localhost:8080/"
    },
    "id": "RJF0sZfR6kRE",
    "outputId": "b2e6380c-dc5a-4e44-b12c-c59119402fb4"
   },
   "outputs": [
    {
     "name": "stdout",
     "output_type": "stream",
     "text": [
      "Predicted: negative \n",
      "Probability 95.602%\n"
     ]
    }
   ],
   "source": [
    "custom_text = \"\"\"\n",
    "I absolutely hated this slow laptop. Never recommending to buy it.\n",
    "\"\"\"\n",
    "predict_custom_text(custom_text)"
   ]
  },
  {
   "cell_type": "code",
   "execution_count": 39,
   "metadata": {
    "colab": {
     "base_uri": "https://localhost:8080/"
    },
    "id": "qh0gKpU7QQLj",
    "outputId": "9022bbb9-e5f7-420d-df70-b0b7abe37aa7"
   },
   "outputs": [
    {
     "name": "stdout",
     "output_type": "stream",
     "text": [
      "Predicted: negative \n",
      "Probability 91.845%\n"
     ]
    }
   ],
   "source": [
    "custom_text = \"\"\"\n",
    "I absolutely hated the trash product. NEver buy it. The motherboard has some issues so donot waste money on this product.\n",
    "\"\"\"\n",
    "predict_custom_text(custom_text)"
   ]
  },
  {
   "cell_type": "code",
   "execution_count": 40,
   "metadata": {
    "colab": {
     "base_uri": "https://localhost:8080/"
    },
    "id": "iJ0EVpo-36Px",
    "outputId": "53348db6-dae9-466c-8bf8-efedca7f8df9"
   },
   "outputs": [
    {
     "name": "stdout",
     "output_type": "stream",
     "text": [
      "Predicted: positive \n",
      "Probability 92.342%\n"
     ]
    }
   ],
   "source": [
    "# Tryoing out complex sentiments example\n",
    "custom_text = \"\"\"\n",
    "Even though the laptop is slow, I have a lot of emotional attachment to it.\n",
    "So, I can't just throw away my precious laptop and i love every moment of memories with this laptop.\n",
    "\"\"\"\n",
    "predict_custom_text(custom_text)"
   ]
  }
 ],
 "metadata": {
  "accelerator": "GPU",
  "colab": {
   "gpuType": "L4",
   "machine_shape": "hm",
   "provenance": []
  },
  "kernelspec": {
   "display_name": "Python 3",
   "name": "python3"
  },
  "language_info": {
   "name": "python"
  }
 },
 "nbformat": 4,
 "nbformat_minor": 0
}
