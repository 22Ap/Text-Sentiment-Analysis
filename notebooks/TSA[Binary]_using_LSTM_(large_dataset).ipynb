{
 "cells": [
  {
   "cell_type": "markdown",
   "metadata": {
    "id": "3ydc9LwkZB5A"
   },
   "source": [
    "# Binary Text-Sentiment-Analysis using LSTM"
   ]
  },
  {
   "cell_type": "code",
   "execution_count": 1,
   "metadata": {
    "colab": {
     "base_uri": "https://localhost:8080/"
    },
    "id": "SxDBRBS_ZSK2",
    "outputId": "4c80ec65-f7de-4c1f-c150-3a1db25cbc34"
   },
   "outputs": [
    {
     "name": "stdout",
     "output_type": "stream",
     "text": [
      "\u001b[?25l     \u001b[90m━━━━━━━━━━━━━━━━━━━━━━━━━━━━━━━━━━━━━━━━\u001b[0m \u001b[32m0.0/101.5 kB\u001b[0m \u001b[31m?\u001b[0m eta \u001b[36m-:--:--\u001b[0m\r\u001b[2K     \u001b[90m━━━━━━━━━━━━━━━━━━━━━━━━━━━━━━━━━━━━━━━━\u001b[0m \u001b[32m101.5/101.5 kB\u001b[0m \u001b[31m4.9 MB/s\u001b[0m eta \u001b[36m0:00:00\u001b[0m\n",
      "\u001b[?25h  Installing build dependencies ... \u001b[?25l\u001b[?25hdone\n",
      "  Getting requirements to build wheel ... \u001b[?25l\u001b[?25hdone\n",
      "  Preparing metadata (pyproject.toml) ... \u001b[?25l\u001b[?25hdone\n",
      "\u001b[2K   \u001b[90m━━━━━━━━━━━━━━━━━━━━━━━━━━━━━━━━━━━━━━━━\u001b[0m \u001b[32m709.7/709.7 kB\u001b[0m \u001b[31m16.1 MB/s\u001b[0m eta \u001b[36m0:00:00\u001b[0m\n",
      "\u001b[2K   \u001b[90m━━━━━━━━━━━━━━━━━━━━━━━━━━━━━━━━━━━━━━━━\u001b[0m \u001b[32m926.4/926.4 kB\u001b[0m \u001b[31m42.5 MB/s\u001b[0m eta \u001b[36m0:00:00\u001b[0m\n",
      "\u001b[2K   \u001b[90m━━━━━━━━━━━━━━━━━━━━━━━━━━━━━━━━━━━━━━━━\u001b[0m \u001b[32m981.8/981.8 kB\u001b[0m \u001b[31m49.3 MB/s\u001b[0m eta \u001b[36m0:00:00\u001b[0m\n",
      "\u001b[2K   \u001b[90m━━━━━━━━━━━━━━━━━━━━━━━━━━━━━━━━━━━━━━━━\u001b[0m \u001b[32m3.3/3.3 MB\u001b[0m \u001b[31m92.6 MB/s\u001b[0m eta \u001b[36m0:00:00\u001b[0m\n",
      "\u001b[2K   \u001b[90m━━━━━━━━━━━━━━━━━━━━━━━━━━━━━━━━━━━━━━━━\u001b[0m \u001b[32m137.9/137.9 kB\u001b[0m \u001b[31m14.8 MB/s\u001b[0m eta \u001b[36m0:00:00\u001b[0m\n",
      "\u001b[?25h  Building wheel for configobj (pyproject.toml) ... \u001b[?25l\u001b[?25hdone\n"
     ]
    }
   ],
   "source": [
    "!pip install comet-ml torchmetrics triton --quiet"
   ]
  },
  {
   "cell_type": "markdown",
   "metadata": {
    "id": "s-taomIznYua"
   },
   "source": [
    "## 1. Download and Load the Dataset\n",
    "\n",
    "The following command will download combined dataset from `IMDb Movie Dataset` and `YELP Review Dataset`."
   ]
  },
  {
   "cell_type": "code",
   "execution_count": 2,
   "metadata": {
    "colab": {
     "base_uri": "https://localhost:8080/"
    },
    "id": "wrooSaLbAX4j",
    "outputId": "710a03e4-2c25-4629-d279-94ea2ea141d9"
   },
   "outputs": [
    {
     "name": "stdout",
     "output_type": "stream",
     "text": [
      "Downloading...\n",
      "From (original): https://drive.google.com/uc?id=1Jp3D5gdxGrwa5dHbr4p-pECrD8wi7vik\n",
      "From (redirected): https://drive.google.com/uc?id=1Jp3D5gdxGrwa5dHbr4p-pECrD8wi7vik&confirm=t&uuid=d01e75ea-96f4-4e1c-a9e0-8f8be141e8f6\n",
      "To: /content/sentiment_dataset_large.zip\n",
      "100% 182M/182M [00:05<00:00, 34.4MB/s]\n",
      "Archive:  sentiment_dataset_large.zip\n",
      "  inflating: sentiment_combined.csv  \n"
     ]
    }
   ],
   "source": [
    "!gdown https://drive.google.com/file/d/1Jp3D5gdxGrwa5dHbr4p-pECrD8wi7vik/view?usp=drive_link --fuzzy\n",
    "!unzip sentiment_dataset_large.zip"
   ]
  },
  {
   "cell_type": "code",
   "execution_count": 1,
   "metadata": {
    "colab": {
     "base_uri": "https://localhost:8080/",
     "height": 206
    },
    "id": "PHvIkDPkkoc2",
    "outputId": "b713d5e8-69c0-492c-e199-006dbe54350d"
   },
   "outputs": [
    {
     "data": {
      "application/vnd.google.colaboratory.intrinsic+json": {
       "type": "dataframe",
       "variable_name": "df"
      },
      "text/html": [
       "\n",
       "  <div id=\"df-197b0eb4-4686-4875-bd1f-e85d2b383acb\" class=\"colab-df-container\">\n",
       "    <div>\n",
       "<style scoped>\n",
       "    .dataframe tbody tr th:only-of-type {\n",
       "        vertical-align: middle;\n",
       "    }\n",
       "\n",
       "    .dataframe tbody tr th {\n",
       "        vertical-align: top;\n",
       "    }\n",
       "\n",
       "    .dataframe thead th {\n",
       "        text-align: right;\n",
       "    }\n",
       "</style>\n",
       "<table border=\"1\" class=\"dataframe\">\n",
       "  <thead>\n",
       "    <tr style=\"text-align: right;\">\n",
       "      <th></th>\n",
       "      <th>review</th>\n",
       "      <th>sentiment</th>\n",
       "    </tr>\n",
       "  </thead>\n",
       "  <tbody>\n",
       "    <tr>\n",
       "      <th>0</th>\n",
       "      <td>One of the other reviewers has mentioned that ...</td>\n",
       "      <td>positive</td>\n",
       "    </tr>\n",
       "    <tr>\n",
       "      <th>1</th>\n",
       "      <td>A wonderful little production. &lt;br /&gt;&lt;br /&gt;The...</td>\n",
       "      <td>positive</td>\n",
       "    </tr>\n",
       "    <tr>\n",
       "      <th>2</th>\n",
       "      <td>I thought this was a wonderful way to spend ti...</td>\n",
       "      <td>positive</td>\n",
       "    </tr>\n",
       "    <tr>\n",
       "      <th>3</th>\n",
       "      <td>Basically there's a family where a little boy ...</td>\n",
       "      <td>negative</td>\n",
       "    </tr>\n",
       "    <tr>\n",
       "      <th>4</th>\n",
       "      <td>Petter Mattei's \"Love in the Time of Money\" is...</td>\n",
       "      <td>positive</td>\n",
       "    </tr>\n",
       "  </tbody>\n",
       "</table>\n",
       "</div>\n",
       "    <div class=\"colab-df-buttons\">\n",
       "\n",
       "  <div class=\"colab-df-container\">\n",
       "    <button class=\"colab-df-convert\" onclick=\"convertToInteractive('df-197b0eb4-4686-4875-bd1f-e85d2b383acb')\"\n",
       "            title=\"Convert this dataframe to an interactive table.\"\n",
       "            style=\"display:none;\">\n",
       "\n",
       "  <svg xmlns=\"http://www.w3.org/2000/svg\" height=\"24px\" viewBox=\"0 -960 960 960\">\n",
       "    <path d=\"M120-120v-720h720v720H120Zm60-500h600v-160H180v160Zm220 220h160v-160H400v160Zm0 220h160v-160H400v160ZM180-400h160v-160H180v160Zm440 0h160v-160H620v160ZM180-180h160v-160H180v160Zm440 0h160v-160H620v160Z\"/>\n",
       "  </svg>\n",
       "    </button>\n",
       "\n",
       "  <style>\n",
       "    .colab-df-container {\n",
       "      display:flex;\n",
       "      gap: 12px;\n",
       "    }\n",
       "\n",
       "    .colab-df-convert {\n",
       "      background-color: #E8F0FE;\n",
       "      border: none;\n",
       "      border-radius: 50%;\n",
       "      cursor: pointer;\n",
       "      display: none;\n",
       "      fill: #1967D2;\n",
       "      height: 32px;\n",
       "      padding: 0 0 0 0;\n",
       "      width: 32px;\n",
       "    }\n",
       "\n",
       "    .colab-df-convert:hover {\n",
       "      background-color: #E2EBFA;\n",
       "      box-shadow: 0px 1px 2px rgba(60, 64, 67, 0.3), 0px 1px 3px 1px rgba(60, 64, 67, 0.15);\n",
       "      fill: #174EA6;\n",
       "    }\n",
       "\n",
       "    .colab-df-buttons div {\n",
       "      margin-bottom: 4px;\n",
       "    }\n",
       "\n",
       "    [theme=dark] .colab-df-convert {\n",
       "      background-color: #3B4455;\n",
       "      fill: #D2E3FC;\n",
       "    }\n",
       "\n",
       "    [theme=dark] .colab-df-convert:hover {\n",
       "      background-color: #434B5C;\n",
       "      box-shadow: 0px 1px 3px 1px rgba(0, 0, 0, 0.15);\n",
       "      filter: drop-shadow(0px 1px 2px rgba(0, 0, 0, 0.3));\n",
       "      fill: #FFFFFF;\n",
       "    }\n",
       "  </style>\n",
       "\n",
       "    <script>\n",
       "      const buttonEl =\n",
       "        document.querySelector('#df-197b0eb4-4686-4875-bd1f-e85d2b383acb button.colab-df-convert');\n",
       "      buttonEl.style.display =\n",
       "        google.colab.kernel.accessAllowed ? 'block' : 'none';\n",
       "\n",
       "      async function convertToInteractive(key) {\n",
       "        const element = document.querySelector('#df-197b0eb4-4686-4875-bd1f-e85d2b383acb');\n",
       "        const dataTable =\n",
       "          await google.colab.kernel.invokeFunction('convertToInteractive',\n",
       "                                                    [key], {});\n",
       "        if (!dataTable) return;\n",
       "\n",
       "        const docLinkHtml = 'Like what you see? Visit the ' +\n",
       "          '<a target=\"_blank\" href=https://colab.research.google.com/notebooks/data_table.ipynb>data table notebook</a>'\n",
       "          + ' to learn more about interactive tables.';\n",
       "        element.innerHTML = '';\n",
       "        dataTable['output_type'] = 'display_data';\n",
       "        await google.colab.output.renderOutput(dataTable, element);\n",
       "        const docLink = document.createElement('div');\n",
       "        docLink.innerHTML = docLinkHtml;\n",
       "        element.appendChild(docLink);\n",
       "      }\n",
       "    </script>\n",
       "  </div>\n",
       "\n",
       "\n",
       "<div id=\"df-95f0dd4e-f10e-4645-8adf-9209f52a4e67\">\n",
       "  <button class=\"colab-df-quickchart\" onclick=\"quickchart('df-95f0dd4e-f10e-4645-8adf-9209f52a4e67')\"\n",
       "            title=\"Suggest charts\"\n",
       "            style=\"display:none;\">\n",
       "\n",
       "<svg xmlns=\"http://www.w3.org/2000/svg\" height=\"24px\"viewBox=\"0 0 24 24\"\n",
       "     width=\"24px\">\n",
       "    <g>\n",
       "        <path d=\"M19 3H5c-1.1 0-2 .9-2 2v14c0 1.1.9 2 2 2h14c1.1 0 2-.9 2-2V5c0-1.1-.9-2-2-2zM9 17H7v-7h2v7zm4 0h-2V7h2v10zm4 0h-2v-4h2v4z\"/>\n",
       "    </g>\n",
       "</svg>\n",
       "  </button>\n",
       "\n",
       "<style>\n",
       "  .colab-df-quickchart {\n",
       "      --bg-color: #E8F0FE;\n",
       "      --fill-color: #1967D2;\n",
       "      --hover-bg-color: #E2EBFA;\n",
       "      --hover-fill-color: #174EA6;\n",
       "      --disabled-fill-color: #AAA;\n",
       "      --disabled-bg-color: #DDD;\n",
       "  }\n",
       "\n",
       "  [theme=dark] .colab-df-quickchart {\n",
       "      --bg-color: #3B4455;\n",
       "      --fill-color: #D2E3FC;\n",
       "      --hover-bg-color: #434B5C;\n",
       "      --hover-fill-color: #FFFFFF;\n",
       "      --disabled-bg-color: #3B4455;\n",
       "      --disabled-fill-color: #666;\n",
       "  }\n",
       "\n",
       "  .colab-df-quickchart {\n",
       "    background-color: var(--bg-color);\n",
       "    border: none;\n",
       "    border-radius: 50%;\n",
       "    cursor: pointer;\n",
       "    display: none;\n",
       "    fill: var(--fill-color);\n",
       "    height: 32px;\n",
       "    padding: 0;\n",
       "    width: 32px;\n",
       "  }\n",
       "\n",
       "  .colab-df-quickchart:hover {\n",
       "    background-color: var(--hover-bg-color);\n",
       "    box-shadow: 0 1px 2px rgba(60, 64, 67, 0.3), 0 1px 3px 1px rgba(60, 64, 67, 0.15);\n",
       "    fill: var(--button-hover-fill-color);\n",
       "  }\n",
       "\n",
       "  .colab-df-quickchart-complete:disabled,\n",
       "  .colab-df-quickchart-complete:disabled:hover {\n",
       "    background-color: var(--disabled-bg-color);\n",
       "    fill: var(--disabled-fill-color);\n",
       "    box-shadow: none;\n",
       "  }\n",
       "\n",
       "  .colab-df-spinner {\n",
       "    border: 2px solid var(--fill-color);\n",
       "    border-color: transparent;\n",
       "    border-bottom-color: var(--fill-color);\n",
       "    animation:\n",
       "      spin 1s steps(1) infinite;\n",
       "  }\n",
       "\n",
       "  @keyframes spin {\n",
       "    0% {\n",
       "      border-color: transparent;\n",
       "      border-bottom-color: var(--fill-color);\n",
       "      border-left-color: var(--fill-color);\n",
       "    }\n",
       "    20% {\n",
       "      border-color: transparent;\n",
       "      border-left-color: var(--fill-color);\n",
       "      border-top-color: var(--fill-color);\n",
       "    }\n",
       "    30% {\n",
       "      border-color: transparent;\n",
       "      border-left-color: var(--fill-color);\n",
       "      border-top-color: var(--fill-color);\n",
       "      border-right-color: var(--fill-color);\n",
       "    }\n",
       "    40% {\n",
       "      border-color: transparent;\n",
       "      border-right-color: var(--fill-color);\n",
       "      border-top-color: var(--fill-color);\n",
       "    }\n",
       "    60% {\n",
       "      border-color: transparent;\n",
       "      border-right-color: var(--fill-color);\n",
       "    }\n",
       "    80% {\n",
       "      border-color: transparent;\n",
       "      border-right-color: var(--fill-color);\n",
       "      border-bottom-color: var(--fill-color);\n",
       "    }\n",
       "    90% {\n",
       "      border-color: transparent;\n",
       "      border-bottom-color: var(--fill-color);\n",
       "    }\n",
       "  }\n",
       "</style>\n",
       "\n",
       "  <script>\n",
       "    async function quickchart(key) {\n",
       "      const quickchartButtonEl =\n",
       "        document.querySelector('#' + key + ' button');\n",
       "      quickchartButtonEl.disabled = true;  // To prevent multiple clicks.\n",
       "      quickchartButtonEl.classList.add('colab-df-spinner');\n",
       "      try {\n",
       "        const charts = await google.colab.kernel.invokeFunction(\n",
       "            'suggestCharts', [key], {});\n",
       "      } catch (error) {\n",
       "        console.error('Error during call to suggestCharts:', error);\n",
       "      }\n",
       "      quickchartButtonEl.classList.remove('colab-df-spinner');\n",
       "      quickchartButtonEl.classList.add('colab-df-quickchart-complete');\n",
       "    }\n",
       "    (() => {\n",
       "      let quickchartButtonEl =\n",
       "        document.querySelector('#df-95f0dd4e-f10e-4645-8adf-9209f52a4e67 button');\n",
       "      quickchartButtonEl.style.display =\n",
       "        google.colab.kernel.accessAllowed ? 'block' : 'none';\n",
       "    })();\n",
       "  </script>\n",
       "</div>\n",
       "\n",
       "    </div>\n",
       "  </div>\n"
      ],
      "text/plain": [
       "                                              review sentiment\n",
       "0  One of the other reviewers has mentioned that ...  positive\n",
       "1  A wonderful little production. <br /><br />The...  positive\n",
       "2  I thought this was a wonderful way to spend ti...  positive\n",
       "3  Basically there's a family where a little boy ...  negative\n",
       "4  Petter Mattei's \"Love in the Time of Money\" is...  positive"
      ]
     },
     "execution_count": 1,
     "metadata": {},
     "output_type": "execute_result"
    }
   ],
   "source": [
    "import pandas as pd\n",
    "import numpy as np\n",
    "\n",
    "df = pd.read_csv(\"sentiment_combined.csv\")\n",
    "df.head(5)"
   ]
  },
  {
   "cell_type": "code",
   "execution_count": 2,
   "metadata": {
    "colab": {
     "base_uri": "https://localhost:8080/"
    },
    "id": "0z7p4xeZDiDF",
    "outputId": "707cc1a3-f5d1-4b41-de7e-6f11590e1fa7"
   },
   "outputs": [
    {
     "name": "stdout",
     "output_type": "stream",
     "text": [
      "<class 'pandas.core.frame.DataFrame'>\n",
      "RangeIndex: 610000 entries, 0 to 609999\n",
      "Data columns (total 2 columns):\n",
      " #   Column     Non-Null Count   Dtype \n",
      "---  ------     --------------   ----- \n",
      " 0   review     610000 non-null  object\n",
      " 1   sentiment  610000 non-null  object\n",
      "dtypes: object(2)\n",
      "memory usage: 9.3+ MB\n"
     ]
    }
   ],
   "source": [
    "df.info()"
   ]
  },
  {
   "cell_type": "markdown",
   "metadata": {
    "id": "00gmM1X-nbwW"
   },
   "source": [
    "## 2. Data Analysis"
   ]
  },
  {
   "cell_type": "code",
   "execution_count": 3,
   "metadata": {
    "colab": {
     "base_uri": "https://localhost:8080/",
     "height": 465
    },
    "id": "_PxnoXPknrMg",
    "outputId": "a3b9474d-d635-4217-a6e7-e74049a58c2a"
   },
   "outputs": [
    {
     "name": "stdout",
     "output_type": "stream",
     "text": [
      "train data shape: (518500,)\n",
      "test data shape: (91500,)\n"
     ]
    },
    {
     "data": {
      "image/png": "[encoded data removed]",
      "text/plain": [
       "<Figure size 640x480 with 1 Axes>"
      ]
     },
     "metadata": {},
     "output_type": "display_data"
    }
   ],
   "source": [
    "import matplotlib.pyplot as plt\n",
    "import seaborn as sns\n",
    "from sklearn.model_selection import train_test_split\n",
    "\n",
    "X, y = df['review'].values,df['sentiment'].values\n",
    "X_train, X_test, y_train, y_test = train_test_split(X,\n",
    "                                                    y,\n",
    "                                                    test_size = 0.15,\n",
    "                                                    random_state = 42)\n",
    "print(f'train data shape: {X_train.shape}')\n",
    "print(f'test data shape: {X_test.shape}')\n",
    "\n",
    "\n",
    "val = pd.Series(y_train).value_counts()\n",
    "sns.barplot(x = np.array(['negative','positive']),\n",
    "            y = val.values)\n",
    "plt.show()"
   ]
  },
  {
   "cell_type": "markdown",
   "metadata": {
    "id": "I0aQLjLNoh58"
   },
   "source": [
    "## 3. Text Pre-Processing\n",
    "- Cleaning up the text data by removing punctuation, extra spaces, and numbers.\n",
    "- Transform sentences into individual words, remove common words (known as \"stop words\") and then lemmatize remaining words for its repsective root words.\n",
    "- Keeping track of the 1000 most frequently used words in the dataset\n",
    "- Assigning tracked words a unique identifier, forming dictionary for one-hot encoding\n",
    "- Ensuring all sequences have the same length by padding or truncating them as needed by 1000+1 tokens. (+1 for padding)"
   ]
  },
  {
   "cell_type": "code",
   "execution_count": 4,
   "metadata": {
    "colab": {
     "base_uri": "https://localhost:8080/"
    },
    "id": "HTeEZdMSpBeq",
    "outputId": "5f4ea0d1-e4e9-4b15-955c-95dbc68924c6"
   },
   "outputs": [
    {
     "name": "stderr",
     "output_type": "stream",
     "text": [
      "[nltk_data] Downloading package stopwords to /root/nltk_data...\n",
      "[nltk_data]   Package stopwords is already up-to-date!\n",
      "[nltk_data] Downloading package wordnet to /root/nltk_data...\n",
      "[nltk_data]   Package wordnet is already up-to-date!\n"
     ]
    },
    {
     "data": {
      "text/plain": [
       "True"
      ]
     },
     "execution_count": 4,
     "metadata": {},
     "output_type": "execute_result"
    }
   ],
   "source": [
    "import re\n",
    "import nltk\n",
    "from collections import Counter\n",
    "from tqdm import tqdm\n",
    "from nltk.corpus import stopwords\n",
    "from nltk.stem import WordNetLemmatizer\n",
    "\n",
    "nltk.download('stopwords')\n",
    "nltk.download('wordnet')"
   ]
  },
  {
   "cell_type": "code",
   "execution_count": 5,
   "metadata": {
    "id": "huj_ZpwyoM_F"
   },
   "outputs": [],
   "source": [
    "# Precompile regular expressions for faster preprocessing\n",
    "non_word_chars_pattern = re.compile(r\"[^\\w\\s]\")\n",
    "whitespace_pattern = re.compile(r\"\\s+\")\n",
    "url_pattern = re.compile(r'http\\S+|www\\S+')\n",
    "username_pattern = re.compile(r\"@([^\\s]+)\")\n",
    "hashtags_pattern = re.compile(r\"#\\d+\")\n",
    "br_pattern = re.compile(r'<br\\s*/?>\\s*<br\\s*/?>')\n",
    "\n",
    "# Load stopwords once\n",
    "stop_words = set(stopwords.words(\"english\"))\n",
    "lemmatizer = WordNetLemmatizer()\n",
    "\n",
    "\n",
    "def preprocess_string(s):\n",
    "    # Lowercase text\n",
    "    s = s.lower()\n",
    "    # Remove URLs\n",
    "    s = url_pattern.sub('', s)\n",
    "    # Remove usernames and hashtags\n",
    "    s = username_pattern.sub('', s)\n",
    "    s = hashtags_pattern.sub('', s)\n",
    "    # Remove <br /> HTML tags\n",
    "    s = br_pattern.sub('', s)\n",
    "    # Remove non-word characters (preserving letters and numbers only)\n",
    "    s = non_word_chars_pattern.sub(' ', s)\n",
    "    # Replace multiple spaces with a single space\n",
    "    s = whitespace_pattern.sub(' ', s)\n",
    "\n",
    "    # Tokenize, remove stopwords, and lemmatize\n",
    "    tokens = s.split()\n",
    "    filtered_tokens = [\n",
    "        lemmatizer.lemmatize(word) for word in tokens if word not in stop_words\n",
    "    ]\n",
    "    return ' '.join(filtered_tokens)"
   ]
  },
  {
   "cell_type": "code",
   "execution_count": 6,
   "metadata": {
    "id": "FzaCKiCFvafI"
   },
   "outputs": [],
   "source": [
    "def tokenize(X_train, y_train, X_val, y_val, seq_len):\n",
    "    word_list = []\n",
    "\n",
    "    for sent in tqdm(X_train, desc=\"Preprocessing train data\"):\n",
    "        words = [preprocess_string(word) for word in sent.lower().split()]\n",
    "        word_list.extend([word for word in words if word not in stop_words and word != ''])\n",
    "\n",
    "    corpus = Counter(word_list)\n",
    "    # Sorting on the basis of most common words\n",
    "    corpus_ = sorted(corpus, key=corpus.get, reverse=True)[:seq_len]\n",
    "    # Creating a dictionary\n",
    "    onehot_dict = {w: i + 1 for i, w in enumerate(corpus_)}\n",
    "\n",
    "    # Tokenize and pad sequences\n",
    "    final_list_train = [[onehot_dict.get(preprocess_string(word), 0) for word in sent.lower().split() if preprocess_string(word) in onehot_dict]\n",
    "                        for sent in tqdm(X_train, desc=\"Tokenizing and padding train data\")]\n",
    "    final_list_train = [padded_tokens[-seq_len:] if len(padded_tokens) > seq_len else [0] * (seq_len - len(padded_tokens)) + padded_tokens\n",
    "                        for padded_tokens in final_list_train]\n",
    "\n",
    "    final_list_test = [[onehot_dict.get(preprocess_string(word), 0) for word in sent.lower().split() if preprocess_string(word) in onehot_dict]\n",
    "                       for sent in tqdm(X_val, desc=\"Tokenizing and padding validation data\")]\n",
    "    final_list_test = [padded_tokens[-seq_len:] if len(padded_tokens) > seq_len\n",
    "                       else [0] * (seq_len - len(padded_tokens)) + padded_tokens\n",
    "                       for padded_tokens in final_list_test]\n",
    "\n",
    "    encoded_train = np.array([1 if label == 'positive' else 0 for label in y_train])\n",
    "    encoded_test = np.array([1 if label == 'positive' else 0 for label in y_val])\n",
    "\n",
    "    return np.array(final_list_train), encoded_train, np.array(final_list_test), encoded_test, onehot_dict"
   ]
  },
  {
   "cell_type": "code",
   "execution_count": 7,
   "metadata": {
    "colab": {
     "base_uri": "https://localhost:8080/"
    },
    "id": "w9_A_w57pj4Y",
    "outputId": "bf62d351-8c25-4743-f0e6-835202808bb8"
   },
   "outputs": [
    {
     "name": "stderr",
     "output_type": "stream",
     "text": [
      "Preprocessing train data: 100%|██████████| 518500/518500 [05:49<00:00, 1484.98it/s]\n",
      "Tokenizing and padding train data: 100%|██████████| 518500/518500 [08:17<00:00, 1043.11it/s]\n",
      "Tokenizing and padding validation data: 100%|██████████| 91500/91500 [01:27<00:00, 1050.87it/s]\n"
     ]
    },
    {
     "data": {
      "text/plain": [
       "(518500, 91500)"
      ]
     },
     "execution_count": 7,
     "metadata": {},
     "output_type": "execute_result"
    }
   ],
   "source": [
    "seq_len = 1000\n",
    "X_train, y_train, X_test, y_test, vocab = tokenize(X_train,\n",
    "                                                   y_train,\n",
    "                                                   X_test,\n",
    "                                                   y_test,\n",
    "                                                   seq_len)\n",
    "\n",
    "len(X_train), len(X_test)"
   ]
  },
  {
   "cell_type": "code",
   "execution_count": 8,
   "metadata": {
    "id": "WZeDPGm0LOTe"
   },
   "outputs": [],
   "source": [
    "import pickle\n",
    "\n",
    "# Save the corpus dictionary\n",
    "with open(\"vocab.pkl\", 'wb') as f:\n",
    "    pickle.dump(vocab, f)"
   ]
  },
  {
   "cell_type": "code",
   "execution_count": 9,
   "metadata": {
    "colab": {
     "base_uri": "https://localhost:8080/"
    },
    "id": "J61TtmqcuVTc",
    "outputId": "51665655-f6db-451a-8cab-90bab8162f4e"
   },
   "outputs": [
    {
     "data": {
      "text/plain": [
       "(array([[  0,   0,   0, ...,  20,  91,   1],\n",
       "        [  0,   0,   0, ..., 661, 676,  42],\n",
       "        [  0,   0,   0, ...,  43, 299, 990],\n",
       "        ...,\n",
       "        [  0,   0,   0, ...,   3,  95, 629],\n",
       "        [  0,   0,   0, ..., 216,   3, 309],\n",
       "        [  0,   0,   0, ...,  19, 106, 105]]),\n",
       " array([0, 1, 0, ..., 1, 1, 0]))"
      ]
     },
     "execution_count": 9,
     "metadata": {},
     "output_type": "execute_result"
    }
   ],
   "source": [
    "X_train, y_train"
   ]
  },
  {
   "cell_type": "markdown",
   "metadata": {
    "id": "r_XIMBMRwZWN"
   },
   "source": [
    "## 4. Preparing the data using DataLoader"
   ]
  },
  {
   "cell_type": "code",
   "execution_count": 11,
   "metadata": {
    "id": "tudpNZvOwq07"
   },
   "outputs": [],
   "source": [
    "import torch\n",
    "from torch.utils.data import TensorDataset, DataLoader"
   ]
  },
  {
   "cell_type": "code",
   "execution_count": 12,
   "metadata": {
    "colab": {
     "base_uri": "https://localhost:8080/"
    },
    "id": "2T5g7K3Iub9F",
    "outputId": "011b9469-ec21-4b7a-c079-af10f743e326"
   },
   "outputs": [
    {
     "data": {
      "text/plain": [
       "(1013, 179)"
      ]
     },
     "execution_count": 12,
     "metadata": {},
     "output_type": "execute_result"
    }
   ],
   "source": [
    "# Create Tensor datasets\n",
    "train_data = TensorDataset(torch.from_numpy(X_train),\n",
    "                           torch.from_numpy(y_train))\n",
    "valid_data = TensorDataset(torch.from_numpy(X_test),\n",
    "                           torch.from_numpy(y_test))\n",
    "\n",
    "BATCH_SIZE = 512\n",
    "\n",
    "# Create train and valid dataloader\n",
    "train_dataloader = DataLoader(train_data,\n",
    "                              shuffle=True,\n",
    "                              batch_size=BATCH_SIZE)\n",
    "valid_dataloader = DataLoader(valid_data,\n",
    "                              shuffle=False,\n",
    "                              batch_size=BATCH_SIZE)\n",
    "\n",
    "len(train_dataloader), len(valid_dataloader)"
   ]
  },
  {
   "cell_type": "code",
   "execution_count": 13,
   "metadata": {
    "colab": {
     "base_uri": "https://localhost:8080/"
    },
    "id": "L5rE9aJsxfbg",
    "outputId": "135b6f64-c625-492e-8c91-2334461e77c3"
   },
   "outputs": [
    {
     "name": "stdout",
     "output_type": "stream",
     "text": [
      "Sample input size: torch.Size([512, 1000])\n",
      "Sample input: tensor([[  0,   0,   0,  ..., 435,  84, 197],\n",
      "        [  0,   0,   0,  ..., 482, 437,   1],\n",
      "        [  0,   0,   0,  ...,  10, 108,  42],\n",
      "        ...,\n",
      "        [  0,   0,   0,  ...,   1,  10,  12],\n",
      "        [  0,   0,   0,  ...,  28,   5, 100],\n",
      "        [  0,   0,   0,  ...,   0,   0, 557]])\n",
      "Sample output: tensor([0, 1, 1, 0, 0, 1, 0, 1, 1, 1, 1, 1, 1, 1, 1, 0, 1, 0, 0, 1, 1, 0, 0, 0,\n",
      "        1, 0, 0, 0, 1, 0, 0, 1, 1, 0, 0, 1, 1, 1, 0, 1, 1, 1, 1, 1, 0, 1, 0, 0,\n",
      "        1, 1, 0, 1, 1, 0, 0, 0, 1, 1, 1, 0, 0, 0, 1, 0, 1, 1, 1, 1, 1, 0, 1, 1,\n",
      "        0, 1, 1, 1, 0, 1, 0, 1, 0, 1, 1, 0, 1, 0, 0, 0, 0, 0, 1, 1, 0, 1, 1, 1,\n",
      "        1, 1, 1, 0, 0, 1, 1, 0, 0, 1, 0, 1, 0, 1, 0, 0, 1, 0, 1, 0, 0, 1, 0, 0,\n",
      "        1, 0, 0, 1, 0, 1, 1, 0, 1, 0, 1, 1, 1, 1, 0, 0, 1, 0, 0, 0, 0, 1, 0, 0,\n",
      "        1, 0, 1, 1, 0, 1, 0, 1, 0, 0, 1, 0, 1, 1, 0, 1, 1, 1, 1, 0, 1, 0, 0, 0,\n",
      "        1, 0, 1, 1, 1, 0, 1, 0, 1, 1, 0, 1, 1, 1, 1, 0, 0, 0, 1, 1, 1, 1, 0, 0,\n",
      "        1, 1, 1, 1, 1, 0, 0, 0, 0, 0, 0, 1, 0, 1, 0, 0, 1, 1, 0, 0, 0, 1, 0, 1,\n",
      "        1, 1, 0, 0, 0, 0, 0, 0, 1, 1, 0, 0, 1, 0, 0, 1, 0, 1, 1, 0, 1, 0, 1, 1,\n",
      "        1, 0, 1, 0, 1, 0, 0, 1, 0, 0, 1, 0, 1, 1, 0, 0, 0, 1, 0, 1, 0, 0, 1, 1,\n",
      "        0, 1, 1, 0, 1, 0, 0, 0, 1, 0, 0, 0, 0, 1, 1, 1, 0, 0, 0, 1, 0, 1, 1, 0,\n",
      "        1, 0, 1, 1, 0, 1, 0, 0, 1, 0, 0, 0, 0, 0, 1, 1, 1, 0, 0, 1, 1, 0, 0, 0,\n",
      "        1, 0, 0, 0, 0, 1, 0, 0, 0, 0, 0, 0, 0, 1, 0, 1, 0, 0, 1, 1, 1, 1, 1, 1,\n",
      "        0, 0, 0, 0, 0, 0, 1, 1, 0, 0, 0, 1, 1, 0, 0, 1, 1, 0, 0, 0, 1, 1, 1, 0,\n",
      "        0, 1, 0, 1, 1, 1, 1, 0, 1, 0, 0, 1, 0, 1, 0, 1, 0, 0, 1, 0, 0, 1, 1, 0,\n",
      "        1, 0, 1, 0, 0, 1, 0, 0, 0, 0, 1, 1, 0, 1, 1, 1, 0, 1, 1, 0, 0, 0, 0, 1,\n",
      "        0, 0, 1, 1, 0, 0, 1, 1, 0, 0, 0, 1, 0, 1, 0, 1, 0, 0, 1, 1, 1, 0, 1, 1,\n",
      "        0, 1, 0, 1, 0, 1, 0, 0, 0, 0, 0, 0, 1, 0, 0, 1, 1, 1, 0, 0, 0, 1, 1, 0,\n",
      "        1, 0, 0, 1, 0, 0, 0, 0, 1, 1, 0, 1, 1, 1, 1, 1, 0, 1, 1, 0, 0, 1, 0, 0,\n",
      "        0, 0, 1, 0, 1, 1, 0, 0, 1, 1, 1, 1, 1, 0, 1, 0, 0, 1, 1, 0, 0, 0, 0, 0,\n",
      "        0, 0, 1, 0, 0, 1, 0, 0])\n"
     ]
    }
   ],
   "source": [
    "# Sampling one bacth from train_dataloader\n",
    "sample_data = iter(train_dataloader)\n",
    "sample_x, sample_y = next(sample_data)\n",
    "\n",
    "print('Sample input size:', sample_x.size())     # batch_size, seq_length\n",
    "print('Sample input:', sample_x)\n",
    "print('Sample output:', sample_y)"
   ]
  },
  {
   "cell_type": "markdown",
   "metadata": {
    "id": "XfhrHm3tx9wA"
   },
   "source": [
    "## 5. Building a LSTM Model"
   ]
  },
  {
   "cell_type": "code",
   "execution_count": 14,
   "metadata": {
    "colab": {
     "base_uri": "https://localhost:8080/"
    },
    "id": "FCdSBQfeyNQs",
    "outputId": "8d9b783b-4f5e-4390-f0b1-d9cbf5665498"
   },
   "outputs": [
    {
     "name": "stdout",
     "output_type": "stream",
     "text": [
      "cuda\n"
     ]
    }
   ],
   "source": [
    "import torch.nn as nn\n",
    "import torch.nn.functional as F\n",
    "from torch.nn.utils import clip_grad_norm_\n",
    "\n",
    "# Setting device agnostic code\n",
    "device = 'cuda' if torch.cuda.is_available() else 'cpu'\n",
    "print(device)"
   ]
  },
  {
   "cell_type": "code",
   "execution_count": 15,
   "metadata": {
    "id": "qiVWvh3faHaq"
   },
   "outputs": [],
   "source": [
    "class AdditiveAttention(nn.Module):\n",
    "    def __init__(self, query_dim, key_dim, hidden_dim):\n",
    "        super(AdditiveAttention, self).__init__()\n",
    "        self.query_layer = nn.Linear(query_dim, hidden_dim)\n",
    "        self.key_layer = nn.Linear(key_dim, hidden_dim)\n",
    "        self.energy_layer = nn.Linear(hidden_dim, 1)\n",
    "\n",
    "    def forward(self, query, keys, values):\n",
    "        query = self.query_layer(query).unsqueeze(1)\n",
    "        keys = self.key_layer(keys)\n",
    "\n",
    "        # Compute energy scores\n",
    "        energy = torch.tanh(query + keys)\n",
    "        attention_scores = self.energy_layer(energy).squeeze(-1)\n",
    "        attention_weights = F.softmax(attention_scores, dim=-1)\n",
    "\n",
    "        # Compute context vector\n",
    "        context = torch.bmm(attention_weights.unsqueeze(1), values).squeeze(1)\n",
    "\n",
    "        return context, attention_weights"
   ]
  },
  {
   "cell_type": "code",
   "execution_count": 16,
   "metadata": {
    "id": "UAHIy-TMxzOJ"
   },
   "outputs": [],
   "source": [
    "class LSTMModel(nn.Module):\n",
    "    def __init__(self, input_dim, embedding_dim, hidden_dim, output_dim=1, num_layers=1, bidirectional=False, dropout=0.2):\n",
    "        super(LSTMModel, self).__init__()\n",
    "        self.hidden_dim = hidden_dim\n",
    "        self.num_layers = num_layers\n",
    "        self.bidirectional = bidirectional\n",
    "\n",
    "        # Embedding layer\n",
    "        self.embedding = nn.Embedding(input_dim, embedding_dim)\n",
    "\n",
    "        # LSTM layer\n",
    "        self.lstm = nn.LSTM(embedding_dim,\n",
    "                            hidden_dim,\n",
    "                            num_layers,\n",
    "                            bidirectional=bidirectional,\n",
    "                            batch_first=True,\n",
    "                            dropout=dropout)\n",
    "\n",
    "        # Attention layer\n",
    "        attention_dim = hidden_dim * 2 if bidirectional else hidden_dim\n",
    "        self.attention = AdditiveAttention(query_dim=attention_dim,\n",
    "                                           key_dim=attention_dim,\n",
    "                                           hidden_dim=hidden_dim)\n",
    "\n",
    "        # Output layer\n",
    "        self.fc = nn.Linear(attention_dim, output_dim)\n",
    "        self.sigmoid = nn.Sigmoid()\n",
    "\n",
    "    def forward(self, x):\n",
    "        # Pass input through embedding layer\n",
    "        x = self.embedding(x)\n",
    "\n",
    "        # Pass through LSTM layer\n",
    "        lstm_out, (hn, _) = self.lstm(x)  # lstm_out: (batch_size, seq_len, hidden_dim * num_directions)\n",
    "\n",
    "        # Set query as the last hidden state of the LSTM\n",
    "        if self.bidirectional:\n",
    "            # Concatenate the last states of the two directions\n",
    "            query = torch.cat((hn[-2], hn[-1]), dim=1)\n",
    "        else:\n",
    "            # Use the last hidden state for unidirectional LSTM\n",
    "            query = hn[-1]\n",
    "\n",
    "        # Compute attention\n",
    "        context, attention_weights = self.attention(query, lstm_out, lstm_out)\n",
    "\n",
    "        # Output layer with sigmoid activation\n",
    "        out = self.fc(context)\n",
    "        out = self.sigmoid(out).squeeze(1)\n",
    "        return out, attention_weights"
   ]
  },
  {
   "cell_type": "code",
   "execution_count": 17,
   "metadata": {
    "colab": {
     "base_uri": "https://localhost:8080/"
    },
    "id": "ImnTLXQY0K_A",
    "outputId": "2be21937-43bf-4891-8af8-7438a8b328bf"
   },
   "outputs": [
    {
     "data": {
      "text/plain": [
       "OptimizedModule(\n",
       "  (_orig_mod): LSTMModel(\n",
       "    (embedding): Embedding(1001, 64)\n",
       "    (lstm): LSTM(64, 256, num_layers=2, batch_first=True, dropout=0.2)\n",
       "    (attention): AdditiveAttention(\n",
       "      (query_layer): Linear(in_features=256, out_features=256, bias=True)\n",
       "      (key_layer): Linear(in_features=256, out_features=256, bias=True)\n",
       "      (energy_layer): Linear(in_features=256, out_features=1, bias=True)\n",
       "    )\n",
       "    (fc): Linear(in_features=256, out_features=1, bias=True)\n",
       "    (sigmoid): Sigmoid()\n",
       "  )\n",
       ")"
      ]
     },
     "execution_count": 17,
     "metadata": {},
     "output_type": "execute_result"
    }
   ],
   "source": [
    "model = LSTMModel(input_dim=len(vocab) + 1,   # 1 extra for padding\n",
    "                  embedding_dim=64,\n",
    "                  hidden_dim=256,\n",
    "                  output_dim=1,\n",
    "                  num_layers=2,\n",
    "                  bidirectional=False,         # True for bidirectional LSTM else False for unidirectional LSTM\n",
    "                  dropout=.2)\n",
    "\n",
    "# Since dataset is large, it is beneficial to speed up the training process by optimizing the model graph\n",
    "model = torch.compile(model)\n",
    "model.to(device)"
   ]
  },
  {
   "cell_type": "markdown",
   "metadata": {
    "id": "cVe0MYCA4w5L"
   },
   "source": [
    "## 6. Create Train and Validation Loop Function"
   ]
  },
  {
   "cell_type": "code",
   "execution_count": 18,
   "metadata": {
    "id": "B6LbxATe7MNN"
   },
   "outputs": [],
   "source": [
    "from torchmetrics import Accuracy\n",
    "\n",
    "torchmetrics_accuracy = Accuracy(task=\"binary\").to(device)"
   ]
  },
  {
   "cell_type": "code",
   "execution_count": 19,
   "metadata": {
    "id": "m6IE2Aep37PS"
   },
   "outputs": [],
   "source": [
    "def train_step(model, data_loader, loss_fn, optimizer, clip, device, epoch, experiment):\n",
    "    train_loss, train_acc = 0, 0\n",
    "    train_losses, train_accuracies = [], []\n",
    "\n",
    "    model.train()\n",
    "\n",
    "    for _, (inputs, labels) in enumerate(data_loader):\n",
    "        inputs, labels = inputs.to(device), labels.to(device)\n",
    "\n",
    "        output, _ = model(inputs)\n",
    "\n",
    "        loss = loss_fn(output, labels.float())\n",
    "        train_loss += loss\n",
    "\n",
    "        preds = torch.round(output.squeeze())\n",
    "        train_acc += torchmetrics_accuracy(preds, labels)\n",
    "\n",
    "        optimizer.zero_grad()\n",
    "        loss.backward()\n",
    "        clip_grad_norm_(model.parameters(), clip)\n",
    "        optimizer.step()\n",
    "\n",
    "    train_loss /= len(data_loader)\n",
    "    train_acc /= len(data_loader)\n",
    "\n",
    "    # Log metrics to a dictionary\n",
    "    metrics_dict = {\n",
    "        \"train_loss\": train_loss,\n",
    "        \"train_accuracy\": train_acc,\n",
    "    }\n",
    "\n",
    "    # Log metrics dictionary to Comet ML\n",
    "    experiment.log_metrics(metrics_dict, step=epoch)\n",
    "\n",
    "    train_losses.append(train_loss.item())\n",
    "    train_accuracies.append(train_acc.item())\n",
    "\n",
    "    return train_losses, train_accuracies\n",
    "\n",
    "\n",
    "def test_step(model, data_loader, loss_fn, device, epoch, experiment):\n",
    "    test_loss, test_acc = 0, 0\n",
    "    test_losses, test_accuracies = [], []\n",
    "    preds_list, labels_list = [], []\n",
    "\n",
    "    model.eval()\n",
    "\n",
    "    with torch.inference_mode():\n",
    "        for _, (inputs, labels) in enumerate(data_loader):\n",
    "            inputs, labels = inputs.to(device), labels.to(device)\n",
    "\n",
    "            output, _ = model(inputs)\n",
    "\n",
    "            loss = loss_fn(output, labels.float())\n",
    "            test_loss += loss\n",
    "\n",
    "            preds = torch.round(output.squeeze())\n",
    "            test_acc += torchmetrics_accuracy(preds, labels)\n",
    "\n",
    "            # Collect predictions and labels for confusion matrix\n",
    "            preds_list.extend(preds.cpu().long().numpy())\n",
    "            labels_list.extend(labels.cpu().long().numpy())\n",
    "\n",
    "        test_loss /= len(data_loader)\n",
    "        test_acc /= len(data_loader)\n",
    "\n",
    "        # Log metrics to a dictionary\n",
    "        metrics_dict = {\n",
    "            \"test_loss\": test_loss,\n",
    "            \"test_accuracy\": test_acc,\n",
    "        }\n",
    "\n",
    "        # Log metrics dictionary to Comet ML\n",
    "        experiment.log_metrics(metrics_dict, step=epoch)\n",
    "\n",
    "        test_losses.append(test_loss.item())\n",
    "        test_accuracies.append(test_acc.item())\n",
    "\n",
    "        return test_losses, test_accuracies, preds_list, labels_list"
   ]
  },
  {
   "cell_type": "code",
   "execution_count": 20,
   "metadata": {
    "id": "G4jaGQ5QbeZh"
   },
   "outputs": [],
   "source": [
    "def train(model, train_dataloader, test_dataloader, classes, loss_fn, optimizer, clip, epochs, device, experiment):\n",
    "    results = {\"train_losses_history\": [],\n",
    "               \"train_accuracies_history\": [],\n",
    "               \"test_losses_history\": [],\n",
    "               \"test_accuracies_history\": []\n",
    "\n",
    "    }\n",
    "    test_acc_min = 0\n",
    "\n",
    "    for epoch in tqdm(range(1, epochs+1)):\n",
    "        train_losses, train_accuracies = train_step(model,\n",
    "                                                    train_dataloader,\n",
    "                                                    loss_fn, optimizer, clip,\n",
    "                                                    device,\n",
    "                                                    epoch,\n",
    "                                                    experiment)\n",
    "        test_losses, test_accuracies, preds_list, labels_list = test_step(model,\n",
    "                                                                          test_dataloader,\n",
    "                                                                          loss_fn,\n",
    "                                                                          device,\n",
    "                                                                          epoch,\n",
    "                                                                          experiment)\n",
    "\n",
    "        # Calculate avg. loss and accuracy\n",
    "        avg_train_loss = sum(train_losses) / len(train_losses)\n",
    "        avg_train_accuracy = sum(train_accuracies) / len(train_accuracies)\n",
    "        avg_test_loss = sum(test_losses) / len(test_losses)\n",
    "        avg_test_accuracy = sum(test_accuracies) / len(test_accuracies)\n",
    "\n",
    "        print(f'\\nTrain loss: {avg_train_loss:.4f} ---- Train acc: {avg_train_accuracy:.4f}')\n",
    "        print(f'Test loss: {avg_test_loss:.4f} ---- Test acc: {avg_test_accuracy:.4f}\\n')\n",
    "\n",
    "        # Save model if avg_test_accuracy is higher\n",
    "        if avg_test_accuracy > test_acc_min:\n",
    "            torch.save(model.state_dict(), 'best_model.pth')\n",
    "            test_acc_min = avg_test_accuracy\n",
    "            print(f\"Saved best model at epoch: {epoch}\\n\")\n",
    "\n",
    "            # Log the confusion matrix to Comet\n",
    "            experiment.log_confusion_matrix(\n",
    "                y_true=np.array(labels_list),\n",
    "                y_predicted=np.array(preds_list),\n",
    "                labels=classes,\n",
    "            )\n",
    "\n",
    "        results[\"train_losses_history\"].append(avg_train_loss)\n",
    "        results[\"train_accuracies_history\"].append(avg_train_accuracy)\n",
    "        results[\"test_losses_history\"].append(avg_test_loss)\n",
    "        results[\"test_accuracies_history\"].append(avg_test_accuracy)\n",
    "\n",
    "    return results"
   ]
  },
  {
   "cell_type": "markdown",
   "metadata": {
    "id": "p2oybwIQ-Pwd"
   },
   "source": [
    "## 7. Train and Evaluate the Model"
   ]
  },
  {
   "cell_type": "code",
   "execution_count": 21,
   "metadata": {
    "id": "eW7H3-ln5zm5"
   },
   "outputs": [],
   "source": [
    "# Loss function and Optimizer\n",
    "loss_fn = nn.BCELoss()\n",
    "optimizer = torch.optim.Adam(params=model.parameters(), lr=5e-4)"
   ]
  },
  {
   "cell_type": "code",
   "execution_count": 22,
   "metadata": {
    "colab": {
     "base_uri": "https://localhost:8080/"
    },
    "id": "A9sgrcakbrSP",
    "outputId": "31445e45-569c-4f1e-9d0a-6d115d0c2431"
   },
   "outputs": [
    {
     "name": "stderr",
     "output_type": "stream",
     "text": [
      "\u001b[1;38;5;214mCOMET WARNING:\u001b[0m To get all data logged automatically, import comet_ml before the following modules: torch, sklearn.\n",
      "\u001b[1;38;5;214mCOMET WARNING:\u001b[0m As you are running in a Jupyter environment, you will need to call `experiment.end()` when finished to ensure all metrics and code are logged before exiting.\n",
      "\u001b[1;38;5;39mCOMET INFO:\u001b[0m Experiment is live on comet.com https://www.comet.com/luluw8071/tweet-sentiment-analysis/122941b33a3c4e7f991cf9789c6b441f\n",
      "\n"
     ]
    }
   ],
   "source": [
    "import comet_ml\n",
    "\n",
    "comet_ml.login(project_name=\"tweet-sentiment-analysis\")\n",
    "exp = comet_ml.Experiment()"
   ]
  },
  {
   "cell_type": "code",
   "execution_count": 24,
   "metadata": {
    "colab": {
     "base_uri": "https://localhost:8080/"
    },
    "id": "CmihVKQY561l",
    "outputId": "9e491412-9791-4a77-bbf6-dcd0f8b4281a"
   },
   "outputs": [
    {
     "name": "stderr",
     "output_type": "stream",
     "text": [
      "\r  0%|          | 0/10 [00:00<?, ?it/s]"
     ]
    },
    {
     "name": "stdout",
     "output_type": "stream",
     "text": [
      "\n",
      "Train loss: 0.2841 ---- Train acc: 0.8784\n",
      "Test loss: 0.2568 ---- Test acc: 0.8907\n",
      "\n",
      "Saved best model at epoch: 1\n",
      "\n"
     ]
    },
    {
     "name": "stderr",
     "output_type": "stream",
     "text": [
      "\r 10%|█         | 1/10 [06:29<58:23, 389.23s/it]"
     ]
    },
    {
     "name": "stdout",
     "output_type": "stream",
     "text": [
      "\n",
      "Train loss: 0.2454 ---- Train acc: 0.8963\n",
      "Test loss: 0.2399 ---- Test acc: 0.8986\n",
      "\n",
      "Saved best model at epoch: 2\n",
      "\n"
     ]
    },
    {
     "name": "stderr",
     "output_type": "stream",
     "text": [
      "\r 20%|██        | 2/10 [12:54<51:35, 386.96s/it]"
     ]
    },
    {
     "name": "stdout",
     "output_type": "stream",
     "text": [
      "\n",
      "Train loss: 0.2303 ---- Train acc: 0.9029\n",
      "Test loss: 0.2334 ---- Test acc: 0.9014\n",
      "\n",
      "Saved best model at epoch: 3\n",
      "\n"
     ]
    },
    {
     "name": "stderr",
     "output_type": "stream",
     "text": [
      "\r 30%|███       | 3/10 [19:18<44:57, 385.39s/it]"
     ]
    },
    {
     "name": "stdout",
     "output_type": "stream",
     "text": [
      "\n",
      "Train loss: 0.2185 ---- Train acc: 0.9084\n",
      "Test loss: 0.2281 ---- Test acc: 0.9043\n",
      "\n",
      "Saved best model at epoch: 4\n",
      "\n"
     ]
    },
    {
     "name": "stderr",
     "output_type": "stream",
     "text": [
      "\r 40%|████      | 4/10 [25:41<38:27, 384.50s/it]"
     ]
    },
    {
     "name": "stdout",
     "output_type": "stream",
     "text": [
      "\n",
      "Train loss: 0.2085 ---- Train acc: 0.9128\n",
      "Test loss: 0.2239 ---- Test acc: 0.9060\n",
      "\n",
      "Saved best model at epoch: 5\n",
      "\n"
     ]
    },
    {
     "name": "stderr",
     "output_type": "stream",
     "text": [
      "\r 50%|█████     | 5/10 [32:05<32:01, 384.25s/it]"
     ]
    },
    {
     "name": "stdout",
     "output_type": "stream",
     "text": [
      "\n",
      "Train loss: 0.1984 ---- Train acc: 0.9172\n",
      "Test loss: 0.2190 ---- Test acc: 0.9085\n",
      "\n",
      "Saved best model at epoch: 6\n",
      "\n"
     ]
    },
    {
     "name": "stderr",
     "output_type": "stream",
     "text": [
      " 70%|███████   | 7/10 [44:52<19:12, 384.05s/it]"
     ]
    },
    {
     "name": "stdout",
     "output_type": "stream",
     "text": [
      "\n",
      "Train loss: 0.1883 ---- Train acc: 0.9218\n",
      "Test loss: 0.2198 ---- Test acc: 0.9081\n",
      "\n",
      "\n",
      "Train loss: 0.1783 ---- Train acc: 0.9267\n",
      "Test loss: 0.2223 ---- Test acc: 0.9086\n",
      "\n",
      "Saved best model at epoch: 8\n",
      "\n"
     ]
    },
    {
     "name": "stderr",
     "output_type": "stream",
     "text": [
      " 90%|█████████ | 9/10 [57:40<06:23, 383.87s/it]"
     ]
    },
    {
     "name": "stdout",
     "output_type": "stream",
     "text": [
      "\n",
      "Train loss: 0.1667 ---- Train acc: 0.9315\n",
      "Test loss: 0.2254 ---- Test acc: 0.9071\n",
      "\n"
     ]
    },
    {
     "name": "stderr",
     "output_type": "stream",
     "text": [
      "100%|██████████| 10/10 [1:04:03<00:00, 384.39s/it]"
     ]
    },
    {
     "name": "stdout",
     "output_type": "stream",
     "text": [
      "\n",
      "Train loss: 0.1548 ---- Train acc: 0.9370\n",
      "Test loss: 0.2319 ---- Test acc: 0.9069\n",
      "\n"
     ]
    },
    {
     "name": "stderr",
     "output_type": "stream",
     "text": [
      "\n"
     ]
    }
   ],
   "source": [
    "results = train(model = model,\n",
    "                train_dataloader = train_dataloader,\n",
    "                test_dataloader = valid_dataloader,\n",
    "                classes = [\"negative\", \"positive\"],\n",
    "                loss_fn = loss_fn,\n",
    "                optimizer = optimizer,\n",
    "                epochs = 10,\n",
    "                clip = 5,\n",
    "                device = device,\n",
    "                experiment = exp)"
   ]
  },
  {
   "cell_type": "code",
   "execution_count": 25,
   "metadata": {
    "colab": {
     "base_uri": "https://localhost:8080/"
    },
    "id": "hZtWHGLfg4Mh",
    "outputId": "3a0736a9-205e-45a2-dfa1-378d64e1ece1"
   },
   "outputs": [
    {
     "name": "stderr",
     "output_type": "stream",
     "text": [
      "\u001b[1;38;5;39mCOMET INFO:\u001b[0m ---------------------------------------------------------------------------------------\n",
      "\u001b[1;38;5;39mCOMET INFO:\u001b[0m Comet.ml Experiment Summary\n",
      "\u001b[1;38;5;39mCOMET INFO:\u001b[0m ---------------------------------------------------------------------------------------\n",
      "\u001b[1;38;5;39mCOMET INFO:\u001b[0m   Data:\n",
      "\u001b[1;38;5;39mCOMET INFO:\u001b[0m     display_summary_level : 1\n",
      "\u001b[1;38;5;39mCOMET INFO:\u001b[0m     name                  : loose_fruit_5777\n",
      "\u001b[1;38;5;39mCOMET INFO:\u001b[0m     url                   : https://www.comet.com/luluw8071/tweet-sentiment-analysis/122941b33a3c4e7f991cf9789c6b441f\n",
      "\u001b[1;38;5;39mCOMET INFO:\u001b[0m   Metrics [count] (min, max):\n",
      "\u001b[1;38;5;39mCOMET INFO:\u001b[0m     test_accuracy [10]  : (0.8906859159469604, 0.9086264967918396)\n",
      "\u001b[1;38;5;39mCOMET INFO:\u001b[0m     test_loss [10]      : (0.2190241813659668, 0.256752610206604)\n",
      "\u001b[1;38;5;39mCOMET INFO:\u001b[0m     train_accuracy [10] : (0.8783800005912781, 0.9370273351669312)\n",
      "\u001b[1;38;5;39mCOMET INFO:\u001b[0m     train_loss [10]     : (0.15475785732269287, 0.28412723541259766)\n",
      "\u001b[1;38;5;39mCOMET INFO:\u001b[0m   Others:\n",
      "\u001b[1;38;5;39mCOMET INFO:\u001b[0m     notebook_url : https://colab.research.google.com/notebook#fileId=1-DcQuF6y_dAvzJjITZhtb71I-Veu3nKN\n",
      "\u001b[1;38;5;39mCOMET INFO:\u001b[0m   Uploads:\n",
      "\u001b[1;38;5;39mCOMET INFO:\u001b[0m     confusion-matrix    : 7\n",
      "\u001b[1;38;5;39mCOMET INFO:\u001b[0m     environment details : 1\n",
      "\u001b[1;38;5;39mCOMET INFO:\u001b[0m     filename            : 1\n",
      "\u001b[1;38;5;39mCOMET INFO:\u001b[0m     installed packages  : 1\n",
      "\u001b[1;38;5;39mCOMET INFO:\u001b[0m     model-element       : 2 (4.03 MB)\n",
      "\u001b[1;38;5;39mCOMET INFO:\u001b[0m     notebook            : 2\n",
      "\u001b[1;38;5;39mCOMET INFO:\u001b[0m     os packages         : 1\n",
      "\u001b[1;38;5;39mCOMET INFO:\u001b[0m     source_code         : 1\n",
      "\u001b[1;38;5;39mCOMET INFO:\u001b[0m \n",
      "\u001b[1;38;5;214mCOMET WARNING:\u001b[0m To get all data logged automatically, import comet_ml before the following modules: torch, sklearn.\n"
     ]
    }
   ],
   "source": [
    "exp.log_model(\n",
    "    name=\"Binary_Sentiment_LSTM_Attention_largerdataset\",\n",
    "    file_or_folder=\"best_model.pth\"\n",
    ")\n",
    "\n",
    "exp.log_model(\n",
    "    name=\"Vocab\",\n",
    "    file_or_folder=\"vocab.pkl\"\n",
    ")\n",
    "\n",
    "exp.end()"
   ]
  },
  {
   "cell_type": "markdown",
   "metadata": {
    "id": "niBrXV4v-asL"
   },
   "source": [
    "## 8. Plot Loss and Accuracy Curves"
   ]
  },
  {
   "cell_type": "code",
   "execution_count": 26,
   "metadata": {
    "colab": {
     "base_uri": "https://localhost:8080/",
     "height": 422
    },
    "id": "5VM0Y5HJ59mV",
    "outputId": "7fdb6556-acfc-4880-b301-50bc8a77155e"
   },
   "outputs": [
    {
     "data": {
      "image/png": "[encoded data removed]",
      "text/plain": [
       "<Figure size 2000x600 with 2 Axes>"
      ]
     },
     "metadata": {},
     "output_type": "display_data"
    }
   ],
   "source": [
    "fig = plt.figure(figsize = (20, 6))\n",
    "plt.subplot(1, 2, 1)\n",
    "plt.plot(results[\"train_losses_history\"], label='Train loss')\n",
    "plt.plot(results[\"test_losses_history\"], label='Validation loss')\n",
    "plt.title(\"Loss\")\n",
    "plt.legend()\n",
    "\n",
    "plt.subplot(1, 2, 2)\n",
    "plt.plot(results[\"train_accuracies_history\"], label='Train Acc')\n",
    "plt.plot(results[\"test_accuracies_history\"], label='Validation Acc')\n",
    "plt.title(\"Accuracy\")\n",
    "plt.legend()\n",
    "\n",
    "plt.show()"
   ]
  },
  {
   "cell_type": "markdown",
   "metadata": {
    "id": "1UrCIXYQk3Y-"
   },
   "source": [
    "## 9. Load Model to `cpu`"
   ]
  },
  {
   "cell_type": "code",
   "execution_count": 42,
   "metadata": {
    "colab": {
     "base_uri": "https://localhost:8080/"
    },
    "id": "63_PktMxk9li",
    "outputId": "0cc470f7-b62f-4165-9b35-2d2d61b302f6"
   },
   "outputs": [
    {
     "data": {
      "text/plain": [
       "LSTMModel(\n",
       "  (embedding): Embedding(1001, 64)\n",
       "  (lstm): LSTM(64, 256, num_layers=2, batch_first=True, dropout=0.2)\n",
       "  (attention): AdditiveAttention(\n",
       "    (query_layer): Linear(in_features=256, out_features=256, bias=True)\n",
       "    (key_layer): Linear(in_features=256, out_features=256, bias=True)\n",
       "    (energy_layer): Linear(in_features=256, out_features=1, bias=True)\n",
       "  )\n",
       "  (fc): Linear(in_features=256, out_features=1, bias=True)\n",
       "  (sigmoid): Sigmoid()\n",
       ")"
      ]
     },
     "execution_count": 42,
     "metadata": {},
     "output_type": "execute_result"
    }
   ],
   "source": [
    "from collections import OrderedDict\n",
    "\n",
    "# Load model configs\n",
    "model = LSTMModel(input_dim=len(vocab) + 1,\n",
    "                  embedding_dim=64,\n",
    "                  hidden_dim=256,\n",
    "                  output_dim=1,\n",
    "                  num_layers=2,\n",
    "                  bidirectional=False,\n",
    "                  dropout=.2)\n",
    "\n",
    "# Load the model state dict\n",
    "checkpoint = torch.load(\"best_model.pth\", weights_only=True, map_location=\"cpu\")\n",
    "model_state_dict = checkpoint.get('state_dict', checkpoint)\n",
    "new_state_dict = OrderedDict()\n",
    "\n",
    "for k, v in model_state_dict.items():\n",
    "    if k.startswith('_orig_mod.'):\n",
    "        name = k.replace('_orig_mod.', '')\n",
    "        new_state_dict[name] = v\n",
    "\n",
    "# Load state dictionaries into the model\n",
    "model.load_state_dict(new_state_dict, strict=False)\n",
    "model.eval()"
   ]
  },
  {
   "cell_type": "markdown",
   "metadata": {
    "id": "K_-SrL4xlI8i"
   },
   "source": [
    "## 10. Make Prediction using Loaded Model"
   ]
  },
  {
   "cell_type": "code",
   "execution_count": 43,
   "metadata": {
    "id": "-rq6l3e7F4Ty"
   },
   "outputs": [],
   "source": [
    "# Load vocab pkl\n",
    "with open(\"vocab.pkl\", 'rb') as f:\n",
    "    vocab = pickle.load(f)"
   ]
  },
  {
   "cell_type": "code",
   "execution_count": 44,
   "metadata": {
    "id": "SQ5KVW-pWuIn"
   },
   "outputs": [],
   "source": [
    "def padding_(sentences, seq_len):\n",
    "    features = np.zeros((len(sentences), seq_len),dtype=int)\n",
    "    for ii, review in enumerate(sentences):\n",
    "        if len(review) != 0:\n",
    "            features[ii, -len(review):] = np.array(review)[:seq_len]\n",
    "    return features\n",
    "\n",
    "def predict_text(text):\n",
    "    word_seq = np.array([vocab[preprocess_string(word)] for word in text.split()\n",
    "                      if preprocess_string(word) in vocab.keys()])\n",
    "    word_seq = np.expand_dims(word_seq,axis=0)\n",
    "    pad =  torch.from_numpy(padding_(word_seq, 1000))\n",
    "    inputs = pad.to('cpu')\n",
    "    output, _ = model(inputs)\n",
    "    return torch.round(output.squeeze()), output.item()"
   ]
  },
  {
   "cell_type": "code",
   "execution_count": 45,
   "metadata": {
    "colab": {
     "base_uri": "https://localhost:8080/"
    },
    "id": "jAZKKQ3R-jnm",
    "outputId": "50c62444-4719-4f6b-ad42-2ae2daede603"
   },
   "outputs": [
    {
     "name": "stdout",
     "output_type": "stream",
     "text": [
      "2nd time here for brunch. I like it, but operational issues each time. Too many to list, but a few examples.\\nTwo of my guests got the Salmon Benedict, one received potatoes, one a salad with it? When we inquired, were told...we ran out of potatoes, so just gave you salad....versus, I am sorry we are out of potatoes, could we offer you something else as a substitute. Really? This food was cold, sent back to have warmed, still room temp. Try microwave instead of oven we suggested.\\nService overall was very slow, long time to get everything, especially the drinks. Waited 20 minutes for a coffee refill as well.\\nNice enough people and place, but frustrating to see how it is run, especially since they do such a great job with FEZ. Maybe bring over some of the experienced staff from FEZ until things get humming.\\nOn our first visit, we were told one of the Chef's didn't come to work, so expect things to be slow. At least they set our expectations, and the food was actually better the first time.\n",
      "Predicted sentiment: \u001b[92mnegative\u001b[0m with confidence rate: 99.587397%\n",
      "======================================================================\n",
      "Sadly this place is only serving up two good things. Catfish and yams.\\n\\nTheir greenbeans were bland.\\nOkra tasted old and dried out. \\nFried Chicken was standard.\\nGreens were good buy missing some seasoning. \\nThe cornbread was a big ol square mound of possibly uncooked sweet cornmeal.\\n\\nNot interested in going back.\n",
      "Predicted sentiment: \u001b[92mnegative\u001b[0m with confidence rate: 98.496587%\n",
      "======================================================================\n",
      "Best shop in town! Yo-yo action on Friday nights that my kids love.\n",
      "Predicted sentiment: \u001b[92mpositive\u001b[0m with confidence rate: 99.098688%\n",
      "======================================================================\n",
      "It was extremely low budget(it some scenes it looks like they recorded with a home video recorder). However it does have a good plot line, and its easy to follow. 8 years after shooting her sexually abusive step father Amanda is released from the psychiatric ward, with the help of her doctor who she is secretly having an affair with. The doctor ends up renting her a house and buying her a car. But within the first 20 minutes of the movie Amanda kills him and buries him in her backyard. Then she see's her neighbor Richard sets eyes on him and stops at nothing until she has him. She acts innocent but after another neighbor Buzz finds out that Amanda killed that doctor and attempted to kill Richards wife Laurie (this is after Amanda and him get it on in the hot tub). Then she stops acting so Innocent and kills Buzz and later on attempts to kill Richard whom she supposedly loves and cares for. And you'll have to rent the movie to find out if Amanda dies or not. Overall good movie, reminds me a lot of my life you know the whole falling for the neighbor and stopping at nothing until you have him part.\n",
      "Predicted sentiment: \u001b[92mpositive\u001b[0m with confidence rate: 52.221286%\n",
      "======================================================================\n",
      "do not move here!!\n",
      "Predicted sentiment: \u001b[91mpositive\u001b[0m with confidence rate: 55.940002%\n",
      "======================================================================\n",
      "IT'S AWFUL NOW. DO NOT GO HERE. We heard it was ok months ago, but something must have changed big time. We waited 40 minutes for the one waitress to show up. Then the food took about an hour fifteen to start showing up and they never got our kids food to the table, in an hour and a half.  To top it off, the food was terrible. The only thing edible was the garlic breadsticks. The food and service was so bad I kept waiting for a Candid Camera crew to walk out. THe poor waitress kept apologizing for the delays and food quality, though we never complained, except to ask to cancel the food that never showed up. The restaurant only had one waitress, two clowns in the open kitchen and a busboy. No manager. I would not be surprised to find out that this place is under new or absent management. What a disaster.\n",
      "Predicted sentiment: \u001b[92mnegative\u001b[0m with confidence rate: 99.990536%\n",
      "======================================================================\n",
      "I didn't realize just how much of this episode was taken from The Enemy Below until I finally saw the movie (it has since become my fave war flick). There were a couple of elements lifted from Run Silent Run Deep as well. Nothing wrong with stealing ideas, as long as you do something cool with them. And boy did Roddenberry and company do something cool with this one.<br /><br />The story begins when the Romulans violate a 100-year old treaty and by crossing the neutral zone and destroying a series of Federation outposts along the zone, ostensibly to test their superior weaponry and invisibility screen (and subsequent shift in the balance of power between the Romulans and the Federation, in their view) as a prelude to an all-out invasion. Kirk has to decide whether it's worth risking war to try and stop the Romulan ship, or if in fact the greater risk lies in letting the invaders go after they destroyed 4 military outposts. Kirk wisely chooses the latter.<br /><br />This is our first look at an enemy of the Federation, the Romulans, a warlike, yet in their own way honorable race who are distant relatives to the Vulcans. However, unlike their peaceful cousins, the Romulans did not renounce their emotions and violent and imperialistic ways, even as they advanced technologically.<br /><br />None of this matters to Mr. Stiles, the ship's navigator and this episode's chief antagonist on board the enterprise (the Romulan commander has his own problems with a gung-ho junior officer). All that matters to him is he hates Romulans and Spock looks like one..until the end when Spock saves his life (naturally). This contrasts sharply with Captain Kirk and the Romulan commander, neither of whom has any personal ill will towards the other at all. Both men are simply doing their duty. In fact there's a mutual respect. This is the first Trek episode to deal directly with prejudice, and it does so deftly (as opposed to season 3's not-so-subtle \"Let That be Your Last Battlefield\").<br /><br />Like The Enemy Below, we have a classic chess match between two ship commanders who are actually very much alike. You see right away that both of these captains are good..VERY good. If you were going into battle you'd want either of these man as your leader. Both are honorable and decent men who are duty bound. Yet even though the Romulan commander is bound by duty to his home world, he still finds himself wishing for destruction before he can make it home rather than start another interstellar war. Yet he still does everything he can to make it home, just as Kirk does everything he can to stop him.<br /><br />This is, in my opinion, one of Trek's 5 best. It has everything: Plenty of action, suspense, great dialogue, fine acting (I still maintain the Romulan Commander was Mark Lenard's best Trek role), and it manages to make its social commentary without being overly preachy. A pity Roddenberry forgot about the last part when he did TNG.<br /><br />Watch this episode, then watch The Enemy Below.\n",
      "Predicted sentiment: \u001b[92mpositive\u001b[0m with confidence rate: 96.072406%\n",
      "======================================================================\n",
      "I have only one thing to say... Garbage Burger. Max and Erma fans know exactly what I'm talking about. When in the burgh go to Max and Erma's for a garbage burger!\n",
      "Predicted sentiment: \u001b[92mpositive\u001b[0m with confidence rate: 89.013886%\n",
      "======================================================================\n",
      "Ordered the breakfast special for the day- a Tex-Mex skillet with chorizo ($7.99, add $.99 for chorizo).  The chorizo was freshly made in-house, and tasted delicious.  Having made chorizo from scratch myself, I appreciate the effort and the right combination of spices it takes to make a good batch.  It was the perfect mix of spices and saltiness.  The skillet came with a hearty portion of potatoes, veggies, sour cream, and cheese, and looked excellent presentation-wise.  Service was excellent like last time, and the young gentleman here (Maybe the manager or the owner?) stopped us as we were leaving to thank me personally for my Yelp review.  Upgrade one star!\n",
      "Predicted sentiment: \u001b[92mpositive\u001b[0m with confidence rate: 83.854783%\n",
      "======================================================================\n",
      "Went for lunch on a Saturday afternoon and the place was near empty. Sat upstairs in a booth by the Kaiser belt. Was told it was $17 per person for all you can eat sushi plus a la care items. The food on the belt was good - not great - but found the food pretty boring and unimaginative. I know it's just sushi, but they didn't have a lot of variety. I would not return.\n",
      "Predicted sentiment: \u001b[92mnegative\u001b[0m with confidence rate: 99.681061%\n",
      "======================================================================\n",
      "This place is perfect. Friendly staff, great care for your cats, and extremely knowledgeable. Also, if you're a client of theirs, they will trim your cats nails free of charge. I don't know about your cat, but mine does NOT let me get close to those nails. I couldn't ask for a better experience!\n",
      "Predicted sentiment: \u001b[92mpositive\u001b[0m with confidence rate: 99.665606%\n",
      "======================================================================\n",
      "After living in China for 6 years, I never thought I would find authentic Chinese food once back in MTL. Kanbai is my home away from home:) try the Fish dish they are famous for, egg and tomatoes, sweet and sour pork ribs and any eggplant dish. Delicious.\n",
      "Predicted sentiment: \u001b[92mpositive\u001b[0m with confidence rate: 99.406958%\n",
      "======================================================================\n",
      "There is a key aspect of film that Jobson seems to have forgotten - it has the ability to tell a story by showing it to you. You don't need to tell the audience what to think, because they'll see it. The action here is interspersed with some of the most ponderous narration unleashed on the unsuspecting public - the purple prose of the sensitive fifth former. And it should be unnecessary because their is a fine cast here and some beautifully composed and shot visuals. Maybe Jobbo felt that the basic story needed a lit bit of support. And he may have been right, it lacks a basic credibility: 70s Edinburgh wasn't exactly full of beautiful brainy girls with a penchant for the Velvet Underground and a soft spot for a passing sociopath. From the too neat and new looking clothes that character wears to the cod intellectualism that tries to link it all together, it's all too contrived for my taste.\n",
      "Predicted sentiment: \u001b[91mpositive\u001b[0m with confidence rate: 53.923619%\n",
      "======================================================================\n",
      "Let me say this first, the restaurant is near the University, and I don't thinki a lot of the reviews here of the NEW Kabul's are from experienced diners.  I was a Kabul's \\\"regular\\\" who loved dining there in former location.  That said, this Kabul's was a horrible experience.  We ordered drinks, and watched the bartender take a straw and sip out of the blender - classy!  The Lemondrops we ordered did not come with the rims sugared but were good.  The hummus was disgusting - I used ot LOVE their hummus.  This had no flavor and was whipped with so much air it didn't resemble the texture of hummus.  The bread was, meh.  Then came the soup.  I don't know if they were running low or what, but it was so watery our entire table returned it.  my bowl had 8 chickpeas, 2 kidney beans and one piece of undisclosed meat about 1/2\\\" big.  It tasted like Campbell's canned soup where they added one can too many of water.  BLECH!  We all returned it.  Then came our main courses.  I had the Curry Ginger chicken - a former FAVORITE.  No more!  All one could taste is curry and cumin and it was really hot.  Didn't even resemble to former dish.  My friends got the lamb kabobs and said they were \\\"warm\\\" but not hot;  \\\"goog\\\" but not great.  The owner was sitting in the diningroom and I think he needed to be supervising the kitchen.  We weren't sure if they were trying to be some \\\"chic new-age\\\" MiddleEastern Restaurant and failed, or if it was plain bad food.  The service?  Let's see...the soup was spilled on my coat (with no clean up); they dropped the steak knife on a guest with some food and got the splits wrong for the check.  THe place was so loud you couldn't hear people, and several tables commented on it....we heard them because they were yelling.  I'm sad, because this used to be a wonderful restaurant where the delicate flavors of the Middleeast bleneded wonderfully.  Now?  There are so many in Madison that are better.  Unless you're a college student on a budget....even then you can do better.  Maybe it was a bad night...I dunno.  I might try it again, but it will be awhile before we do.  They need to get their kitchen in shape and staff trained before we do.\n",
      "Predicted sentiment: \u001b[92mnegative\u001b[0m with confidence rate: 99.865315%\n",
      "======================================================================\n",
      "Puisque j'habite \\u00e0 Verdun, je n'ai pas beaucoup d'option quand j'ai le go\\u00fbt d'aller prendre un verre \\u00e0 une distance raisonnable de marche. Il y a peut-\\u00eatre un bar ou deux d'un peu plus pr\\u00e8s de chez moi, mais rien qui ne se compare \\u00e0 ce que l'on trouve \\u00e0 Le Drinkerie.\\n\\nL'ambiance est \\u00e0 la fois d\\u00e9contract\\u00e9e et cool sans \\u00eatre trop \\\"hipster\\\" ou pr\\u00e9tentieux. On peut y entendre de la musique live certains soir (jazz si je me souviens bien) ou m\\u00eame regarder un match de hockey quand le Canadien joue. On s'y rend pour un verre lors d'un apr\\u00e8s-midi ensoleill\\u00e9, pour une date romantique un soir d'hiver ou m\\u00eame pour une grosse soir\\u00e9e entour\\u00e9e de pleins d'amis. \\n\\nAu menu, cocktails, vins et bi\\u00e8res. Je dois avouer que j'ai toujours bien aim\\u00e9 leurs cocktails, qui changent selon les saisons, mais le menu du moment, J'ADORE! C'est cr\\u00e9atif comme concoctions et m\\u00eame si certains donne l'impression sur papier d'\\u00eatre sucr\\u00e9s, en r\\u00e9alit\\u00e9s il sont simplement divins et bien balanc\\u00e9s. Ils jouent beaucoup avec des herbes et des infusions maison alors \\u00e7a donne un go\\u00fbt tout sp\\u00e9cial \\u00e0 leurs cocktails. Allez-y avant 22h et c'est 2$ de moins par cocktail.\\n\\nEt la grosse surprise de ma derni\\u00e8re visite, l'assiette de charcuterie \\u00e9tait parfaite. Beaucoup de viande, tous des saucissons, et tous bien diff\\u00e9rents les uns des autres. Avec quelques bouts de pain, de la moutarde et des pickles, je ne pourrais pas demand\\u00e9 mieux. Surtout pour aussi peu que 10$! Pour une carnivore comme moi qui aime grignoter en prenant un verre, c'est le parfait!\n",
      "Predicted sentiment: \u001b[92mpositive\u001b[0m with confidence rate: 89.887452%\n",
      "======================================================================\n"
     ]
    }
   ],
   "source": [
    "import random\n",
    "\n",
    "# Randomly select 15 index from dataset to predict\n",
    "for _ in range(15):\n",
    "    index = random.randint(0, len(df) - 1)\n",
    "    review = df['review'][index]\n",
    "    actual_sentiment = df['sentiment'][index]\n",
    "\n",
    "    print(review)\n",
    "    # print(f'Actual sentiment: {actual_sentiment}')\n",
    "\n",
    "    # Prediction with debug output\n",
    "    preds, prob = predict_text(review)\n",
    "    predicted_label_text = \"positive\" if preds == 1.0 else \"negative\"\n",
    "    prob = prob if preds == 1.0 else 1 - prob\n",
    "\n",
    "    # Color-coding output based on prediction matching actual sentiment\n",
    "    color = '\\033[92m' if actual_sentiment == predicted_label_text else '\\033[91m'\n",
    "    print(f'Predicted sentiment: {color}{predicted_label_text}\\033[0m with confidence rate: {prob*100:3f}%')\n",
    "    print('=' * 70)"
   ]
  },
  {
   "cell_type": "code",
   "execution_count": 46,
   "metadata": {
    "id": "oKPYtFXnY7JR"
   },
   "outputs": [],
   "source": [
    "def predict_custom_text(custom_text):\n",
    "    preds, prob = predict_text(custom_text)\n",
    "    label = \"positive\" if preds == 1.0 else \"negative\"\n",
    "    prob = prob if preds == 1.0 else 1 - prob\n",
    "    print(f'Predicted: {label} \\nProbability {prob*100 :.3f}%')"
   ]
  },
  {
   "cell_type": "code",
   "execution_count": 47,
   "metadata": {
    "colab": {
     "base_uri": "https://localhost:8080/"
    },
    "id": "wPhqzNtbZSGc",
    "outputId": "830925c2-617a-4ec4-b060-e672281f174e"
   },
   "outputs": [
    {
     "name": "stdout",
     "output_type": "stream",
     "text": [
      "Predicted: negative \n",
      "Probability 99.822%\n"
     ]
    }
   ],
   "source": [
    "# Custom Negative Text\n",
    "custom_text = \"\"\"\n",
    "I recently purchased this phone and it has been nothing but a disappointment.\n",
    "The battery drains incredibly fast, even when it's not in use.\n",
    "The screen flickers and sometimes goes completely black, forcing me to restart it.\n",
    "The camera quality is horrible, with blurry photos and grainy videos, even in good lighting.\n",
    "The device also heats up quickly when using simple apps like the browser or social media.\n",
    "I contacted customer support, but their response was slow and unhelpful.\n",
    "It's frustrating to spend so much money on a product that doesn't work as advertised. I would definitely not recommend this phone to anyone.\n",
    "\"\"\"\n",
    "predict_custom_text(custom_text)"
   ]
  },
  {
   "cell_type": "code",
   "execution_count": 48,
   "metadata": {
    "colab": {
     "base_uri": "https://localhost:8080/"
    },
    "id": "AMiIvFV7uJVB",
    "outputId": "e9c8d259-4cba-4994-97c1-9df8320150dd"
   },
   "outputs": [
    {
     "name": "stdout",
     "output_type": "stream",
     "text": [
      "Predicted: positive \n",
      "Probability 99.955%\n"
     ]
    }
   ],
   "source": [
    "# Custom Positive Text\n",
    "custom_text = \"\"\"\n",
    "I absolutely love this new laptop! It has exceeded all my expectations in terms of speed and performance. The processor is incredibly fast, and I can switch between multiple applications without any lag. The display is crystal clear, and the colors are vibrant, making it perfect for both work and entertainment. The keyboard feels smooth to type on, and the trackpad is highly responsive.\n",
    "The battery life is also impressive, lasting a full day with moderate use.\n",
    "I was a bit hesitant at first, but after using it for a few weeks, I can confidently say it's the best laptop I've owned in years.\n",
    "Highly recommend!\n",
    "\"\"\"\n",
    "predict_custom_text(custom_text)"
   ]
  },
  {
   "cell_type": "code",
   "execution_count": 49,
   "metadata": {
    "colab": {
     "base_uri": "https://localhost:8080/"
    },
    "id": "pe5JW86SHpBa",
    "outputId": "d18413b2-fbd0-409f-bce4-c1d332fa2a9e"
   },
   "outputs": [
    {
     "name": "stdout",
     "output_type": "stream",
     "text": [
      "Predicted: positive \n",
      "Probability 99.627%\n"
     ]
    }
   ],
   "source": [
    "# Custom Positive Text\n",
    "custom_text = \"\"\"\n",
    "I absolutely love this new laptop!\n",
    "\"\"\"\n",
    "predict_custom_text(custom_text)"
   ]
  },
  {
   "cell_type": "markdown",
   "metadata": {
    "id": "EL1lC2ZG6lyv"
   },
   "source": [
    "### Fail Case Scenario\n",
    "\n",
    "In Previous model it seems, if text length is too small, it fails to predict the sentiment. And, this was down to\n",
    "- poor quality embeddings and data\n",
    "- simple sequential model\n",
    "\n",
    "But now it seems it is classifying the sentiments properly."
   ]
  },
  {
   "cell_type": "code",
   "execution_count": 67,
   "metadata": {
    "colab": {
     "base_uri": "https://localhost:8080/"
    },
    "id": "-0iifWKZ0pXK",
    "outputId": "0a27f2e2-24ff-40ac-9e41-a50d9a959463"
   },
   "outputs": [
    {
     "name": "stdout",
     "output_type": "stream",
     "text": [
      "Predicted: negative \n",
      "Probability 96.336%\n"
     ]
    }
   ],
   "source": [
    "custom_text = \"\"\"\n",
    "I absolutely hated this slow laptop.\n",
    "\"\"\"\n",
    "predict_custom_text(custom_text)"
   ]
  },
  {
   "cell_type": "code",
   "execution_count": 65,
   "metadata": {
    "colab": {
     "base_uri": "https://localhost:8080/"
    },
    "id": "Yq_wOsLO7Hze",
    "outputId": "e783539f-118f-40e5-a0ca-7765c491d97f"
   },
   "outputs": [
    {
     "name": "stdout",
     "output_type": "stream",
     "text": [
      "Predicted: negative \n",
      "Probability 93.605%\n"
     ]
    }
   ],
   "source": [
    "custom_text = \"\"\"\n",
    "I absolutely hated this slow laptop. Never recommending to buy it.\n",
    "\"\"\"\n",
    "predict_custom_text(custom_text)"
   ]
  },
  {
   "cell_type": "code",
   "execution_count": 66,
   "metadata": {
    "colab": {
     "base_uri": "https://localhost:8080/"
    },
    "id": "RJF0sZfR6kRE",
    "outputId": "4a9815dc-51fe-439a-c816-90a33b513f6f"
   },
   "outputs": [
    {
     "name": "stdout",
     "output_type": "stream",
     "text": [
      "Predicted: negative \n",
      "Probability 96.946%\n"
     ]
    }
   ],
   "source": [
    "custom_text = \"\"\"\n",
    "I absolutely hated the trash product. NEver buy it. The motherboard has some issues so donot waste money on this product.\n",
    "\"\"\"\n",
    "predict_custom_text(custom_text)"
   ]
  },
  {
   "cell_type": "code",
   "execution_count": 70,
   "metadata": {
    "colab": {
     "base_uri": "https://localhost:8080/"
    },
    "id": "ONlOXgD00wrI",
    "outputId": "70c0b8da-73f3-4ac4-90e9-f967059c3a5f"
   },
   "outputs": [
    {
     "name": "stdout",
     "output_type": "stream",
     "text": [
      "Predicted: positive \n",
      "Probability 62.689%\n"
     ]
    }
   ],
   "source": [
    "# Tryoing out complex sentiments example\n",
    "custom_text = \"\"\"\n",
    "Even though the laptop is slow, I have a lot of emotional attachment to it.\n",
    "So, I can't just throw away my precious laptop and i love every moment of memories with this laptop.\n",
    "\"\"\"\n",
    "predict_custom_text(custom_text)"
   ]
  }
 ],
 "metadata": {
  "accelerator": "GPU",
  "colab": {
   "gpuType": "L4",
   "machine_shape": "hm",
   "provenance": []
  },
  "kernelspec": {
   "display_name": "Python 3",
   "name": "python3"
  },
  "language_info": {
   "name": "python"
  }
 },
 "nbformat": 4,
 "nbformat_minor": 0
}
